{
 "cells": [
  {
   "cell_type": "code",
   "execution_count": null,
   "metadata": {},
   "outputs": [],
   "source": [
    "ord('a')"
   ]
  },
  {
   "cell_type": "code",
   "execution_count": 6,
   "metadata": {},
   "outputs": [
    {
     "data": {
      "text/plain": [
       "'b'"
      ]
     },
     "execution_count": 6,
     "metadata": {},
     "output_type": "execute_result"
    }
   ],
   "source": [
    "chr(98)"
   ]
  },
  {
   "cell_type": "code",
   "execution_count": 31,
   "metadata": {},
   "outputs": [
    {
     "data": {
      "text/plain": [
       "'b'"
      ]
     },
     "execution_count": 31,
     "metadata": {},
     "output_type": "execute_result"
    }
   ],
   "source": [
    "chr(((ord('z') - ord('a') + 2) % 26) + ord('a'))"
   ]
  },
  {
   "cell_type": "code",
   "execution_count": 32,
   "metadata": {},
   "outputs": [],
   "source": [
    "def code_lettre(l : str, k : int) -> str:\n",
    "    \"\"\" Precondition : len(l) == 1\n",
    "    Retourne la n-ieme lettre suivante modulo 26\"\"\"\n",
    "    return chr(((ord(l) - ord('a') + k) % 26) + ord('a'))"
   ]
  },
  {
   "cell_type": "code",
   "execution_count": 33,
   "metadata": {},
   "outputs": [],
   "source": [
    "def chiffre_phrase(phrase : str, k : int) -> str:\n",
    "    \"\"\"\n",
    "    Retourne une nouvelle chaîne dans laquelle on remplace chacune  des  lettres  \n",
    "    par  la  n-iemesuivante de fa ̧con circulaire sur l’alphabet\"\"\"\n",
    "    phrase_chiff : str = \"\"\n",
    "    curr_char : str\n",
    "    for curr_char in phrase:\n",
    "        phrase_chiff = phrase_chiff + code_lettre(curr_char, k)\n",
    "    return phrase_chiff"
   ]
  },
  {
   "cell_type": "code",
   "execution_count": 34,
   "metadata": {},
   "outputs": [
    {
     "data": {
      "text/plain": [
       "'psmhpaaylzilhbjlqvby'"
      ]
     },
     "execution_count": 34,
     "metadata": {},
     "output_type": "execute_result"
    }
   ],
   "source": [
    "chiffre_phrase(\"ilfaittresbeaucejour\",7)"
   ]
  },
  {
   "cell_type": "code",
   "execution_count": 35,
   "metadata": {},
   "outputs": [
    {
     "data": {
      "text/plain": [
       "'ilfaittresbeaucejour'"
      ]
     },
     "execution_count": 35,
     "metadata": {},
     "output_type": "execute_result"
    }
   ],
   "source": [
    "chiffre_phrase(\"ilfaittresbeaucejour\",26)"
   ]
  },
  {
   "cell_type": "code",
   "execution_count": null,
   "metadata": {},
   "outputs": [],
   "source": []
  }
 ],
 "metadata": {
  "kernelspec": {
   "display_name": "Python 3.7.7 64-bit ('base')",
   "language": "python",
   "name": "python37764bitbasef6fd1bea82ee4fe7adc69a0c0d7a90e7"
  },
  "language_info": {
   "codemirror_mode": {
    "name": "ipython",
    "version": 3
   },
   "file_extension": ".py",
   "mimetype": "text/x-python",
   "name": "python",
   "nbconvert_exporter": "python",
   "pygments_lexer": "ipython3",
   "version": "3.7.9"
  }
 },
 "nbformat": 4,
 "nbformat_minor": 4
}
