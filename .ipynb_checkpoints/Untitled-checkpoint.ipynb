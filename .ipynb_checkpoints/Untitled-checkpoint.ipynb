{
 "cells": [
  {
   "cell_type": "markdown",
   "metadata": {},
   "source": [
    "#### Exercice 4.5 : Couples et intervalles:\n",
    "\n",
    "<center>\n",
    "    <img src=\"./pics/4.5.png\"\n",
    "         width=\"500\"\n",
    "         height=\"500\"/>\n",
    "</center>\n"
   ]
  },
  {
   "cell_type": "code",
   "execution_count": null,
   "metadata": {},
   "outputs": [],
   "source": [
    "def nb_couples_intervalle(n : int, p : int) -> int:\n",
    "    \"\"\"Précondition : n <= p\n",
    "    Renvoie le nombre de couples distincts (i,j) d'entiers\n",
    "    appartenant à l'intervalle [n,p] tels que i<j.\"\"\"\n",
    "    # premier élément du couple\n",
    "    i : int = n\n",
    "    # second élément du couple\n",
    "    j : int = n + 1\n",
    "    # compte le nombre de couple\n",
    "    compte : int = 0\n",
    "    while i <= p:\n",
    "        j = i + 1 # il faut réinitialiser j à chaque tour de boucle pour i\n",
    "        while j <= p:\n",
    "            compte = compte + 1 # on a un nouveau couple\n",
    "            j = j + 1\n",
    "        i = i + 1\n",
    "    return compte"
   ]
  },
  {
   "cell_type": "code",
   "execution_count": null,
   "metadata": {},
   "outputs": [],
   "source": [
    "assert nb_couples_intervalle(0,0) == 0\n",
    "assert nb_couples_intervalle(2,4) == 3\n",
    "assert nb_couples_intervalle(-1,3) == 10"
   ]
  },
  {
   "cell_type": "markdown",
   "metadata": {},
   "source": [
    "<center>\n",
    "    <img src=\"./pics/4.5.2.png\"\n",
    "         width=\"500\"\n",
    "         height=\"500\"/>\n",
    "</center>\n"
   ]
  },
  {
   "cell_type": "code",
   "execution_count": null,
   "metadata": {},
   "outputs": [],
   "source": [
    "def nb_couples_divise(n : int, p : int) -> int:\n",
    "    \"\"\"Précondition : n <= p\n",
    "    Renvoie le nombre de couples (i,j) d'entiers appartenant\n",
    "    à l'intervalle [n,p] tels que i != j et i divise j.\n",
    "    \"\"\"\n",
    "    # premier élément du couple\n",
    "    i : int = n\n",
    "    # second élément du couple\n",
    "    j : int = n + 1\n",
    "    # compte le nombre de couple\n",
    "    compte : int = 0\n",
    "    while i <= p:\n",
    "        if i == 0:\n",
    "            i = i + 1 # 0 n'est diviseur d'aucun nombre\n",
    "                      # (et produit une erreur si on teste !)\n",
    "        j= i + 1 # il faut réinitialiser j à chaque tour de boucle pour i\n",
    "        while j <= p:\n",
    "            if j % i == 0:\n",
    "                compte = compte + 1 # on a un nouveau couple\n",
    "            j = j + 1\n",
    "        i = i + 1\n",
    "    return compte"
   ]
  },
  {
   "cell_type": "code",
   "execution_count": null,
   "metadata": {},
   "outputs": [],
   "source": [
    "assert nb_couples_divise(0,0) == 0\n",
    "assert nb_couples_divise(2,6) == 3\n",
    "assert nb_couples_divise(-1,1) == 2\n",
    "assert nb_couples_divise(1,10) == 17\n",
    "assert nb_couples_divise(21,34) == 0"
   ]
  },
  {
   "cell_type": "markdown",
   "metadata": {},
   "source": [
    "<center>\n",
    "    <img src=\"./pics/4.5.3.png\"\n",
    "         width=\"500\"\n",
    "         height=\"500\"/>\n",
    "</center>\n"
   ]
  },
  {
   "cell_type": "code",
   "execution_count": 30,
   "metadata": {},
   "outputs": [],
   "source": [
    "def nb_couples_divise_trace(n : int, p : int) -> int:\n",
    "    \"\"\"Précondition : n <= p\n",
    "    Renvoie le nombre de couples (i,j) d'entiers appartenant\n",
    "    à l'intervalle [n,p] tels que i != j et i divise j.\n",
    "    \"\"\"\n",
    "    # premier élément du couple\n",
    "    i : int = n\n",
    "    # second élément du couple\n",
    "    j : int = n + 1\n",
    "    # compte le nombre de couple\n",
    "    compte : int = 0\n",
    "    while i <= p:\n",
    "        if i == 0:\n",
    "            i = i + 1 # 0 n'est diviseur d'aucun nombre\n",
    "                      # (et produit une erreur si on teste !)\n",
    "        j= i + 1 # il faut réinitialiser j à chaque tour de boucle pour i\n",
    "        while j <= p:\n",
    "            print(\"couple (\",i,\",\",j,\")\")\n",
    "            if j % i == 0:\n",
    "                compte = compte + 1 # on a un nouveau couple\n",
    "                print(\"------------\")\n",
    "                print(i,\"divise\",j,\"!\")\n",
    "                print(\"------------\")\n",
    "            j = j + 1\n",
    "        i = i + 1\n",
    "    return compte"
   ]
  },
  {
   "cell_type": "code",
   "execution_count": 31,
   "metadata": {},
   "outputs": [
    {
     "name": "stdout",
     "output_type": "stream",
     "text": [
      "couple ( 2 , 3 )\n",
      "couple ( 2 , 4 )\n",
      "------------\n",
      "2 divise 4 !\n",
      "------------\n",
      "couple ( 2 , 5 )\n",
      "couple ( 2 , 6 )\n",
      "------------\n",
      "2 divise 6 !\n",
      "------------\n",
      "couple ( 3 , 4 )\n",
      "couple ( 3 , 5 )\n",
      "couple ( 3 , 6 )\n",
      "------------\n",
      "3 divise 6 !\n",
      "------------\n",
      "couple ( 4 , 5 )\n",
      "couple ( 4 , 6 )\n",
      "couple ( 5 , 6 )\n"
     ]
    },
    {
     "data": {
      "text/plain": [
       "3"
      ]
     },
     "execution_count": 31,
     "metadata": {},
     "output_type": "execute_result"
    }
   ],
   "source": [
    "nb_couples_divise_trace(2,6) # vous pouvez essayer avec un autre jeu de test"
   ]
  },
  {
   "cell_type": "markdown",
   "metadata": {},
   "source": [
    "<center>\n",
    "    <img src=\"./pics/4.5.4.png\"\n",
    "         width=\"500\"\n",
    "         height=\"500\"/>\n",
    "</center>"
   ]
  },
  {
   "cell_type": "code",
   "execution_count": 1,
   "metadata": {},
   "outputs": [],
   "source": [
    "def existe_couples_divise_rapide(n : int, p : int) -> bool:\n",
    "    \"\"\"Précondition : n <= p\n",
    "    Renvoie True s'il existe un couple (i,j) d'entiers\n",
    "    appartenant à l'intervalle [n,p]\n",
    "    tels que i != j et i divise j, ou False sinon.\n",
    "    \"\"\"\n",
    "    # premier élément du couple\n",
    "    i : int = n\n",
    "    # second élément du couple\n",
    "    j : int = n + 1\n",
    "    # memorise si un couple a été trouvé\n",
    "    existe : bool = False\n",
    "    while (not existe) and (i <= p):\n",
    "        if i == 0:\n",
    "            i = i + 1 # 0 n'est diviseur d'aucun nombre\n",
    "                        # (et produit une erreur si on teste !)\n",
    "        j= i + 1 # il faut réinitialiser j à chaque tour de boucle pour i\n",
    "        while (not existe) and (j <= p):\n",
    "            if j % i == 0:\n",
    "                existe = True # on a trouvé un tel couple\n",
    "            j = j + 1\n",
    "        i = i + 1\n",
    "    return existe"
   ]
  },
  {
   "cell_type": "code",
   "execution_count": 2,
   "metadata": {},
   "outputs": [],
   "source": [
    "# Jeu de tests\n",
    "assert existe_couples_divise_rapide(0,0) == False\n",
    "assert existe_couples_divise_rapide(2,6) == True\n",
    "assert existe_couples_divise_rapide(-1,1) == True\n",
    "assert existe_couples_divise_rapide(1,10) == True\n",
    "assert existe_couples_divise_rapide(21,34) == False"
   ]
  },
  {
   "cell_type": "markdown",
   "metadata": {},
   "source": [
    "<center>\n",
    "    <img src=\"./pics/4.5.5.png\"\n",
    "         width=\"500\"\n",
    "         height=\"500\"/>\n",
    "</center>"
   ]
  },
  {
   "cell_type": "code",
   "execution_count": 3,
   "metadata": {},
   "outputs": [],
   "source": [
    "def existe_couples_divise_rapide2(n : int, p : int) -> bool:\n",
    "    \"\"\"Précondition : n <= p\n",
    "    Renvoie vrai s'il existe un couple (i,j) d'entiers\n",
    "    appartenant à l'intervalle [n,p] tels que i != j et i divise j.\n",
    "    \"\"\"\n",
    "    # premier élément du couple\n",
    "    i : int = n\n",
    "    # second élément du couple\n",
    "    j : int = n + 1\n",
    "    while i <= p:\n",
    "        if i == 0:\n",
    "            i = i + 1 # 0 n'est diviseur d'aucun nombre\n",
    "                      # (et produit une erreur si on teste !)\n",
    "        j = i + 1 # il faut réinitialiser j à chaque tour de boucle pour i\n",
    "        while j <= p:\n",
    "            if j % i == 0:\n",
    "                return True # on a trouvé un tel couple\n",
    "            j = j + 1\n",
    "        i = i + 1\n",
    "        return False"
   ]
  },
  {
   "cell_type": "code",
   "execution_count": 4,
   "metadata": {},
   "outputs": [],
   "source": [
    "# Jeu de tests\n",
    "assert existe_couples_divise_rapide2(0,0) == False\n",
    "assert existe_couples_divise_rapide2(2,6) == True\n",
    "assert existe_couples_divise_rapide2(-1,1) == True\n",
    "assert existe_couples_divise_rapide2(1,10) == True\n",
    "assert existe_couples_divise_rapide2(21,34) == False"
   ]
  },
  {
   "cell_type": "markdown",
   "metadata": {},
   "source": [
    "<center>\n",
    "    <img src=\"./pics/4.6.1.png\"\n",
    "         width=\"500\"\n",
    "         height=\"500\"/>\n",
    "</center>"
   ]
  },
  {
   "cell_type": "code",
   "execution_count": 11,
   "metadata": {},
   "outputs": [],
   "source": [
    "def factorielle(n : int) -> int:\n",
    "    \"\"\"Precondition: n >= 0\n",
    "    Retourne la factorielle de n\"\"\"\n",
    "    res : int = 1\n",
    "    for i in range(1,n+1):\n",
    "        res = res * i\n",
    "    return res"
   ]
  },
  {
   "cell_type": "code",
   "execution_count": null,
   "metadata": {},
   "outputs": [],
   "source": [
    "assert factorielle(5) == 120\n",
    "assert factorielle(10) == 3628800\n",
    "assert factorielle(0) == 1\n",
    "assert factorielle(1) == 1"
   ]
  },
  {
   "cell_type": "markdown",
   "metadata": {},
   "source": [
    "<center>\n",
    "    <img src=\"./pics/4.6.1.bis.png\"\n",
    "         width=\"500\"\n",
    "         height=\"500\"/>\n",
    "</center>\n",
    "\n",
    "<center>\n",
    "    <img src=\"./pics/4.6.1.biss.png\"\n",
    "         width=\"500\"\n",
    "         height=\"500\"/>\n",
    "</center>"
   ]
  },
  {
   "cell_type": "code",
   "execution_count": 5,
   "metadata": {},
   "outputs": [],
   "source": [
    "def factorielle_compte(n : int) -> int:\n",
    "    \"\"\"Précondition : n >= 0\n",
    "    Retourne le produit factoriel n!\n",
    "    \"\"\"\n",
    "    # on démarre au rang 1\n",
    "    k : int = 1\n",
    "    # factorielle au rang k\n",
    "    f : int = 1\n",
    "    # nombre de multiplications\n",
    "    nb_ops : int = 0\n",
    "    while k <= n:\n",
    "        f = f * k\n",
    "        nb_ops = nb_ops + 1\n",
    "        k = k + 1\n",
    "    print(\"Nombre d'opérations = \", nb_ops)\n",
    "    return f"
   ]
  },
  {
   "cell_type": "code",
   "execution_count": 6,
   "metadata": {},
   "outputs": [
    {
     "name": "stdout",
     "output_type": "stream",
     "text": [
      "Nombre d'opérations =  5\n"
     ]
    },
    {
     "data": {
      "text/plain": [
       "120"
      ]
     },
     "execution_count": 6,
     "metadata": {},
     "output_type": "execute_result"
    }
   ],
   "source": [
    "factorielle_compte(5)"
   ]
  },
  {
   "cell_type": "markdown",
   "metadata": {},
   "source": [
    "<center>\n",
    "    <img src=\"./pics/4.6.2.png\"\n",
    "         width=\"500\"\n",
    "         height=\"500\"/>\n",
    "</center>\n",
    "\n",
    "<center>\n",
    "    <img src=\"./pics/4.6.2.bis.png\"\n",
    "         width=\"500\"\n",
    "         height=\"500\"/>\n",
    "</center>"
   ]
  },
  {
   "cell_type": "code",
   "execution_count": null,
   "metadata": {},
   "outputs": [],
   "source": [
    "# Votre code ici"
   ]
  },
  {
   "cell_type": "code",
   "execution_count": null,
   "metadata": {},
   "outputs": [],
   "source": [
    "assert combinaisons(5, 0) == 1\n",
    "assert combinaisons(5, 1) == 5\n",
    "assert combinaisons(5, 2) == 10\n",
    "assert combinaisons(5, 3) == 10\n",
    "assert combinaisons(5, 4) == 5\n",
    "assert combinaisons(5, 5) == 1\n",
    "assert combinaisons(10, 4) == 210"
   ]
  },
  {
   "cell_type": "markdown",
   "metadata": {},
   "source": [
    "<center>\n",
    "    <img src=\"./pics/4.6.3.png\"\n",
    "         width=\"500\"\n",
    "         height=\"500\"/>\n",
    "</center>\n"
   ]
  },
  {
   "cell_type": "code",
   "execution_count": 12,
   "metadata": {},
   "outputs": [],
   "source": [
    "def combinaisons(n : int,k : int) -> int:\n",
    "    \"\"\"Précondition : 0<= k <= n\n",
    "    Retourne le nombre de choix de k éléments parmi n.\n",
    "    \"\"\"\n",
    "    return factorielle(n)// (factorielle(k) * factorielle(n - k))"
   ]
  },
  {
   "cell_type": "code",
   "execution_count": 13,
   "metadata": {},
   "outputs": [],
   "source": [
    "# Jeu de tests\n",
    "assert combinaisons(5, 0) == 1\n",
    "assert combinaisons(5, 1) == 5\n",
    "assert combinaisons(5, 2) == 10\n",
    "assert combinaisons(5, 3) == 10\n",
    "assert combinaisons(5, 4) == 5\n",
    "assert combinaisons(5, 5) == 1\n",
    "assert combinaisons(10, 4) == 210"
   ]
  },
  {
   "cell_type": "markdown",
   "metadata": {},
   "source": [
    "<center>\n",
    "    <img src=\"./pics/4.6.4.png\"\n",
    "         width=\"500\"\n",
    "         height=\"500\"/>\n",
    "</center>"
   ]
  },
  {
   "cell_type": "code",
   "execution_count": 14,
   "metadata": {},
   "outputs": [],
   "source": [
    "def combis_rapide(n : int, k : int) -> int:\n",
    "    \"\"\"Précondition : 0 <= k <= n\n",
    "    Retourne le nombre de choix de k éléments parmi n.\n",
    "    \"\"\"\n",
    "    # étape du calcul\n",
    "    i : int = 1\n",
    "    # nombre de combinaisons en résultat\n",
    "    c : int = 1\n",
    "    while i <= k:\n",
    "        c = (c * (n + 1 - i) ) // i\n",
    "        i = i + 1\n",
    "    return c"
   ]
  },
  {
   "cell_type": "code",
   "execution_count": 15,
   "metadata": {},
   "outputs": [],
   "source": [
    "# Jeu de tests\n",
    "assert combis_rapide(5, 0) == combinaisons(5, 0)\n",
    "assert combis_rapide(5, 1) == combinaisons(5, 1)\n",
    "assert combis_rapide(5, 2) == combinaisons(5, 2)\n",
    "assert combis_rapide(5, 3) == combinaisons(5, 3)\n",
    "assert combis_rapide(5, 4) == combinaisons(5, 4)\n",
    "assert combis_rapide(5, 5) == combinaisons(5, 5)\n",
    "assert combis_rapide(10, 4) == combinaisons(10, 4)\n",
    "assert combis_rapide(1000, 450) == combinaisons(1000, 450)\n",
    "assert combis_rapide(10000, 450) == combinaisons(10000, 450)"
   ]
  },
  {
   "cell_type": "markdown",
   "metadata": {},
   "source": [
    "<center>\n",
    "    <img src=\"./pics/4.6.4.bis.png\"\n",
    "         width=\"500\"\n",
    "         height=\"500\"/>\n",
    "</center>"
   ]
  },
  {
   "cell_type": "markdown",
   "metadata": {},
   "source": [
    "<center>\n",
    "    <img src=\"./pics/4.6.5.bis.png\"\n",
    "         width=\"500\"\n",
    "         height=\"500\"/>\n",
    "</center>"
   ]
  },
  {
   "cell_type": "markdown",
   "metadata": {},
   "source": [
    "<center>\n",
    "    <img src=\"./pics/4.6.5.bis.png\"\n",
    "         width=\"500\"\n",
    "         height=\"500\"/>\n",
    "</center>"
   ]
  },
  {
   "cell_type": "code",
   "execution_count": null,
   "metadata": {},
   "outputs": [],
   "source": []
  }
 ],
 "metadata": {
  "kernelspec": {
   "display_name": "Python 3",
   "language": "python",
   "name": "python3"
  },
  "language_info": {
   "codemirror_mode": {
    "name": "ipython",
    "version": 3
   },
   "file_extension": ".py",
   "mimetype": "text/x-python",
   "name": "python",
   "nbconvert_exporter": "python",
   "pygments_lexer": "ipython3",
   "version": "3.7.9"
  }
 },
 "nbformat": 4,
 "nbformat_minor": 4
}
