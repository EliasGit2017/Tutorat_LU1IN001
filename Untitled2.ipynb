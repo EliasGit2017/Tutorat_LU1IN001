{
 "cells": [
  {
   "cell_type": "markdown",
   "metadata": {},
   "source": [
    "<center>\n",
    "    <img src=\"./pics/Ex1.png\"\n",
    "         width=\"600\"\n",
    "         height=\"600\"/>\n",
    "</center>"
   ]
  },
  {
   "cell_type": "markdown",
   "metadata": {},
   "source": [
    "<center>\n",
    "    <img src=\"./pics/Ex2.png\"\n",
    "         width=\"600\"\n",
    "         height=\"600\"/>\n",
    "</center>"
   ]
  },
  {
   "cell_type": "markdown",
   "metadata": {},
   "source": [
    "<center>\n",
    "    <img src=\"./pics/Ex3.png\"\n",
    "         width=\"600\"\n",
    "         height=\"600\"/>\n",
    "</center>"
   ]
  },
  {
   "cell_type": "markdown",
   "metadata": {},
   "source": [
    "<center>\n",
    "    <img src=\"./pics/Ex5.png\"\n",
    "         width=\"600\"\n",
    "         height=\"600\"/>\n",
    "</center>"
   ]
  },
  {
   "cell_type": "code",
   "execution_count": 2,
   "metadata": {},
   "outputs": [],
   "source": [
    "from typing import List\n",
    "\n",
    "def eboult_possible(L : List[int]) -> bool:\n",
    "    \"\"\"Precondition : len(L) >= 1\n",
    "    Retourne True si un éboulement est possible dans le tas L\"\"\"\n",
    "    ind_tas_courant : int = 0\n",
    "    while ind_tas_courant < len(L)-1:\n",
    "        if L[ind_tas_courant] - L[ind_tas_courant + 1] >= 2:\n",
    "            return True\n",
    "        ind_tas_courant = ind_tas_courant + 1\n",
    "    return False\n",
    "\n",
    "def eboult_possible(L : List[int]) -> bool:\n",
    "    \"\"\"Precondition : len(L) >= 1\n",
    "    Retourne True si un éboulement est possible dans le tas L\"\"\"\n",
    "    ind_tas_courant : int = 0\n",
    "    for ind_tas_courant in range(len(L)-1):\n",
    "        if L[ind_tas_courant] - L[ind_tas_courant + 1] >= 2:\n",
    "            return True\n",
    "    return False"
   ]
  },
  {
   "cell_type": "code",
   "execution_count": 3,
   "metadata": {},
   "outputs": [],
   "source": [
    "def indice_eboult(L : List[int]) -> int:\n",
    "    \"\"\"Preconditions : len(L) >= 1\n",
    "    Un éboulement doit être possible\n",
    "    Retourne l'indice au niveau duquel un éboulement est possible\"\"\"\n",
    "    ind_tas_courant : int = 0\n",
    "    while ind_tas_courant < len(L)-1:\n",
    "        if L[ind_tas_courant] - L[ind_tas_courant + 1] >= 2:\n",
    "            return ind_tas_courant\n",
    "        ind_tas_courant = ind_tas_courant + 1\n",
    "    return ind_tas_courant\n",
    "\n",
    "def indice_eboult(L : List[int]) -> int:\n",
    "    \"\"\"Preconditions : len(L) >= 1\n",
    "    Un éboulement doit être possible\n",
    "    Retourne l'indice au niveau duquel un éboulement est possible\"\"\"\n",
    "    ind_tas_courant : int = 0\n",
    "    for ind_tas_courant in range(len(L)-1):\n",
    "        if L[ind_tas_courant] - L[ind_tas_courant + 1] >= 2:\n",
    "            return ind_tas_courant\n",
    "    return ind_tas_courant"
   ]
  },
  {
   "cell_type": "code",
   "execution_count": null,
   "metadata": {},
   "outputs": [],
   "source": []
  },
  {
   "cell_type": "markdown",
   "metadata": {},
   "source": [
    "<center>\n",
    "    <img src=\"./pics/Ex6.png\"\n",
    "         width=\"600\"\n",
    "         height=\"600\"/>\n",
    "</center>"
   ]
  },
  {
   "cell_type": "code",
   "execution_count": 4,
   "metadata": {},
   "outputs": [],
   "source": [
    "def eboul_col(L : List[int], ind : int) -> List[int]:\n",
    "    \"\"\"Precondition : len(L) >= 1 \n",
    "    L'indice correspond à un éboulement valide : L[ind] - L[ind+1] >= 2\n",
    "    Retourne le tas après réalisation de l'éboulement\"\"\"\n",
    "    # ma liste résultat\n",
    "    L_resultat : List[int]\n",
    "    L_resultat = L[0:ind] + [L[ind]-1, L[ind+1]+1] + L[ind+2:]\n",
    "    return L_resultat"
   ]
  },
  {
   "cell_type": "code",
   "execution_count": 5,
   "metadata": {},
   "outputs": [
    {
     "data": {
      "text/plain": [
       "[2, 3, 4, 5, 8, 3, 1, 5, 4, 6]"
      ]
     },
     "execution_count": 5,
     "metadata": {},
     "output_type": "execute_result"
    }
   ],
   "source": [
    "eboul_col([2,3,4,5,9,2,1,5,4,6], 4)"
   ]
  },
  {
   "cell_type": "markdown",
   "metadata": {},
   "source": [
    "<center>\n",
    "    <img src=\"./pics/Ex7.png\"\n",
    "         width=\"600\"\n",
    "         height=\"600\"/>\n",
    "</center>"
   ]
  },
  {
   "cell_type": "code",
   "execution_count": 6,
   "metadata": {},
   "outputs": [],
   "source": [
    "def stabilisation(L : List[int]) -> List[int]:\n",
    "    \"\"\"Precondition : len(L) >= 1\n",
    "    Retourne le tas après application des éboulements successifs. On obtient un tas stabilisé\"\"\"\n",
    "    # indice où un éboulement est possible\n",
    "    indice : int = 0\n",
    "    # Tas résultat après réalisation de l'éboulement\n",
    "    L_resultat : List[int] = L\n",
    "    while eboult_possible(L_resultat):\n",
    "        indice = indice_eboult(L_resultat)\n",
    "        L_resultat = eboul_col(L_resultat, indice)\n",
    "    return L_resultat"
   ]
  },
  {
   "cell_type": "code",
   "execution_count": 7,
   "metadata": {},
   "outputs": [
    {
     "data": {
      "text/plain": [
       "[3]"
      ]
     },
     "execution_count": 7,
     "metadata": {},
     "output_type": "execute_result"
    }
   ],
   "source": [
    "stabilisation([3])"
   ]
  },
  {
   "cell_type": "code",
   "execution_count": 8,
   "metadata": {},
   "outputs": [
    {
     "data": {
      "text/plain": [
       "[6, 5, 4, 3, 3]"
      ]
     },
     "execution_count": 8,
     "metadata": {},
     "output_type": "execute_result"
    }
   ],
   "source": [
    "stabilisation([8,5,3,3,2])"
   ]
  },
  {
   "cell_type": "code",
   "execution_count": 9,
   "metadata": {},
   "outputs": [
    {
     "data": {
      "text/plain": [
       "[6, 5, 5]"
      ]
     },
     "execution_count": 9,
     "metadata": {},
     "output_type": "execute_result"
    }
   ],
   "source": [
    "stabilisation([8,7,1])"
   ]
  },
  {
   "cell_type": "code",
   "execution_count": 10,
   "metadata": {},
   "outputs": [],
   "source": [
    "L=[12,15,4,8,2,4,688,254,226]\n",
    "#   0  1 2 3 4 5  6   7   8\n",
    "#   -9   -8  -7  -6  -5  -4   -3    -2    -1\n",
    "L2 = [\"salut\", \"ok\", \"cava\", \"bien\"]\n",
    "#         0      1      2       3\n",
    "#        -4     -3      -2      -1"
   ]
  },
  {
   "cell_type": "code",
   "execution_count": 14,
   "metadata": {},
   "outputs": [],
   "source": [
    "assert L[6] == 688\n",
    "assert L[-7] == 4\n",
    "assert L2[2] == \"cava\"\n",
    "assert L2[-3] == \"ok\""
   ]
  },
  {
   "cell_type": "code",
   "execution_count": 17,
   "metadata": {},
   "outputs": [
    {
     "name": "stdout",
     "output_type": "stream",
     "text": [
      "12\n",
      "15\n",
      "4\n",
      "8\n",
      "2\n",
      "4\n",
      "688\n",
      "254\n",
      "226\n"
     ]
    }
   ],
   "source": [
    "indice : int = 0\n",
    "while indice < len(L):\n",
    "    print(L[indice])\n",
    "    indice = indice + 1"
   ]
  },
  {
   "cell_type": "code",
   "execution_count": 18,
   "metadata": {},
   "outputs": [
    {
     "name": "stdout",
     "output_type": "stream",
     "text": [
      "12\n",
      "15\n",
      "4\n",
      "8\n",
      "2\n",
      "4\n",
      "688\n",
      "254\n",
      "226\n"
     ]
    }
   ],
   "source": [
    "indice : int = 0\n",
    "for indice in range(len(L)):\n",
    "    print(L[indice])"
   ]
  },
  {
   "cell_type": "code",
   "execution_count": 19,
   "metadata": {},
   "outputs": [
    {
     "name": "stdout",
     "output_type": "stream",
     "text": [
      "0\n",
      "1\n",
      "2\n",
      "3\n",
      "4\n",
      "5\n",
      "6\n",
      "7\n",
      "8\n"
     ]
    }
   ],
   "source": [
    "i : int\n",
    "for i in range(len(L)):\n",
    "    print(i)"
   ]
  },
  {
   "cell_type": "markdown",
   "metadata": {},
   "source": [
    "<center>\n",
    "    <img src=\"./pics/t1.png\"\n",
    "         width=\"600\"\n",
    "         height=\"600\"/>\n",
    "</center>"
   ]
  },
  {
   "cell_type": "markdown",
   "metadata": {},
   "source": [
    "<center>\n",
    "    <img src=\"./pics/t2.png\"\n",
    "         width=\"600\"\n",
    "         height=\"600\"/>\n",
    "</center>"
   ]
  },
  {
   "cell_type": "code",
   "execution_count": null,
   "metadata": {},
   "outputs": [],
   "source": []
  },
  {
   "cell_type": "markdown",
   "metadata": {},
   "source": [
    "<center>\n",
    "    <img src=\"./pics/t3.png\"\n",
    "         width=\"600\"\n",
    "         height=\"600\"/>\n",
    "</center>"
   ]
  },
  {
   "cell_type": "markdown",
   "metadata": {},
   "source": [
    "<center>\n",
    "    <img src=\"./pics/t4.png\"\n",
    "         width=\"600\"\n",
    "         height=\"600\"/>\n",
    "</center>"
   ]
  },
  {
   "cell_type": "code",
   "execution_count": null,
   "metadata": {},
   "outputs": [],
   "source": []
  }
 ],
 "metadata": {
  "kernelspec": {
   "display_name": "Python 3.7.7 64-bit ('base')",
   "language": "python",
   "name": "python37764bitbasef6fd1bea82ee4fe7adc69a0c0d7a90e7"
  },
  "language_info": {
   "codemirror_mode": {
    "name": "ipython",
    "version": 3
   },
   "file_extension": ".py",
   "mimetype": "text/x-python",
   "name": "python",
   "nbconvert_exporter": "python",
   "pygments_lexer": "ipython3",
   "version": "3.7.9"
  }
 },
 "nbformat": 4,
 "nbformat_minor": 4
}
