{
 "cells": [
  {
   "cell_type": "code",
   "execution_count": 1,
   "metadata": {},
   "outputs": [
    {
     "data": {
      "text/html": [
       "\n",
       "        <script>\n",
       "            function code_toggle_9376991301710906800() {\n",
       "                $('div.cell.code_cell.rendered.selected').find('div.input').toggle();\n",
       "            }\n",
       "\n",
       "            \n",
       "        </script>\n",
       "\n",
       "        <a href=\"javascript:code_toggle_9376991301710906800()\">Toggle show/hide</a>\n",
       "    "
      ],
      "text/plain": [
       "<IPython.core.display.HTML object>"
      ]
     },
     "execution_count": 1,
     "metadata": {},
     "output_type": "execute_result"
    }
   ],
   "source": [
    "from IPython.display import HTML\n",
    "import random\n",
    "\n",
    "def hide_toggle(for_next=False):\n",
    "    this_cell = \"\"\"$('div.cell.code_cell.rendered.selected')\"\"\"\n",
    "    next_cell = this_cell + '.next()'\n",
    "\n",
    "    toggle_text = 'Toggle show/hide'  # text shown on toggle link\n",
    "    target_cell = this_cell  # target cell to control with toggle\n",
    "    js_hide_current = ''  # bit of JS to permanently hide code in current cell (only when toggling next cell)\n",
    "\n",
    "    if for_next:\n",
    "        target_cell = next_cell\n",
    "        toggle_text += ' next cell'\n",
    "        js_hide_current = this_cell + '.find(\"div.input\").hide();'\n",
    "\n",
    "    js_f_name = 'code_toggle_{}'.format(str(random.randint(1,2**64)))\n",
    "\n",
    "    html = \"\"\"\n",
    "        <script>\n",
    "            function {f_name}() {{\n",
    "                {cell_selector}.find('div.input').toggle();\n",
    "            }}\n",
    "\n",
    "            {js_hide_current}\n",
    "        </script>\n",
    "\n",
    "        <a href=\"javascript:{f_name}()\">{toggle_text}</a>\n",
    "    \"\"\".format(\n",
    "        f_name=js_f_name,\n",
    "        cell_selector=target_cell,\n",
    "        js_hide_current=js_hide_current, \n",
    "        toggle_text=toggle_text\n",
    "    )\n",
    "\n",
    "    return HTML(html)\n",
    "hide_toggle()"
   ]
  },
  {
   "cell_type": "markdown",
   "metadata": {
    "slideshow": {
     "slide_type": "slide"
    }
   },
   "source": [
    "<center><img src=\"./pics/logo.jpg\"\n",
    "             width=\"500\"\n",
    "             height=\"500\"/>\n",
    "</center>  \n",
    "\n",
    "# LU1IN001 : Elements de programmation 1\n",
    "### Séance de tutorat n°1:\n",
    "- Informations utiles\n",
    "- Python 3.4.1\n",
    "- Pytudes\n",
    "\n",
    "<!--\n",
    "-> Bases conversions hex, oct, dec, bin\n",
    "-> Pourquoi Python?\n",
    "-> Les types\n",
    "-> one liners et autres examples: a=10 if y%7 == 0 else 45\n",
    "-> Exemples DNA\n",
    "-> Du Morse\n",
    "-> Hare and tortoise\n",
    "-> Sort Positives, Keep Negatives\n",
    "-> All pairs that sum to target\n",
    "-> MAC address checking -> Email and other\n",
    "-> Subnetting\n",
    "-> Horner\n",
    "-> Graphs\n",
    "-> Regex\n",
    "-->"
   ]
  },
  {
   "cell_type": "markdown",
   "metadata": {
    "slideshow": {
     "slide_type": "slide"
    }
   },
   "source": [
    "### Présentation:\n",
    "<center><ins><b>Elias Bendjaballah</b></ins><br>\n",
    "    MIPI 2017-2018 <br>\n",
    "    Licence Informatique (juin 2020)<br>\n",
    "    Master ANDROIDE (IA et Recherche Opérationnelle) <br>\n",
    "    <ins> Page web perso: </ins>\n",
    "    <img src=\"./pics/qr-code.svg\"\n",
    "         width=\"200\"\n",
    "         height=\"200\"/>\n",
    "</center>\n"
   ]
  },
  {
   "cell_type": "markdown",
   "metadata": {
    "slideshow": {
     "slide_type": "slide"
    }
   },
   "source": [
    "### Informations utiles:\n",
    "* Cette rentrée est spéciale \n",
    "    * Forte influence du Contrôle continu (CC) dans la note finale : 50% CC et 50% Examen\n",
    "    * Probabilité non négligeable de continuer le semestre en distanciel\n",
    "    * Toute évaluation réalisée en présentiel compte et peut être déterminante.\n",
    "* Elle implique des efforts particuliers\n",
    "    * Rester informé et connecté\n",
    "    * Etre équipé (possibilités de prêts d'ordinateurs chez ALIAS pour le semestre)\n",
    "    * Pouvoir s'adapter et continuer d'apprendre \n",
    "    * Travail continu, soigné et **Formez des groupes d'études**"
   ]
  },
  {
   "cell_type": "markdown",
   "metadata": {
    "slideshow": {
     "slide_type": "subslide"
    }
   },
   "source": [
    "* Associations :\n",
    "    * Alias : FB https://www.facebook.com/ALIAS.asso/\n",
    "    * Association Défis Sorbonne : https://www.defis-sorbonne.fr/\n",
    "    * Fablab Sorbonne Université : https://www.facebook.com/fablabsu/\n",
    "    * Good game Fest : https://www.facebook.com/GoodGameFest/\n",
    "    * Axio Sorbonne U : FB https://www.facebook.com/AXIOBDF"
   ]
  },
  {
   "cell_type": "markdown",
   "metadata": {
    "slideshow": {
     "slide_type": "subslide"
    }
   },
   "source": [
    "<ul> \n",
    "    <li><a href=\"https://chat.whatsapp.com/KHzAntc3h7FBsoMklzatW1\"><ins>Groupe Whatsapp : https://chat.whatsapp.com/KHzAntc3h7FBsoMklzatW1</ins></a> : \n",
    "<img src=\"./pics/qr-code_whatsapp.svg\"\n",
    "     width=\"200\"\n",
    "     height=\"200\" /></li>\n",
    "<li> <ins>Github Repository</ins> <a href=\"https://github.com/EliasGit2017/Tutorat_LU1IN001\"><ins>(notebooks, codes et solutions) : https://github.com/EliasGit2017/Tutorat_LU1IN001</ins></a> :\n",
    "<img src=\"./pics/gitqr.svg\"\n",
    "     width=\"200\"\n",
    "     height=\"200\" /></li>\n",
    "</ul>"
   ]
  },
  {
   "cell_type": "markdown",
   "metadata": {
    "slideshow": {
     "slide_type": "subslide"
    }
   },
   "source": [
    "### Organisation de la séance :\n",
    "* __Format__: Notebooks Jupyter (possibilité de suivre la séance sur votre ordi)\n",
    "* Série de problèmes à résoudre en python (similaires aux questions d'exams et de TME Solo)\n",
    "* Intéractions autant que possible\n",
    "* Possibilité de modifier le déroulement et la forme des séances (ouvert à toute suggestion)\n",
    "* Toutes les questions sont les bienvenues\n",
    "* Migration vers Discord ou Zoom en cas de distanciel (vous serez informé à temps sur **WHATSAPP**)"
   ]
  },
  {
   "cell_type": "markdown",
   "metadata": {
    "slideshow": {
     "slide_type": "slide"
    }
   },
   "source": [
    "### Python:\n",
    "<center>\n",
    "    <img src=\"./pics/python_logo.png\"\n",
    "         width=\"400\"\n",
    "         height=\"400\"/>\n",
    "</center>\n",
    "\n",
    "* Développé par Guido Von Rossum (première version créée fin 1989)\n",
    "* Inspiré du langage ABC (développé au CWI d'Amsterdam), mais aussi du C et de Modula-3 (proche de Pascal)\n",
    "* Avantages :\n",
    "    * Lisible, épuré et intuitif\n",
    "    * Peu de constructions syntaxiques\n",
    "    * Optimisation de la productivité et outils de haut niveau utilisables rapidement (un peu trop haut niveau pour certains)"
   ]
  },
  {
   "cell_type": "markdown",
   "metadata": {
    "slideshow": {
     "slide_type": "subslide"
    }
   },
   "source": [
    "<center>\n",
    "    <img src=\"./pics/0.jpeg\"\n",
    "         width=\"400\"\n",
    "         height=\"400\" />\n",
    "</center>"
   ]
  },
  {
   "cell_type": "markdown",
   "metadata": {
    "slideshow": {
     "slide_type": "subslide"
    }
   },
   "source": [
    "Caractéristiques:\n",
    "* __Indenté__ et typage dynamique fort\n",
    "* Idéal pour la programmation impérative (mais aussi la fonctionnelle et la POO)\n",
    "* Gestion automatique de la mémoire avec un garbage collector (les memory leaks sont limitées, ce qui n'est pas le cas du C)\n",
    "* Très forte influence de la POO (aussi bien dans l'usage que dans le développement du langage)<br>\n",
    "*Toute donnée est stockée sous la forme d'un objet"
   ]
  },
  {
   "cell_type": "code",
   "execution_count": 3,
   "metadata": {},
   "outputs": [
    {
     "name": "stdout",
     "output_type": "stream",
     "text": [
      "<class 'list'>\n",
      "<class 'str'> \t <class 'str'>\n",
      "<class 'int'> \t <class 'float'>\n"
     ]
    }
   ],
   "source": [
    "print(type([1,2,3]))\n",
    "print(type('a'), \"\\t\", type(\"salut\"))\n",
    "print(type(1) ,\"\\t\", type(1.0))"
   ]
  },
  {
   "cell_type": "markdown",
   "metadata": {
    "slideshow": {
     "slide_type": "subslide"
    }
   },
   "source": [
    "<center> \n",
    "    <img src=\"./pics/type.png\"\n",
    "         width=\"400\"\n",
    "         height=\"400\"/>\n",
    "</center>"
   ]
  },
  {
   "cell_type": "markdown",
   "metadata": {
    "slideshow": {
     "slide_type": "slide"
    }
   },
   "source": [
    "### Python 3.4.1:\n",
    "Version 3.4 publiée le 16 mars 2014 et avec pour principale feature la correction de la vulnérabilité **HeartBleed** (qui est toujours active avec environ 180 000 appareils connectés encore vulnérables au 23 janvier 2017). Mais aussi ajout de nombreuses fonctionnalités :\n",
    "* `pip` présent par défaut\n",
    "* ajout de `tracemalloc`\n",
    "* ajout de la méthode `get_instructions()` au module `dis`\n",
    "* ajout du module `statistics`  \n",
    "Et bien d'autres fonctionalités qui en plus des avantages inhérents au langage en font un outil incontournable pour **toutes** les tâches de traitement d'information.  \n",
    "Python est l'un des langages les plus utilisés dans la recherche et reste la principale solution aux projets et logiciels devant être livrés rapidement. "
   ]
  },
  {
   "cell_type": "markdown",
   "metadata": {
    "slideshow": {
     "slide_type": "subslide"
    }
   },
   "source": [
    "``` python\n",
    "# Exemple de Script (implémentation d'une cascade de Haar)\n",
    "import cv2\n",
    "import numpy as np\n",
    "\n",
    "face_cascade = cv2.CascadeClassifier('./Face_detection/haarcascade_frontalface_default.xml')\n",
    "eye_cascade = cv2.CascadeClassifier('./Face_detection/haarcascade_eye.xml')\n",
    "\n",
    "cap = cv2.VideoCapture(0)\n",
    "\n",
    "while(True):\n",
    "    ret, img =cap.read()\n",
    "    gray = cv2.cvtColor(img, cv2.COLOR_BGR2GRAY)\n",
    "    faces = face_cascade.detectMultiScale(gray, 1.3, 5)\n",
    "    for(x,y,w,h) in faces:\n",
    "        cv2.rectangle(img,(x,y),(x+w,y+h), (0,0,255),2)\n",
    "        roi_gray = gray[y:y+h, x:x+w]\n",
    "        roi_color = img[y:y+h, x:x+w]\n",
    "        eyes = eye_cascade.detectMultiScale(roi_gray)\n",
    "        for(ex,ey,ew,eh) in eyes:\n",
    "            cv2.rectangle(roi_color, (ex,ey), (ex+ew,ey+eh), (255,255,0),2)\n",
    "            \n",
    "    cv2.imshow('Face Recognition (legit)',img)\n",
    "    k = cv2.waitKey(30) & 0xff\n",
    "    if k == 27:\n",
    "        break\n",
    "cap.release()\n",
    "cv2.destroyAllWindows()\n",
    "```"
   ]
  },
  {
   "cell_type": "code",
   "execution_count": 12,
   "metadata": {
    "slideshow": {
     "slide_type": "subslide"
    }
   },
   "outputs": [
    {
     "name": "stdout",
     "output_type": "stream",
     "text": [
      "6.123233995736766e-17\n",
      "2.5066282746310002\n"
     ]
    },
    {
     "data": {
      "image/png": "[encoded data removed]",
      "text/plain": [
       "<Figure size 432x288 with 1 Axes>"
      ]
     },
     "metadata": {
      "needs_background": "light"
     },
     "output_type": "display_data"
    }
   ],
   "source": [
    "# librairies math, numpy et tracé des fonctions sinus et cosinus\n",
    "from math import sqrt, pi, sin, cos\n",
    "import matplotlib.pyplot as plt\n",
    "import numpy as np\n",
    "\n",
    "print(cos(pi / 2))\n",
    "print(sqrt(2 * pi))\n",
    "x = np.arange(-pi / 2, 5 * pi, 0.1)\n",
    "plt.plot(x, np.sin(x), x, np.cos(x))\n",
    "plt.show()"
   ]
  },
  {
   "cell_type": "markdown",
   "metadata": {
    "slideshow": {
     "slide_type": "slide"
    }
   },
   "source": [
    "### Règles de cette UE:\n",
    "* Pas de variable globale (`global x = 100`)\n",
    "* Pas de bloc lexical\n",
    "* Votre code doit garder des types simples (pas d'éléments hétérogènes) `L = [1, \"chaîne\", 2.0, [\"inception\"]]`\n",
    "* Pas d'accès direct des n-uplets\n",
    "* __TOUJOURS__ écrire la documentation des fonctions et clairement identifier les variables utilisées"
   ]
  },
  {
   "cell_type": "markdown",
   "metadata": {
    "slideshow": {
     "slide_type": "subslide"
    }
   },
   "source": [
    "### Petits tips pour vos premiers pas:\n",
    "1. Faire attentions aux types de vos variables, aux opérateurs utilisés ainsi qu'aux différentes intéractions\n",
    "2. Rester simple (L'UE est facile, mais demande de la rapidité et des raisonnements logiques et biens structurés)\n",
    "3. Décomposer les problèmes qui paraissent compliqués en plusieurs fonctions\n",
    "4. Débugger votre code à coups de `print()` et éventuellement avec `input()` (même sur MrPython)\n",
    "5. Analyser les `assert` (types obtenus en sortie et traitements des différents cas). \n",
    "6. Ecrire de bons tests `assert` et envisager les différents cas possibles"
   ]
  },
  {
   "cell_type": "code",
   "execution_count": 4,
   "metadata": {
    "slideshow": {
     "slide_type": "slide"
    }
   },
   "outputs": [],
   "source": [
    "def perim(l, L):\n",
    "    \"\"\"float * float -> float\n",
    "    hyp: l <= L\n",
    "    Retourne le périmètre d'un quadrilatère de largeur l et de longueur L\"\"\"\n",
    "    #return float(2 * (l + L))\n",
    "    return 2 * (l + L)\n",
    "\n",
    "assert perim(5, 6) == 22\n",
    "assert perim(5, 6) == 21.999999999999999"
   ]
  },
  {
   "cell_type": "code",
   "execution_count": 5,
   "metadata": {},
   "outputs": [],
   "source": [
    "assert 6 == 5.9999999999999999"
   ]
  },
  {
   "cell_type": "markdown",
   "metadata": {
    "slideshow": {
     "slide_type": "slide"
    }
   },
   "source": [
    "#### Le mont Olympe martien:\n",
    "L'un des plus hauts volcans connus du système solaire se trouve sur Mars et porte le nom de \"Olympus Mons\". Son altitude d'environ $26\\ km$ lui donne la particularité d'avoir une pente telle qu'une personne se trouvant à sa base ne puisse voir son sommet.\n",
    "\n",
    "<center>\n",
    "<img src=\"./pics/Mars.jpeg\"\n",
    "     width=\"500\"\n",
    "     height=\"500\"/>\n",
    "</center>"
   ]
  },
  {
   "cell_type": "markdown",
   "metadata": {},
   "source": [
    "Ecrire une fonction `MarsR` qui à partir de la hauteur `h` du volcan Olympe et de la distance `d` de l'horizon réel martien, retourne une estimation du rayon de Mars."
   ]
  },
  {
   "cell_type": "code",
   "execution_count": 8,
   "metadata": {
    "slideshow": {
     "slide_type": "subslide"
    }
   },
   "outputs": [],
   "source": [
    "def MarsR(h : int, d : int) -> float:\n",
    "    \"\"\"Preconditions : (h > 0) and (d > 0)\n",
    "    Retourne une estimation du Rayon de Mars étant donné une hauteur `h` et une distance `d`\"\"\"\n",
    "    return d**2/(2*h) - h/2"
   ]
  },
  {
   "cell_type": "code",
   "execution_count": 9,
   "metadata": {},
   "outputs": [],
   "source": [
    "assert MarsR(26*10**3, 420*10**3) == 3379307.6923076925\n",
    "# Il est aussi possible d'appliquer cette fonction pour estimer le rayon de la Terre (et d'autres planètes)\n",
    "# Pour un observateur situé en bord de mer à 1.8 m de hauteur et pour qui l'horizon se trouve à environ 4789.11 m \n",
    "assert MarsR(1.8, 4789.11) == 6370992.042249999 # Rayon équatorial de la Terre"
   ]
  },
  {
   "cell_type": "markdown",
   "metadata": {
    "slideshow": {
     "slide_type": "slide"
    }
   },
   "source": [
    "#### Une approximation de sinus vieille de 1400 ans:\n",
    "Au VI<sup>eme</sup> siècle, le mathématicien Mahabhaskariya de Bhaskara I a donné une approximation de sinus (pour un angle $x$ tel que $0\\leq x \\leq \\pi$) remarquablement précise pour l'époque.  \n",
    "\n",
    "$$\\sin(x) = \\frac{16 x (\\pi - x)}{5\\pi^{2}-4x(\\pi -x)}$$"
   ]
  },
  {
   "cell_type": "markdown",
   "metadata": {},
   "source": [
    "Ecrire la fonction `approSin` qui étant donné la mesure en radian d'un angle `x` tel que $0\\leq x \\leq \\pi$ retourne l'approximation de son sinus."
   ]
  },
  {
   "cell_type": "code",
   "execution_count": 19,
   "metadata": {
    "slideshow": {
     "slide_type": "subslide"
    }
   },
   "outputs": [],
   "source": [
    "def approSin(x : float) -> float:\n",
    "    \"\"\"Preconditions : 0 <= x <= pi\n",
    "    Retourne une approximation du sinus de l'angle x d'après la formule de Mahabhaskariya\"\"\"\n",
    "    return ((16*x*(pi-x)) / (5*pi**2-4*x*(pi-x)))"
   ]
  },
  {
   "cell_type": "code",
   "execution_count": 20,
   "metadata": {},
   "outputs": [],
   "source": [
    "assert approSin(0.79) == 0.7091189442375202\n",
    "assert approSin(1.57) == 0.9999996787427855\n",
    "assert approSin(2.36) == 0.7031948565648719"
   ]
  },
  {
   "cell_type": "markdown",
   "metadata": {
    "slideshow": {
     "slide_type": "subslide"
    }
   },
   "source": [
    "#### Diffusion de Rayleigh:\n"
   ]
  },
  {
   "cell_type": "code",
   "execution_count": null,
   "metadata": {},
   "outputs": [],
   "source": []
  },
  {
   "cell_type": "markdown",
   "metadata": {
    "slideshow": {
     "slide_type": "slide"
    }
   },
   "source": [
    "#### Traduction en mRNA:\n",
    "<center>\n",
    "    <img src=\"./pics/dnarys.jpg\"\n",
    "         width=\"300\"\n",
    "         height=\"300\"/>\n",
    "</center>\n",
    "\n",
    "Ecrire une fonction `DNA_to_mRNA` qui étant donné une séquence de nucléotides `adn` (sous forme de chaîne de caractères formées par les bases A,T,C,G) retourne la séquence d'ARN messager correspondante. Observez les `assert` pour en déduire les règles de conversion ADN -> ARNm."
   ]
  },
  {
   "cell_type": "code",
   "execution_count": 2,
   "metadata": {
    "slideshow": {
     "slide_type": "subslide"
    }
   },
   "outputs": [],
   "source": [
    "def DNA_to_mRNA(adn : str) -> str:\n",
    "    \"\"\"Retourne la séquence d'ARNm correspondant à la séquence `adn`\"\"\"\n",
    "    # res : str\n",
    "    res = \"\"\n",
    "    for nucleotide in adn:\n",
    "        if nucleotide == \"A\":\n",
    "            res += \"U\"\n",
    "        elif nucleotide == \"T\":\n",
    "            res += \"A\"\n",
    "        elif nucleotide == \"G\":\n",
    "            res += \"C\"\n",
    "        elif nucleotide == \"C\":\n",
    "            res += \"G\"\n",
    "        else:\n",
    "            return \"Erreur, nucleotide inconnu...veuillez retourner sur Mars\"\n",
    "    return res"
   ]
  },
  {
   "cell_type": "code",
   "execution_count": 2,
   "metadata": {
    "slideshow": {
     "slide_type": "subslide"
    }
   },
   "outputs": [],
   "source": [
    "assert DNA_to_mRNA(\"ACTGCCAATTTGGACCC\") == \"UGACGGUUAAACCUGGG\"\n",
    "assert DNA_to_mRNA(\"GTCATACGACGTA\") == \"CAGUAUGCUGCAU\"\n",
    "assert DNA_to_mRNA(\"AGGCAAAXTGG\") == \"Erreur, nucleotide inconnu...veuillez retourner sur Mars\""
   ]
  },
  {
   "cell_type": "markdown",
   "metadata": {
    "slideshow": {
     "slide_type": "slide"
    }
   },
   "source": [
    "##### Conversions Bin, Oct, Hex, Dec:\n",
    "\n",
    "Convertir les données vers les différentes bases est une opération courante. Bien que les conversions soient  implémentées nativement dans la plupart des langages, il est nécessaire de maîtriser les représentations en bases 2, 6 et 8 et de pouvoir les lire rapidement.\n",
    "\n",
    "\n",
    "<center>\n",
    "    <img src=\"./pics/DNSyout.png\"\n",
    "         width=\"800\"\n",
    "         height=\"600\"/> <br>\n",
    "    <ins><figcaption>Requête DNS pour youtube.com</figcaption></ins>\n",
    "</center>"
   ]
  },
  {
   "cell_type": "markdown",
   "metadata": {
    "slideshow": {
     "slide_type": "subslide"
    }
   },
   "source": [
    "Ecrivez les fonctions `dectobin`, `bintodec`, `dectohex`, `hextodec`, `dectooct`, `octtodec` qui réalisent les conversions d'un entier `n` entre le système decimal et les systèmes binaire, hexadecimal, octal et vice-versa.  \n",
    "<ins>*Exemple* :</ins>  \n",
    "42 :\n",
    "* 0b101010 en binaire\n",
    "* 0x2a en hexadecimal \n",
    "* 0o52 en octal"
   ]
  },
  {
   "cell_type": "code",
   "execution_count": 4,
   "metadata": {
    "slideshow": {
     "slide_type": "subslide"
    }
   },
   "outputs": [],
   "source": [
    "def dectobin(n : int) -> str:\n",
    "    \"\"\"int -> String\n",
    "    Retourne la chaîne de caractères correspondant à la conversion de l'entier `n` en base 2\"\"\"\n",
    "    # res : str\n",
    "    res = \"\"\n",
    "    while n > 0:\n",
    "        reste = n % 2\n",
    "        n = n // 2\n",
    "        res = str(reste) + res\n",
    "    return res"
   ]
  },
  {
   "cell_type": "code",
   "execution_count": 5,
   "metadata": {},
   "outputs": [],
   "source": [
    "assert dectobin(42) == \"101010\"\n",
    "assert dectobin(420) == \"110100100\"\n",
    "assert dectobin(6857) == \"1101011001001\"\n",
    "assert dectobin(11) == \"1011\""
   ]
  },
  {
   "cell_type": "code",
   "execution_count": 6,
   "metadata": {
    "slideshow": {
     "slide_type": "subslide"
    }
   },
   "outputs": [],
   "source": [
    "def bintodec(n : str) -> int:\n",
    "    \"\"\"String -> int or None\n",
    "    Retourne l'entier correspondant à la conversion de `n` initialement en base 2 vers la base 10\"\"\"\n",
    "    # res : int\n",
    "    res = 0\n",
    "    # i : int\n",
    "    i : int = 0   # res, i = 0, 0\n",
    "    for a in n[::-1]: #reversed() native function\n",
    "        if a == '1':\n",
    "            res += 2 ** i\n",
    "        elif a != '0':\n",
    "            return None\n",
    "        i += 1\n",
    "    return res"
   ]
  },
  {
   "cell_type": "code",
   "execution_count": 7,
   "metadata": {},
   "outputs": [],
   "source": [
    "assert bintodec(\"101010\") == 42\n",
    "assert bintodec(\"110100100\") == 420\n",
    "assert bintodec(\"1101011001001\") == 6857 \n",
    "assert bintodec(\"1011\") == 11"
   ]
  },
  {
   "cell_type": "code",
   "execution_count": 17,
   "metadata": {
    "slideshow": {
     "slide_type": "subslide"
    }
   },
   "outputs": [],
   "source": [
    "def dectohex(n):\n",
    "    hexstring = [\"0\", \"1\", \"2\", \"3\", \"4\", \"5\", \"6\", \"7\", \"8\", \"9\", \"A\", \"B\", \"C\", \"D\", \"E\", \"F\"]\n",
    "    counter = 0\n",
    "    remainder = []\n",
    "    res = \"\"\n",
    "    if n > 0:\n",
    "        while n > 0:\n",
    "            remainder.append(n % 16)\n",
    "            n = n // 16\n",
    "            counter = counter + 1\n",
    "        for reverse in remainder[::-1]:\n",
    "            res += hexstring[reverse]\n",
    "    else:\n",
    "        res = \"0\"\n",
    "    return res"
   ]
  },
  {
   "cell_type": "code",
   "execution_count": 18,
   "metadata": {
    "slideshow": {
     "slide_type": "-"
    }
   },
   "outputs": [
    {
     "data": {
      "text/plain": [
       "'2A'"
      ]
     },
     "execution_count": 18,
     "metadata": {},
     "output_type": "execute_result"
    }
   ],
   "source": [
    "dectohex(42)"
   ]
  },
  {
   "cell_type": "markdown",
   "metadata": {
    "slideshow": {
     "slide_type": "slide"
    }
   },
   "source": [
    "#### Rows of ASCII : (manipulation de chaînes de caractères basique)\n",
    "<center>\n",
    "    <img src=\"./pics/ASCII.png\"\n",
    "         width=\"500\"\n",
    "         height=\"500\"/>\n",
    "</center>\n",
    "\n",
    "Ecrire une fonction `monsplit` qui étant donné une chaîne de caractère `mystring`  et un entier `n` en entrée, retourne une __nouvelle__ chaîne identique à `mystring` mais tronquée en différents groupes de caractères ayant une taille maximale de `n` caractères et séparés par un `\"\\n\"`."
   ]
  },
  {
   "cell_type": "code",
   "execution_count": 1,
   "metadata": {
    "scrolled": true,
    "slideshow": {
     "slide_type": "subslide"
    }
   },
   "outputs": [],
   "source": [
    "def monsplit(mystring : str, n : int) -> str:\n",
    "    \"\"\"String * Int -> String\n",
    "    Hypothese : n > 0\n",
    "    Retourne une chaîne identique à `mystring` tronquée par des `\\n` \n",
    "    et dont les groupes de caractères sont de taille inférieure ou\n",
    "    égale à `n`\"\"\"\n",
    "    # res : str\n",
    "    res = \"\"\n",
    "    # i :int\n",
    "    i = 1\n",
    "    for a in mystring:\n",
    "        if i % n == 0 and i != len(mystring):\n",
    "            res += a + \"\\n\"\n",
    "            i += 1\n",
    "        elif i % n == 0:\n",
    "            res += a\n",
    "            i += 1\n",
    "        else:\n",
    "            res += a\n",
    "            i += 1\n",
    "    return res"
   ]
  },
  {
   "cell_type": "code",
   "execution_count": 2,
   "metadata": {
    "slideshow": {
     "slide_type": "subslide"
    }
   },
   "outputs": [],
   "source": [
    "assert monsplit(\"\",5) == \"\"\n",
    "assert monsplit(\"ok\",1) == \"o\\nk\"\n",
    "assert monsplit(\"123456789\",2) == \"12\\n34\\n56\\n78\\n9\"\n",
    "assert monsplit(\"quedesmodde 3  \",3) == \"que\\ndes\\nmod\\nde \\n3  \"\n",
    "assert monsplit(\":-);-)0-(:-(^^ \",3) == \":-)\\n;-)\\n0-(\\n:-(\\n^^ \"\n",
    "assert monsplit(\"............\",4) == \"....\\n....\\n....\""
   ]
  },
  {
   "cell_type": "code",
   "execution_count": 5,
   "metadata": {},
   "outputs": [
    {
     "name": "stdout",
     "output_type": "stream",
     "text": [
      ":-)\n",
      ";-)\n",
      "0-(\n",
      ":-(\n",
      "^^ \n"
     ]
    }
   ],
   "source": [
    "print(monsplit(\":-);-)0-(:-(^^ \",3))"
   ]
  },
  {
   "cell_type": "markdown",
   "metadata": {
    "slideshow": {
     "slide_type": "slide"
    }
   },
   "source": [
    "#### Compression (et Décrompression) RLE: Running Length Encoding\n",
    "Ecrire une fonction `encode` qui transforme une chaîne `moncode` en une nouvelle chaîne dans laquelle les occurences successives sont remplacées par un entier correspondant au nombre de fois où le caractère précédent est répété.   \n",
    "*Indication* : Vous pouvez utiliser la fonction native `str()`"
   ]
  },
  {
   "cell_type": "code",
   "execution_count": null,
   "metadata": {},
   "outputs": [],
   "source": [
    "def encode(moncode : str) -> str:\n",
    "    \"\"\"String -> String\n",
    "    Retourne la version encodée selon le RLE de `moncode`\"\"\"\n",
    "    # res : str\n",
    "    res = \"\"\n",
    "    # i : int\n",
    "    i = 0\n",
    "    while (i < len(moncode)):\n",
    "        cpt = 1\n",
    "        j = i\n",
    "        while (j < len(moncode) - 1):\n",
    "            if (moncode[j] == moncode[j+1]):\n",
    "                cpt += 1\n",
    "                j += 1\n",
    "            else:\n",
    "                break\n",
    "        res += moncode[i] + str(cpt)  # Convertir les int en str\n",
    "        i = j + 1\n",
    "    return res"
   ]
  },
  {
   "cell_type": "code",
   "execution_count": null,
   "metadata": {
    "slideshow": {
     "slide_type": "subslide"
    }
   },
   "outputs": [],
   "source": [
    "assert encode(\"CCCCUUUAAAGG\") == \"C4U3A3G2\"\n",
    "assert encode(\"ABBBBCCCCCCCCAB\") == \"A1B4C8A1B1\"\n",
    "assert encode(\"abbcbchdhhhhdf????\") == \"a1b2c1b1c1h1d1h4d1f1?4\"\n",
    "assert encode(\"1111255547785877\") == \"142153417281518172\""
   ]
  },
  {
   "cell_type": "markdown",
   "metadata": {},
   "source": [
    "Ecrire une fonction `decode` qui transforme une chaîne codée selon le RLE, `coded` en une chaîne décodée ne comportant pas d'entiers à l'exception de ceux qui font partie de la chaîne originelle."
   ]
  },
  {
   "cell_type": "code",
   "execution_count": 6,
   "metadata": {
    "slideshow": {
     "slide_type": "subslide"
    }
   },
   "outputs": [],
   "source": [
    "def decode(coded : str) -> str:\n",
    "    \"\"\"String -> String\n",
    "    Retourne la version décodée selon le RLE de `coded`\"\"\"\n",
    "    # res :str\n",
    "    res = \"\"\n",
    "    # i : int\n",
    "    i = 0\n",
    "    while (i < len(coded)):\n",
    "        ocu = int(coded[i + 1])  # Convertir les str en int\n",
    "        res += coded[i] * ocu\n",
    "        i += 2\n",
    "    return res"
   ]
  },
  {
   "cell_type": "code",
   "execution_count": 7,
   "metadata": {},
   "outputs": [],
   "source": [
    "assert decode(\"a1b2c1b1c1h1d1h4d1f1?4\") == \"abbcbchdhhhhdf????\"\n",
    "assert decode(\"142153417281518172\") == \"1111255547785877\"\n",
    "assert decode(\"C4U3A3G2\") == \"CCCCUUUAAAGG\"\n",
    "assert decode(\"A1B4C8A1B1\") == \"ABBBBCCCCCCCCAB\""
   ]
  },
  {
   "cell_type": "markdown",
   "metadata": {
    "slideshow": {
     "slide_type": "slide"
    }
   },
   "source": [
    "#### Chiffrement de César:\n",
    "Pour communiquer avec ses armées, César avait recours à une technique de chiffrement simple pour crypter ses messages et échanger avec ses généraux. Le codage est un simple décalage circulaire des lettres de l'alphabet qui permettait aux personnes connaissant la clé de chiffrement (la taille du décalage) de décrypter le message rapidement. Bien que très primitif, cette méthode était assez efficace (étant donné qu'elle était possiblement utilisée sur un alphabet grec très peu connu à l'époque).  \n",
    "Ecrire une fonction `cesar` qui transforme une chaîne de caractères `secret` en une chaîne cryptée selon une clé `cle`. Votre chiffrement doit préserver les espaces et `secret` ne doit pas mélanger majuscules et minuscules.  \n",
    "*Indication*: Vous pouvez utiliser les fonctions `ord()` et `chr()` lors de la manipulation des caractères ASCII.\n",
    "<center>\n",
    "    <img src=\"./pics/cesar.jpg\"\n",
    "         width=\"200\"\n",
    "         height=\"200\" />\n",
    "</center>"
   ]
  },
  {
   "cell_type": "code",
   "execution_count": 8,
   "metadata": {
    "slideshow": {
     "slide_type": "subslide"
    }
   },
   "outputs": [],
   "source": [
    "def cesar(secret : str, cle : int) -> str:\n",
    "    \"\"\"String * Int -> String\n",
    "    Hypothese : 0 < cle < 26\n",
    "    Retourne le résultat du chiffrement circulaire de la chaîne `secret` en préservant les espaces\"\"\"\n",
    "    # res : str\n",
    "    res = \"\"\n",
    "    for a in secret:\n",
    "        if a == \" \":\n",
    "            res += a\n",
    "        else:\n",
    "            res += chr(((ord(a) - 65 - cle) % 26) + 65)\n",
    "    return res"
   ]
  },
  {
   "cell_type": "code",
   "execution_count": 9,
   "metadata": {
    "slideshow": {
     "slide_type": "subslide"
    }
   },
   "outputs": [],
   "source": [
    "assert cesar(\"ils sont fous ces romains\", 15) == \"ZCJ JFEK WFLJ TVJ IFDRZEJ\"\n",
    "assert cesar(\"le chat de cesar savait mais ne lui a rien dit\", 8) == 'JC AFYR BC ACQYP QYTYGR KYGQ LC JSG Y PGCL BGR'\n",
    "assert cesar(\"brutus est digne de confiance mdr\", 23) == 'KADCDB NBC MRPWN MN LXWORJWLN VMA'\n",
    "assert cesar(\"bonjour\", 5) == 'CPOKPVS'"
   ]
  },
  {
   "cell_type": "markdown",
   "metadata": {},
   "source": [
    "Ecrivez la fonction `decesar` qui étant donné une chaîne de caractères `crypte` effectue une série de tentatives de déchiffrements consistant à essayer la totalité des clés possibles (Bruteforce). La fonction retournera `None` et vous afficherez chacune des tentatives.  "
   ]
  },
  {
   "cell_type": "code",
   "execution_count": 10,
   "metadata": {
    "slideshow": {
     "slide_type": "subslide"
    }
   },
   "outputs": [],
   "source": [
    "def decesar(crypte : str) -> None:\n",
    "    \"\"\"String -> None\n",
    "    Dechiffre la chaîne crypte par une attaque Bruteforce.\"\"\"\n",
    "    for k in range(26):\n",
    "        print(cesar(crypte, -k))\n",
    "    return None"
   ]
  },
  {
   "cell_type": "code",
   "execution_count": 11,
   "metadata": {
    "scrolled": true
   },
   "outputs": [
    {
     "name": "stdout",
     "output_type": "stream",
     "text": [
      "ZCJ JFEK WFLJ TVJ IFDRZEJ\n",
      "ADK KGFL XGMK UWK JGESAFK\n",
      "BEL LHGM YHNL VXL KHFTBGL\n",
      "CFM MIHN ZIOM WYM LIGUCHM\n",
      "DGN NJIO AJPN XZN MJHVDIN\n",
      "EHO OKJP BKQO YAO NKIWEJO\n",
      "FIP PLKQ CLRP ZBP OLJXFKP\n",
      "GJQ QMLR DMSQ ACQ PMKYGLQ\n",
      "HKR RNMS ENTR BDR QNLZHMR\n",
      "ILS SONT FOUS CES ROMAINS\n",
      "JMT TPOU GPVT DFT SPNBJOT\n",
      "KNU UQPV HQWU EGU TQOCKPU\n",
      "LOV VRQW IRXV FHV URPDLQV\n",
      "MPW WSRX JSYW GIW VSQEMRW\n",
      "NQX XTSY KTZX HJX WTRFNSX\n",
      "ORY YUTZ LUAY IKY XUSGOTY\n",
      "PSZ ZVUA MVBZ JLZ YVTHPUZ\n",
      "QTA AWVB NWCA KMA ZWUIQVA\n",
      "RUB BXWC OXDB LNB AXVJRWB\n",
      "SVC CYXD PYEC MOC BYWKSXC\n",
      "TWD DZYE QZFD NPD CZXLTYD\n",
      "UXE EAZF RAGE OQE DAYMUZE\n",
      "VYF FBAG SBHF PRF EBZNVAF\n",
      "WZG GCBH TCIG QSG FCAOWBG\n",
      "XAH HDCI UDJH RTH GDBPXCH\n",
      "YBI IEDJ VEKI SUI HECQYDI\n"
     ]
    }
   ],
   "source": [
    "decesar(\"ZCJ JFEK WFLJ TVJ IFDRZEJ\")"
   ]
  },
  {
   "cell_type": "markdown",
   "metadata": {
    "slideshow": {
     "slide_type": "slide"
    }
   },
   "source": [
    "#### Nombres de Sastry:\n",
    "Un nombre de Sastry  est un nombre `n` qui concaténé avec son successeur `n + 1` donne un carré parfait (carré d'un nombre entier).  \n",
    "<ins>Exemples :</ins>  \n",
    "$183$ et $184$  \n",
    "$$ 183184 = 428^{2} $$  \n",
    "$328$ et $329$  \n",
    "$$ 328329 = 573^{2} $$  \n",
    "Ecrivez une fonction `Sastry` qui affiche l'ensemble des nombres de Sastry inférieurs ou égaux à `n`. Votre fonction devra retourner `None`.  \n",
    "<ins>*Indication* :</ins> vous pouvez utiliser les fonctions natives `str()` et `int()`."
   ]
  },
  {
   "cell_type": "code",
   "execution_count": 12,
   "metadata": {
    "slideshow": {
     "slide_type": "subslide"
    }
   },
   "outputs": [],
   "source": [
    "def Sastry(n : int) -> None:\n",
    "    \"\"\"Int -> None\n",
    "    Retourne l'ensemble des nombres de Sastry inférieurs à `n`\"\"\"\n",
    "    for cur in range(0,n + 1):\n",
    "        concat = str(cur) + str(cur + 1)\n",
    "        entier = int(concat)\n",
    "        if sqrt(entier) - int(sqrt(entier)) == 0:\n",
    "            print(cur, \"est un nombre de Sastry\")\n",
    "    return None"
   ]
  },
  {
   "cell_type": "code",
   "execution_count": 15,
   "metadata": {},
   "outputs": [
    {
     "name": "stdout",
     "output_type": "stream",
     "text": [
      "0 est un nombre de Sastry\n",
      "183 est un nombre de Sastry\n",
      "328 est un nombre de Sastry\n",
      "528 est un nombre de Sastry\n"
     ]
    }
   ],
   "source": [
    "Sastry(600)"
   ]
  },
  {
   "cell_type": "markdown",
   "metadata": {
    "slideshow": {
     "slide_type": "slide"
    }
   },
   "source": [
    "#### Palindromes:\n",
    "<center>\n",
    "    <img src=\"./pics/tacocat.jpg\"\n",
    "         width=\"200\"\n",
    "         height=\"200\"/>\n",
    "</center>\n",
    "\n",
    "Un palindrome est une entité qui se lit de la même façon de gauche à droite et de droite à gauche.  \n",
    "Des exemples connus sont: \"tacocat\", \"radar\", \"Ésope reste ici et se repose\", \"Et la marine va venir à Malte\".  \n",
    "Ecrivez une fonction `ispalindrome` qui retourne `True` si le mot ou la phrase donné en entrée est un palindrome et `False` dans le cas contraire."
   ]
  },
  {
   "cell_type": "code",
   "execution_count": 16,
   "metadata": {
    "slideshow": {
     "slide_type": "subslide"
    }
   },
   "outputs": [],
   "source": [
    "def ispalindrome(word : str) -> bool:\n",
    "    \"\"\"String -> Bool\n",
    "    Retourne True si le mot ou la phrase `word` est un palindrome, False sinon\"\"\"\n",
    "    # res : str\n",
    "    res = \"\"\n",
    "    \n",
    "    for a in word:\n",
    "        if a != \" \": \n",
    "            res += a\n",
    "            \n",
    "    for i in range(len(res)//2):\n",
    "        if res[i] != res[-i-1]:\n",
    "            return False\n",
    "    return True"
   ]
  },
  {
   "cell_type": "code",
   "execution_count": 17,
   "metadata": {},
   "outputs": [],
   "source": [
    "assert ispalindrome(\"tacocat\") == True\n",
    "assert ispalindrome(\"a man a plan a canal panama\")\n",
    "assert ispalindrome(\"esope reste ici et se repose\")\n",
    "assert ispalindrome(\"et la marine va venir a malte\")\n",
    "assert not ispalindrome(\"pizzacat\")"
   ]
  },
  {
   "cell_type": "markdown",
   "metadata": {
    "slideshow": {
     "slide_type": "slide"
    }
   },
   "source": [
    "#### Chaos et triangles:\n",
    "\n",
    "<center>\n",
    "    <img src=\"./pics/frac.jpg\"\n",
    "         width=\"300\"\n",
    "         height=\"300\"/>\n",
    "</center>\n",
    "\n",
    "Le jeu du chaos est une méthode permettant la création de fractales de manière simple et rapide. Etant donné un polygone et un point initial choisi au hasard au sein du polygone, on crée une séquence de points disposés à une distance correspondant à une fraction de la distance séparant le point précédent d'un des sommets du polygone.  \n",
    "Avec un triangle isocèle, une fraction de $\\frac{1}{2}$ et un nombre suffisant de points, on obtient un résultat que vous pourrez visualiser en suivant les instructions suivantes.  \n"
   ]
  },
  {
   "cell_type": "markdown",
   "metadata": {
    "slideshow": {
     "slide_type": "subslide"
    }
   },
   "source": [
    "Ecrivez une fonction `milieu` milieu qui étant donné 2 points `p1` et `p2` (dont le type est `tuple[float, float]`) renvoie le point situé en leur milieu."
   ]
  },
  {
   "cell_type": "code",
   "execution_count": 33,
   "metadata": {},
   "outputs": [],
   "source": [
    "def milieu(p1, p2):\n",
    "    \"\"\"tuple[float, float] * tuple[float, float] -> tuple[float, float]\n",
    "    Retourne le milieu des points `p1` et `p2`\"\"\"\n",
    "    x1, y1 = p1\n",
    "    x2, y2 = p2\n",
    "    return ((x1 + x2) / 2, (y1 + y2) / 2)"
   ]
  },
  {
   "cell_type": "code",
   "execution_count": 34,
   "metadata": {},
   "outputs": [],
   "source": [
    "assert milieu((1, 2), (2, 4)) == (1.5, 3.0)\n",
    "assert milieu((1, 2), (2, 2)) == (1.5, 2.0)\n",
    "assert milieu((18, 21), (12, 15)) == (15.0, 18.0)\n",
    "assert milieu((1, 2), (1, 2)) == (1.0, 2.0)"
   ]
  },
  {
   "cell_type": "markdown",
   "metadata": {
    "slideshow": {
     "slide_type": "subslide"
    }
   },
   "source": [
    "Ecrivez une fonction `marche_alea` qui étant donné un tuple de points `sommets` et un nombre `N` retourne une liste de points obtenues en procédant comme suit.  \n",
    "Après avoir initialement choisi un point aléatoire à l'aide de la méthode `random.choice(seq)` et l'avoir ajouté à la liste résultat, on effectue `N` itérations au cours desquelles on ajoute à la fin de la liste résultat le point situé au milieu du point précédent dans la liste résultat et un autre point aléatoire. "
   ]
  },
  {
   "cell_type": "code",
   "execution_count": 44,
   "metadata": {},
   "outputs": [],
   "source": [
    "import random\n",
    "\n",
    "def marche_alea(sommets, N):\n",
    "    \"\"\"String * Int -> list[tuple[Float, Float]]\n",
    "    Retourne le résultat de la marche aléatoire à `N` étapes\n",
    "    réalisée sur les points de départ `sommet`\"\"\"\n",
    "    #points = list(random.choice(sommets)) --> retourne [1, 2]  conversion et non wrap\n",
    "    points = [random.choice(sommets)]\n",
    "    for _ in range(N-1):\n",
    "        points += [milieu(points[-1], random.choice(sommets))]\n",
    "        #points.append(milieu(points[-1], random.choice(sommets)))\n",
    "    return points"
   ]
  },
  {
   "cell_type": "code",
   "execution_count": 51,
   "metadata": {
    "slideshow": {
     "slide_type": "subslide"
    }
   },
   "outputs": [],
   "source": [
    "#Fonction permettant le tracé des points calculés\n",
    "\n",
    "import matplotlib.pyplot as plt\n",
    "\n",
    "def transpose(matrix): return zip(*matrix)\n",
    "\n",
    "def show_walk(vertexes, N=5000):\n",
    "    \"Walk halfway towards a random vertex for N points; show results.\"\n",
    "    Xs, Ys = transpose(marche_alea(vertexes, N))\n",
    "    Xv, Yv = transpose(vertexes)\n",
    "    plt.plot(Xs, Ys, 'r.')\n",
    "    plt.plot(Xv, Yv, 'bs', clip_on=False)\n",
    "    plt.gca().set_aspect('equal')\n",
    "    plt.gcf().set_size_inches(9, 9)\n",
    "    plt.axis('off')\n",
    "    plt.show()\n",
    "\n",
    "# Quelques figures : \n",
    "triangle = ((0, 0), (0.5, (3**0.5)/2), (1, 0))\n",
    "square = ((0, 0), (0, 1), (1, 0), (1, 1))\n",
    "right_triangle = ((0, 0), (0, 1), (1, 0))\n",
    "left_triangle = ((0, 0), (1, 0), (1, 1))\n",
    "pentagon = ((0.5, -0.688), (0.809, 0.262), (0., 0.850), (-0.809, 0.262), (-0.5, -0.688))\n",
    "hexagon = ((0.5, -0.866), (1, 0), (0.5, 0.866), (-0.5, 0.866), (-1, 0), (-0.5, -0.866))"
   ]
  },
  {
   "cell_type": "code",
   "execution_count": 53,
   "metadata": {
    "slideshow": {
     "slide_type": "subslide"
    }
   },
   "outputs": [
    {
     "name": "stdout",
     "output_type": "stream",
     "text": [
      "Nombre de points :250\n"
     ]
    },
    {
     "data": {
      "image/png": "[encoded data removed]",
      "text/plain": [
       "<Figure size 648x648 with 1 Axes>"
      ]
     },
     "metadata": {
      "needs_background": "light"
     },
     "output_type": "display_data"
    }
   ],
   "source": [
    "nb = int(input(\"Nombre de points :\",))\n",
    "show_walk(triangle, nb)"
   ]
  },
  {
   "cell_type": "code",
   "execution_count": 54,
   "metadata": {
    "slideshow": {
     "slide_type": "subslide"
    }
   },
   "outputs": [
    {
     "name": "stdout",
     "output_type": "stream",
     "text": [
      "Nombre de points :6000\n"
     ]
    },
    {
     "data": {
      "image/png": "[encoded data removed]",
      "text/plain": [
       "<Figure size 648x648 with 1 Axes>"
      ]
     },
     "metadata": {
      "needs_background": "light"
     },
     "output_type": "display_data"
    }
   ],
   "source": [
    "nb = int(input(\"Nombre de points :\",))\n",
    "show_walk(square, nb)"
   ]
  },
  {
   "cell_type": "code",
   "execution_count": 55,
   "metadata": {
    "slideshow": {
     "slide_type": "subslide"
    }
   },
   "outputs": [
    {
     "name": "stdout",
     "output_type": "stream",
     "text": [
      "Nombre de points :360\n"
     ]
    },
    {
     "data": {
      "image/png": "[encoded data removed]",
      "text/plain": [
       "<Figure size 648x648 with 1 Axes>"
      ]
     },
     "metadata": {
      "needs_background": "light"
     },
     "output_type": "display_data"
    }
   ],
   "source": [
    "nb = int(input(\"Nombre de points :\",))\n",
    "show_walk(right_triangle, nb)"
   ]
  },
  {
   "cell_type": "code",
   "execution_count": 56,
   "metadata": {
    "slideshow": {
     "slide_type": "subslide"
    }
   },
   "outputs": [
    {
     "name": "stdout",
     "output_type": "stream",
     "text": [
      "Nombre de points :650\n"
     ]
    },
    {
     "data": {
      "image/png": "[encoded data removed]",
      "text/plain": [
       "<Figure size 648x648 with 1 Axes>"
      ]
     },
     "metadata": {
      "needs_background": "light"
     },
     "output_type": "display_data"
    }
   ],
   "source": [
    "nb = int(input(\"Nombre de points :\",))\n",
    "show_walk(left_triangle, nb)"
   ]
  },
  {
   "cell_type": "code",
   "execution_count": 57,
   "metadata": {
    "slideshow": {
     "slide_type": "subslide"
    }
   },
   "outputs": [
    {
     "name": "stdout",
     "output_type": "stream",
     "text": [
      "Nombre de points :800\n"
     ]
    },
    {
     "data": {
      "image/png": "[encoded data removed]",
      "text/plain": [
       "<Figure size 648x648 with 1 Axes>"
      ]
     },
     "metadata": {
      "needs_background": "light"
     },
     "output_type": "display_data"
    }
   ],
   "source": [
    "nb = int(input(\"Nombre de points :\",))\n",
    "show_walk(pentagon, nb)"
   ]
  },
  {
   "cell_type": "code",
   "execution_count": 62,
   "metadata": {
    "slideshow": {
     "slide_type": "subslide"
    }
   },
   "outputs": [
    {
     "name": "stdout",
     "output_type": "stream",
     "text": [
      "Nombre de points :900\n"
     ]
    },
    {
     "data": {
      "image/png": "[encoded data removed]",
      "text/plain": [
       "<Figure size 648x648 with 1 Axes>"
      ]
     },
     "metadata": {
      "needs_background": "light"
     },
     "output_type": "display_data"
    }
   ],
   "source": [
    "nb = int(input(\"Nombre de points :\",))\n",
    "show_walk(hexagon, nb)"
   ]
  }
 ],
 "metadata": {
  "celltoolbar": "Slideshow",
  "kernelspec": {
   "display_name": "Python 3",
   "language": "python",
   "name": "python3"
  },
  "language_info": {
   "codemirror_mode": {
    "name": "ipython",
    "version": 3
   },
   "file_extension": ".py",
   "mimetype": "text/x-python",
   "name": "python",
   "nbconvert_exporter": "python",
   "pygments_lexer": "ipython3",
   "version": "3.7.7"
  }
 },
 "nbformat": 4,
 "nbformat_minor": 4
}
