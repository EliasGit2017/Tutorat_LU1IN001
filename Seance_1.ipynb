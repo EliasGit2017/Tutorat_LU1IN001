{
 "cells": [
  {
   "cell_type": "markdown",
   "metadata": {
    "slideshow": {
     "slide_type": "slide"
    }
   },
   "source": [
    "<center><img src=\"./pics/logo.jpg\"\n",
    "             width=\"500\"\n",
    "             height=\"500\"/>\n",
    "</center>  \n",
    "\n",
    "# LU1IN001 : Elements de programmation 1\n",
    "### Séance de tutorat n°1:\n",
    "- Informations utiles\n",
    "- Python 3.4.1\n",
    "- Pytudes\n",
    "\n",
    "<!--\n",
    "-> Bases conversions hex, oct, dec, bin\n",
    "-> Pourquoi Python?\n",
    "-> Les types\n",
    "-> one liners et autres examples: a=10 if y%7 == 0 else 45\n",
    "-> Exemples DNA\n",
    "-> Du Morse\n",
    "-> Hare and tortoise\n",
    "-> Sort Positives, Keep Negatives\n",
    "-> All pairs that sum to target\n",
    "-> MAC address checking -> Email and other\n",
    "-> Subnetting\n",
    "-> Horner\n",
    "-> Graphs\n",
    "-> Regex\n",
    "-->"
   ]
  },
  {
   "cell_type": "markdown",
   "metadata": {
    "slideshow": {
     "slide_type": "slide"
    }
   },
   "source": [
    "### Présentation:\n",
    "<center><ins><b>Elias Bendjaballah</b></ins><br>\n",
    "    MIPI 2017-2018 <br>\n",
    "    Licence Informatique (juin 2020)<br>\n",
    "    Master ANDROIDE (IA et Recherche Opérationnelle) <br>\n",
    "    <ins> Page web perso: </ins>\n",
    "    <img src=\"./pics/qr-code.svg\"\n",
    "         width=\"200\"\n",
    "         height=\"200\"/>\n",
    "</center>\n"
   ]
  },
  {
   "cell_type": "markdown",
   "metadata": {
    "slideshow": {
     "slide_type": "slide"
    }
   },
   "source": [
    "### Informations utiles:\n",
    "* Cette rentrée est spéciale \n",
    "    * Forte influence du Contrôle continu (CC) dans la note finale : 50% CC et 50% Examen\n",
    "    * Probabilité non négligeable de continuer le semestre en distanciel\n",
    "    * Toute évaluation réalisée en présentiel compte et peut être déterminante.\n",
    "* Elle implique des efforts particuliers\n",
    "    * Rester informé et connecté\n",
    "    * Etre équipé (possibilités de prêts d'ordinateurs chez ALIAS pour le semestre)\n",
    "    * Pouvoir s'adapter et continuer d'apprendre \n",
    "    * Travail continu, soigné et **Formez des groupes d'études**"
   ]
  },
  {
   "cell_type": "markdown",
   "metadata": {
    "slideshow": {
     "slide_type": "subslide"
    }
   },
   "source": [
    "* Associations :\n",
    "    * Alias : FB https://www.facebook.com/ALIAS.asso/\n",
    "    * Association Défis Sorbonne : https://www.defis-sorbonne.fr/\n",
    "    * Fablab Sorbonne Université : https://www.facebook.com/fablabsu/\n",
    "    * Good game Fest : https://www.facebook.com/GoodGameFest/\n",
    "    * Axio Sorbonne U : FB https://www.facebook.com/AXIOBDF"
   ]
  },
  {
   "cell_type": "markdown",
   "metadata": {
    "slideshow": {
     "slide_type": "subslide"
    }
   },
   "source": [
    "<ul> \n",
    "    <li><a href=\"https://chat.whatsapp.com/KHzAntc3h7FBsoMklzatW1\"><ins>Groupe Whatsapp : https://chat.whatsapp.com/KHzAntc3h7FBsoMklzatW1</ins></a> : \n",
    "<img src=\"./pics/qr-code_whatsapp.svg\"\n",
    "     width=\"200\"\n",
    "     height=\"200\" /></li>\n",
    "<li> <ins>Github Repository</ins> <a href=\"https://github.com/EliasGit2017/Tutorat_LU1IN001\"><ins>(notebooks, codes et solutions) : https://github.com/EliasGit2017/Tutorat_LU1IN001</ins></a> :\n",
    "<img src=\"./pics/gitqr.svg\"\n",
    "     width=\"200\"\n",
    "     height=\"200\" /></li>\n",
    "</ul>"
   ]
  },
  {
   "cell_type": "markdown",
   "metadata": {
    "slideshow": {
     "slide_type": "subslide"
    }
   },
   "source": [
    "### Organisation de la séance :\n",
    "* __Format__: Notebooks Jupyter (possibilité de suivre la séance sur votre ordi)\n",
    "* Série de problèmes à résoudre en python (similaires aux questions d'exams et de TME Solo)\n",
    "* Intéractions autant que possible\n",
    "* Possibilité de modifier le déroulement et la forme des séances (ouvert à toute suggestion)\n",
    "* Toutes les questions sont les bienvenues\n",
    "* Migration vers Discord ou Zoom en cas de distanciel (vous serez informé à temps sur **WHATSAPP**)"
   ]
  },
  {
   "cell_type": "markdown",
   "metadata": {
    "slideshow": {
     "slide_type": "slide"
    }
   },
   "source": [
    "### Python:\n",
    "<center>\n",
    "    <img src=\"./pics/python_logo.png\"\n",
    "         width=\"400\"\n",
    "         height=\"400\"/>\n",
    "</center>\n",
    "\n",
    "* Développé par Guido Von Rossum (première version créée fin 1989)\n",
    "* Inspiré du langage ABC (développé au CWI d'Amsterdam), mais aussi du C et de Modula-3 (proche de Pascal)\n",
    "* Avantages :\n",
    "    * Lisible, épuré et intuitif\n",
    "    * Peu de constructions syntaxiques\n",
    "    * Optimisation de la productivité et outils de haut niveau utilisables rapidement (un peu trop haut niveau pour certains)"
   ]
  },
  {
   "cell_type": "markdown",
   "metadata": {
    "slideshow": {
     "slide_type": "subslide"
    }
   },
   "source": [
    "<center>\n",
    "    <img src=\"./pics/0.jpeg\"\n",
    "         width=\"400\"\n",
    "         height=\"400\" />\n",
    "</center>"
   ]
  },
  {
   "cell_type": "markdown",
   "metadata": {
    "slideshow": {
     "slide_type": "subslide"
    }
   },
   "source": [
    "Caractéristiques:\n",
    "* __Indenté__ et typage dynamique fort\n",
    "* Idéal pour la programmation impérative (mais aussi la fonctionnelle et la POO)\n",
    "* Gestion automatique de la mémoire avec un garbage collector (les memory leaks sont limitées, ce qui n'est pas le cas du C)\n",
    "* Très forte influence de la POO (aussi bien dans l'usage que dans le développement du langage)<br>\n",
    "*Toute donnée est stockée sous la forme d'un objet"
   ]
  },
  {
   "cell_type": "code",
   "execution_count": 3,
   "metadata": {},
   "outputs": [
    {
     "name": "stdout",
     "output_type": "stream",
     "text": [
      "<class 'list'>\n",
      "<class 'str'> \t <class 'str'>\n",
      "<class 'int'> \t <class 'float'>\n"
     ]
    }
   ],
   "source": [
    "print(type([1,2,3]))\n",
    "print(type('a'), \"\\t\", type(\"salut\"))\n",
    "print(type(1) ,\"\\t\", type(1.0))"
   ]
  },
  {
   "cell_type": "markdown",
   "metadata": {
    "slideshow": {
     "slide_type": "subslide"
    }
   },
   "source": [
    "<center> \n",
    "    <img src=\"./pics/type.png\"\n",
    "         width=\"400\"\n",
    "         height=\"400\"/>\n",
    "</center>"
   ]
  },
  {
   "cell_type": "markdown",
   "metadata": {
    "slideshow": {
     "slide_type": "slide"
    }
   },
   "source": [
    "### Python 3.4.1:\n",
    "Version 3.4 publiée le 16 mars 2014 et avec pour principale feature la correction de la vulnérabilité **HeartBleed** (qui est toujours active avec environ 180 000 appareils connectés encore vulnérables au 23 janvier 2017). Mais aussi ajout de nombreuses fonctionnalités :\n",
    "* `pip` présent par défaut\n",
    "* ajout de `tracemalloc`\n",
    "* ajout de la méthode `get_instructions()` au module `dis`\n",
    "* ajout du module `statistics`  \n",
    "Et bien d'autres fonctionalités qui en plus des avantages inhérents au langage en font un outil incontournable pour **toutes** les tâches de traitement d'information.  \n",
    "Python est l'un des langages les plus utilisés dans la recherche et reste la principale solution aux projets et logiciels devant être livrés rapidement. "
   ]
  },
  {
   "cell_type": "markdown",
   "metadata": {
    "slideshow": {
     "slide_type": "subslide"
    }
   },
   "source": [
    "``` python\n",
    "# Exemple de Script (implémentation d'une cascade de Haar)\n",
    "import cv2\n",
    "import numpy as np\n",
    "\n",
    "face_cascade = cv2.CascadeClassifier('./Face_detection/haarcascade_frontalface_default.xml')\n",
    "eye_cascade = cv2.CascadeClassifier('./Face_detection/haarcascade_eye.xml')\n",
    "\n",
    "cap = cv2.VideoCapture(0)\n",
    "\n",
    "while(True):\n",
    "    ret, img =cap.read()\n",
    "    gray = cv2.cvtColor(img, cv2.COLOR_BGR2GRAY)\n",
    "    faces = face_cascade.detectMultiScale(gray, 1.3, 5)\n",
    "    for(x,y,w,h) in faces:\n",
    "        cv2.rectangle(img,(x,y),(x+w,y+h), (0,0,255),2)\n",
    "        roi_gray = gray[y:y+h, x:x+w]\n",
    "        roi_color = img[y:y+h, x:x+w]\n",
    "        eyes = eye_cascade.detectMultiScale(roi_gray)\n",
    "        for(ex,ey,ew,eh) in eyes:\n",
    "            cv2.rectangle(roi_color, (ex,ey), (ex+ew,ey+eh), (255,255,0),2)\n",
    "            \n",
    "    cv2.imshow('Face Recognition (legit)',img)\n",
    "    k = cv2.waitKey(30) & 0xff\n",
    "    if k == 27:\n",
    "        break\n",
    "cap.release()\n",
    "cv2.destroyAllWindows()\n",
    "```"
   ]
  },
  {
   "cell_type": "code",
   "execution_count": 12,
   "metadata": {
    "slideshow": {
     "slide_type": "subslide"
    }
   },
   "outputs": [
    {
     "name": "stdout",
     "output_type": "stream",
     "text": [
      "6.123233995736766e-17\n",
      "2.5066282746310002\n"
     ]
    },
    {
     "data": {
      "image/png": "[encoded data removed]",
      "text/plain": [
       "<Figure size 432x288 with 1 Axes>"
      ]
     },
     "metadata": {
      "needs_background": "light"
     },
     "output_type": "display_data"
    }
   ],
   "source": [
    "# librairies math, numpy et tracé des fonctions sinus et cosinus\n",
    "from math import sqrt, pi, sin, cos\n",
    "import matplotlib.pyplot as plt\n",
    "import numpy as np\n",
    "\n",
    "print(cos(pi / 2))\n",
    "print(sqrt(2 * pi))\n",
    "x = np.arange(-pi / 2, 5 * pi, 0.1)\n",
    "plt.plot(x, np.sin(x), x, np.cos(x))\n",
    "plt.show()"
   ]
  },
  {
   "cell_type": "markdown",
   "metadata": {
    "slideshow": {
     "slide_type": "slide"
    }
   },
   "source": [
    "### Règles de cette UE:\n",
    "* Pas de variable globale (`global x = 100`)\n",
    "* Pas de bloc lexical\n",
    "* Votre code doit garder des types simples (pas d'éléments hétérogènes) `L = [1, \"chaîne\", 2.0, [\"inception\"]]`\n",
    "* Pas d'accès direct des n-uplets\n",
    "* __TOUJOURS__ écrire la documentation des fonctions et clairement identifier les variables utilisées"
   ]
  },
  {
   "cell_type": "markdown",
   "metadata": {
    "slideshow": {
     "slide_type": "subslide"
    }
   },
   "source": [
    "### Petits tips pour vos premiers pas:\n",
    "1. Faire attentions aux types de vos variables, aux opérateurs utilisés ainsi qu'aux différentes intéractions\n",
    "2. Rester simple (L'UE est facile, mais demande de la rapidité et des raisonnements logiques et biens structurés)\n",
    "3. Décomposer les problèmes qui paraissent compliqués en plusieurs fonctions\n",
    "4. Débugger votre code à coups de `print()` et éventuellement avec `input()` (même sur MrPython)\n",
    "5. Analyser les `assert` (types obtenus en sortie et traitements des différents cas). \n",
    "6. Ecrire de bons tests `assert` et envisager les différents cas possibles"
   ]
  },
  {
   "cell_type": "code",
   "execution_count": 4,
   "metadata": {
    "slideshow": {
     "slide_type": "slide"
    }
   },
   "outputs": [],
   "source": [
    "def perim(l, L):\n",
    "    \"\"\"float * float -> float\n",
    "    hyp: l <= L\n",
    "    Retourne le périmètre d'un quadrilatère de largeur l et de longueur L\"\"\"\n",
    "    #return float(2 * (l + L))\n",
    "    return 2 * (l + L)\n",
    "\n",
    "assert perim(5, 6) == 22\n",
    "assert perim(5, 6) == 21.999999999999999"
   ]
  },
  {
   "cell_type": "code",
   "execution_count": 5,
   "metadata": {},
   "outputs": [],
   "source": [
    "assert 6 == 5.9999999999999999"
   ]
  },
  {
   "cell_type": "markdown",
   "metadata": {
    "slideshow": {
     "slide_type": "slide"
    }
   },
   "source": [
    "#### Le mont Olympe martien:\n",
    "L'un des plus hauts volcans connus du système solaire se trouve sur Mars et porte le nom de \"Olympus Mons\". Son altitude d'environ $26\\ km$ lui donne la particularité d'avoir une pente telle qu'une personne se trouvant à sa base ne puisse voir son sommet.\n",
    "\n",
    "<center>\n",
    "<img src=\"./pics/Mars.jpeg\"\n",
    "     width=\"500\"\n",
    "     height=\"500\"/>\n",
    "</center>"
   ]
  },
  {
   "cell_type": "markdown",
   "metadata": {},
   "source": [
    "Ecrire une fonction `MarsR` qui à partir de la hauteur `h` du volcan Olympe et de la distance `d` de l'horizon réel martien, retourne une estimation du rayon de Mars."
   ]
  },
  {
   "cell_type": "code",
   "execution_count": 8,
   "metadata": {
    "slideshow": {
     "slide_type": "subslide"
    }
   },
   "outputs": [],
   "source": [
    "# Votre code doit être écrit ici :"
   ]
  },
  {
   "cell_type": "code",
   "execution_count": 9,
   "metadata": {},
   "outputs": [],
   "source": [
    "assert MarsR(26*10**3, 420*10**3) == 3379307.6923076925\n",
    "# Il est aussi possible d'appliquer cette fonction pour estimer le rayon de la Terre (et d'autres planètes)\n",
    "# Pour un observateur situé en bord de mer à 1.8 m de hauteur et pour qui l'horizon se trouve à environ 4789.11 m \n",
    "assert MarsR(1.8, 4789.11) == 6370992.042249999 # Rayon équatorial de la Terre"
   ]
  },
  {
   "cell_type": "markdown",
   "metadata": {
    "slideshow": {
     "slide_type": "slide"
    }
   },
   "source": [
    "#### Une approximation de sinus vieille de 1400 ans:\n",
    "Au VI<sup>eme</sup> siècle, le mathématicien Mahabhaskariya de Bhaskara I a donné une approximation de sinus (pour un angle $x$ tel que $0\\leq x \\leq \\pi$) remarquablement précise pour l'époque.  \n",
    "\n",
    "$$\\sin(x) = \\frac{16 x (\\pi - x)}{5\\pi^{2}-4x(\\pi -x)}$$\n",
    "\n",
    "<center>\n",
    "    <img src=\"./pics/bara.jpg\"\n",
    "         height=\"250\"\n",
    "         width=\"250\" />\n",
    "</center>"
   ]
  },
  {
   "cell_type": "markdown",
   "metadata": {},
   "source": [
    "Ecrire la fonction `approSin` qui étant donné la mesure en radian d'un angle `x` tel que $0\\leq x \\leq \\pi$ retourne l'approximation de son sinus."
   ]
  },
  {
   "cell_type": "code",
   "execution_count": 19,
   "metadata": {
    "slideshow": {
     "slide_type": "subslide"
    }
   },
   "outputs": [],
   "source": [
    "# Votre code doit être écrit ici :"
   ]
  },
  {
   "cell_type": "code",
   "execution_count": 20,
   "metadata": {},
   "outputs": [],
   "source": [
    "assert approSin(0.79) == 0.7091189442375202\n",
    "assert approSin(1.57) == 0.9999996787427855\n",
    "assert approSin(2.36) == 0.7031948565648719"
   ]
  },
  {
   "cell_type": "markdown",
   "metadata": {
    "slideshow": {
     "slide_type": "slide"
    }
   },
   "source": [
    "#### Fibonacci (une fois n'est pas coutume) :\n",
    "\n",
    "<center>\n",
    "    <img src=\"./pics/joconde-ratio-fibonacci.jpg\"\n",
    "         width=\"150\"\n",
    "         height=\"150\" />\n",
    "    <img src=\"./pics/838_fibonacci.jpg\"\n",
    "         width=\"150\"\n",
    "         heigth=\"150\" />\n",
    "</center>\n",
    "\n",
    "La suite de Fibonnaci est un classique en informatique. La suite doit son nom à Leonardo Fibonacci qui, dans un problème récréatif posé dans l'ouvrage Liber abaci publié en 1202, décrit la croissance d'une population de lapins."
   ]
  },
  {
   "cell_type": "markdown",
   "metadata": {
    "slideshow": {
     "slide_type": "subslide"
    }
   },
   "source": [
    "« Quelqu’un a déposé un couple de lapins dans un certain lieu, clos de toutes parts, pour savoir combien de couples seraient issus de cette paire en une année, car il est dans leur nature de générer un autre couple en un seul mois, et qu’ils enfantent dans le second mois après leur naissance. »"
   ]
  },
  {
   "cell_type": "markdown",
   "metadata": {
    "slideshow": {
     "slide_type": "-"
    }
   },
   "source": [
    "Ecrivez une fonction `fibonacci` permettant de calculer le n<sup>eme</sup> terme de la suite de fibonnaci.\n",
    "$$ F(n) =\\begin{cases}\n",
    "      0 & \\text{si n = 0}\\\\\n",
    "      1 & \\text{si n = 1}\\\\\n",
    "      F_{n-1} + F{n-2} & \\text{si n > 1}\n",
    "      \\end{cases}$$"
   ]
  },
  {
   "cell_type": "code",
   "execution_count": 1,
   "metadata": {
    "slideshow": {
     "slide_type": "subslide"
    }
   },
   "outputs": [],
   "source": [
    "# Votre code doit être écrit ici :"
   ]
  },
  {
   "cell_type": "code",
   "execution_count": 3,
   "metadata": {},
   "outputs": [],
   "source": [
    "assert fibonacci(0) == 0\n",
    "assert fibonacci(5) == 5\n",
    "assert fibonacci(7) == 13\n",
    "assert fibonacci(25) == 75025"
   ]
  },
  {
   "cell_type": "markdown",
   "metadata": {
    "slideshow": {
     "slide_type": "slide"
    }
   },
   "source": [
    "#### Pierre, Papier, Ciseaux:  \n",
    "Très motivé par l'étude des comportements humains et fort de vos skills en python, vous entreprenez la réalisation d'une expérience de simulation de comportement afin de prédire les résultats de parties de chifoumi.  \n",
    "Vous décidez donc d'écrire une fonction `AI_beats_humans` qui étant donné le choix `n`  de votre adversaire (0 : pierre, 1 : papier, 2 : ciseaux) retourne un choix gagnant.  \n",
    "\n",
    "<center>\n",
    "    <img src=\"./pics/rps.jpg\"\n",
    "         width=\"450\"\n",
    "         heigth=\"450\" />\n",
    "</center>"
   ]
  },
  {
   "cell_type": "code",
   "execution_count": 1,
   "metadata": {
    "slideshow": {
     "slide_type": "subslide"
    }
   },
   "outputs": [],
   "source": [
    "# Votre code doit être écrit ici :"
   ]
  },
  {
   "cell_type": "code",
   "execution_count": 2,
   "metadata": {},
   "outputs": [],
   "source": [
    "assert AI_beats_humans(2) == 0\n",
    "assert AI_beats_humans(1) == 2\n",
    "assert AI_beats_humans(0) == 1"
   ]
  },
  {
   "cell_type": "markdown",
   "metadata": {
    "slideshow": {
     "slide_type": "subslide"
    }
   },
   "source": [
    "Maintenant que vous disposez du principe de base du jeu, vous décidez d'implémenter la possibilité de réaliser plusieurs parties successives afin de mieux cerner les habitudes de votre adversaire. En fin de jeu, vous retournerez les fréquences d'utilisation de la pierre, du papier et des ciseaux de votre adversaire.  \n",
    "Ecrivez une fonction `AI_analyses_you` qui simule `p` parties de jeu et affiche la frequence de jeu résultante.  \n",
    "Le comportement de votre adversaire sera simulé par un tirage aléatoire entre les entiers 0, 1 et 2."
   ]
  },
  {
   "cell_type": "code",
   "execution_count": 24,
   "metadata": {
    "slideshow": {
     "slide_type": "subslide"
    }
   },
   "outputs": [],
   "source": [
    "# Votre code doit être écrit ici :"
   ]
  },
  {
   "cell_type": "markdown",
   "metadata": {},
   "source": [
    "#### All pairs that sum to target :\n",
    "\n",
    "<center>\n",
    "    <img src=\"./pics/Sum.png\"\n",
    "         width=\"150\"\n",
    "         height=\"150\" />\n",
    "</center>\n",
    "\n",
    "Ecrivez une fonction `sum_to_target` qui étant donné un nombre `n`, affiche l'ensemble des paires dont la somme est égale `n`.  \n",
    "`>>> sum_to_target(7)`  \n",
    "`>>> 2+5\n",
    "     3+4\n",
    "     6+1`"
   ]
  },
  {
   "cell_type": "code",
   "execution_count": 2,
   "metadata": {},
   "outputs": [],
   "source": [
    "# Votre code doit être écrit ici :"
   ]
  },
  {
   "cell_type": "code",
   "execution_count": 3,
   "metadata": {},
   "outputs": [
    {
     "name": "stdout",
     "output_type": "stream",
     "text": [
      "1 + 6\n",
      "2 + 5\n",
      "3 + 4\n"
     ]
    }
   ],
   "source": [
    "assert sum_to_target(7) == None"
   ]
  },
  {
   "cell_type": "code",
   "execution_count": 4,
   "metadata": {},
   "outputs": [
    {
     "name": "stdout",
     "output_type": "stream",
     "text": [
      "1 + 14\n",
      "2 + 13\n",
      "3 + 12\n",
      "4 + 11\n",
      "5 + 10\n",
      "6 + 9\n",
      "7 + 8\n"
     ]
    }
   ],
   "source": [
    "assert sum_to_target(15) == None"
   ]
  },
  {
   "cell_type": "markdown",
   "metadata": {
    "slideshow": {
     "slide_type": "slide"
    }
   },
   "source": [
    "<center>\n",
    "    <img src=\"./pics/1.png\"\n",
    "         width=\"500\"\n",
    "         height=\"500\"/>\n",
    "</center>"
   ]
  },
  {
   "cell_type": "markdown",
   "metadata": {
    "slideshow": {
     "slide_type": "subslide"
    }
   },
   "source": [
    "<center>\n",
    "    <img src=\"./pics/2.png\"\n",
    "         width=\"500\"\n",
    "         height=\"500\"/>\n",
    "</center>"
   ]
  },
  {
   "cell_type": "code",
   "execution_count": null,
   "metadata": {},
   "outputs": [],
   "source": []
  },
  {
   "cell_type": "markdown",
   "metadata": {},
   "source": [
    "<center>\n",
    "    <img src=\"./pics/3.png\"\n",
    "         width=\"500\"\n",
    "         height=\"500\"/>\n",
    "</center>"
   ]
  },
  {
   "cell_type": "code",
   "execution_count": null,
   "metadata": {},
   "outputs": [],
   "source": []
  },
  {
   "cell_type": "markdown",
   "metadata": {},
   "source": [
    "<center>\n",
    "    <img src=\"./pics/4.png\"\n",
    "         width=\"500\"\n",
    "         height=\"500\"/>\n",
    "</center>"
   ]
  },
  {
   "cell_type": "code",
   "execution_count": null,
   "metadata": {},
   "outputs": [],
   "source": []
  },
  {
   "cell_type": "markdown",
   "metadata": {},
   "source": [
    "<center>\n",
    "    <img src=\"./pics/5.png\"\n",
    "         width=\"500\"\n",
    "         height=\"500\"/>\n",
    "</center>"
   ]
  },
  {
   "cell_type": "markdown",
   "metadata": {},
   "source": [
    "<center>\n",
    "    <img src=\"./pics/6.png\"\n",
    "         width=\"500\"\n",
    "         height=\"500\"/>\n",
    "</center>"
   ]
  },
  {
   "cell_type": "code",
   "execution_count": null,
   "metadata": {},
   "outputs": [],
   "source": []
  },
  {
   "cell_type": "markdown",
   "metadata": {
    "slideshow": {
     "slide_type": "slide"
    }
   },
   "source": [
    "#### Traduction en mRNA:\n",
    "<center>\n",
    "    <img src=\"./pics/dnarys.jpg\"\n",
    "         width=\"300\"\n",
    "         height=\"300\"/>\n",
    "</center>\n",
    "\n",
    "Ecrire une fonction `DNA_to_mRNA` qui étant donné une séquence de nucléotides `adn` (sous forme de chaîne de caractères formées par les bases A,T,C,G) retourne la séquence d'ARN messager correspondante. Observez les `assert` pour en déduire les règles de conversion ADN -> ARNm."
   ]
  },
  {
   "cell_type": "code",
   "execution_count": 2,
   "metadata": {
    "slideshow": {
     "slide_type": "subslide"
    }
   },
   "outputs": [],
   "source": [
    "# Votre code doit être écrit ici :"
   ]
  },
  {
   "cell_type": "code",
   "execution_count": 2,
   "metadata": {
    "slideshow": {
     "slide_type": "subslide"
    }
   },
   "outputs": [],
   "source": [
    "assert DNA_to_mRNA(\"ACTGCCAATTTGGACCC\") == \"UGACGGUUAAACCUGGG\"\n",
    "assert DNA_to_mRNA(\"GTCATACGACGTA\") == \"CAGUAUGCUGCAU\"\n",
    "assert DNA_to_mRNA(\"AGGCAAAXTGG\") == \"Erreur, nucleotide inconnu...veuillez retourner sur Mars\""
   ]
  },
  {
   "cell_type": "markdown",
   "metadata": {
    "slideshow": {
     "slide_type": "slide"
    }
   },
   "source": [
    "##### Conversions Bin, Oct, Hex, Dec:\n",
    "\n",
    "Convertir les données vers les différentes bases est une opération courante. Bien que les conversions soient  implémentées nativement dans la plupart des langages, il est nécessaire de maîtriser les représentations en bases 2, 6 et 8 et de pouvoir les lire rapidement.\n",
    "\n",
    "\n",
    "<center>\n",
    "    <img src=\"./pics/DNSyout.png\"\n",
    "         width=\"800\"\n",
    "         height=\"600\"/> <br>\n",
    "    <ins><figcaption>Requête DNS pour youtube.com</figcaption></ins>\n",
    "</center>"
   ]
  },
  {
   "cell_type": "markdown",
   "metadata": {
    "slideshow": {
     "slide_type": "subslide"
    }
   },
   "source": [
    "Ecrivez les fonctions `dectobin`, `bintodec`, `dectohex`, `hextodec`, `dectooct`, `octtodec` qui réalisent les conversions d'un entier `n` entre le système decimal et les systèmes binaire, hexadecimal, octal et vice-versa.  \n",
    "<ins>*Exemple* :</ins>  \n",
    "42 :\n",
    "* 0b101010 en binaire\n",
    "* 0x2a en hexadecimal \n",
    "* 0o52 en octal"
   ]
  },
  {
   "cell_type": "code",
   "execution_count": 4,
   "metadata": {
    "slideshow": {
     "slide_type": "subslide"
    }
   },
   "outputs": [],
   "source": [
    "# Votre code doit être écrit ici :"
   ]
  },
  {
   "cell_type": "code",
   "execution_count": 5,
   "metadata": {},
   "outputs": [],
   "source": [
    "assert dectobin(42) == \"101010\"\n",
    "assert dectobin(420) == \"110100100\"\n",
    "assert dectobin(6857) == \"1101011001001\"\n",
    "assert dectobin(11) == \"1011\""
   ]
  },
  {
   "cell_type": "code",
   "execution_count": 6,
   "metadata": {
    "slideshow": {
     "slide_type": "subslide"
    }
   },
   "outputs": [],
   "source": [
    "# Votre code doit être écrit ici :"
   ]
  },
  {
   "cell_type": "code",
   "execution_count": 7,
   "metadata": {},
   "outputs": [],
   "source": [
    "assert bintodec(\"101010\") == 42\n",
    "assert bintodec(\"110100100\") == 420\n",
    "assert bintodec(\"1101011001001\") == 6857 \n",
    "assert bintodec(\"1011\") == 11"
   ]
  }
 ],
 "metadata": {
  "celltoolbar": "Slideshow",
  "kernelspec": {
   "display_name": "Python 3",
   "language": "python",
   "name": "python3"
  },
  "language_info": {
   "codemirror_mode": {
    "name": "ipython",
    "version": 3
   },
   "file_extension": ".py",
   "mimetype": "text/x-python",
   "name": "python",
   "nbconvert_exporter": "python",
   "pygments_lexer": "ipython3",
   "version": "3.7.9"
  }
 },
 "nbformat": 4,
 "nbformat_minor": 4
}
