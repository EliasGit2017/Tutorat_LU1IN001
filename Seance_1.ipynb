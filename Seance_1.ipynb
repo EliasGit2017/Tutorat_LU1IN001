{
 "cells": [
  {
   "cell_type": "markdown",
   "metadata": {
    "slideshow": {
     "slide_type": "slide"
    }
   },
   "source": [
    "<center><img src=\"./pics/logo.jpg\"\n",
    "             width=\"500\"\n",
    "             height=\"500\"/>\n",
    "</center>  \n",
    "\n",
    "# LU1IN001 : Elements de programmation 1\n",
    "### Séance de tutorat n°1:\n",
    "- Informations utiles\n",
    "- Python 3.4.1\n",
    "- Pytudes\n",
    "\n",
    "<!--\n",
    "-> Bases conversions hex, oct, dec, bin\n",
    "-> Pourquoi Python?\n",
    "-> Les types\n",
    "-> one liners et autres examples: a=10 if y%7 == 0 else 45\n",
    "-> Exemples DNA\n",
    "-> Du Morse\n",
    "-> Hare and tortoise\n",
    "-> Sort Positives, Keep Negatives\n",
    "-> All pairs that sum to target\n",
    "-> MAC address checking -> Email and other\n",
    "-> Subnetting\n",
    "-> Horner\n",
    "-> Graphs\n",
    "-> Regex\n",
    "-->"
   ]
  },
  {
   "cell_type": "markdown",
   "metadata": {
    "slideshow": {
     "slide_type": "slide"
    }
   },
   "source": [
    "### Présentation:\n",
    "<center><ins><b>Elias Bendjaballah</b></ins><br>\n",
    "    MIPI 2017-2018 <br>\n",
    "    Licence Informatique (juin 2020)<br>\n",
    "    Master ANDROIDE (IA et Recherche Opérationnelle) <br>\n",
    "    <ins> Page web perso: </ins>\n",
    "    <img src=\"./pics/qr-code.svg\"\n",
    "         width=\"200\"\n",
    "         height=\"200\"/>\n",
    "</center>\n"
   ]
  },
  {
   "cell_type": "markdown",
   "metadata": {
    "slideshow": {
     "slide_type": "slide"
    }
   },
   "source": [
    "### Informations utiles:\n",
    "* Cette rentrée est spéciale \n",
    "    * Forte influence du Contrôle continu (CC) dans la note finale : 50% CC et 50% Examen\n",
    "    * Probabilité non négligeable de continuer le semestre en distanciel\n",
    "    * Toute évaluation réalisée en présentiel compte et peut être déterminante.\n",
    "* Elle implique des efforts particuliers\n",
    "    * Rester informé et connecté\n",
    "    * Etre équipé (possibilités de prêts d'ordinateurs chez ALIAS pour le semestre)\n",
    "    * Pouvoir s'adapter et continuer d'apprendre \n",
    "    * Travail continu, soigné et **Formez des groupes d'études**"
   ]
  },
  {
   "cell_type": "markdown",
   "metadata": {
    "slideshow": {
     "slide_type": "subslide"
    }
   },
   "source": [
    "* Associations :\n",
    "    * Alias : FB https://www.facebook.com/ALIAS.asso/\n",
    "    * Association Défis Sorbonne : https://www.defis-sorbonne.fr/\n",
    "    * Fablab Sorbonne Université : https://www.facebook.com/fablabsu/\n",
    "    * Good game Fest : https://www.facebook.com/GoodGameFest/\n",
    "    * Axio Sorbonne U : FB https://www.facebook.com/AXIOBDF"
   ]
  },
  {
   "cell_type": "markdown",
   "metadata": {
    "slideshow": {
     "slide_type": "subslide"
    }
   },
   "source": [
    "<ul> \n",
    "    <li><a href=\"https://chat.whatsapp.com/KHzAntc3h7FBsoMklzatW1\"><ins>Groupe Whatsapp : https://chat.whatsapp.com/KHzAntc3h7FBsoMklzatW1</ins></a> : \n",
    "<img src=\"./pics/qr-code_whatsapp.svg\"\n",
    "     width=\"200\"\n",
    "     height=\"200\" /></li>\n",
    "<li> <ins>Github Repository</ins> <a href=\"https://github.com/EliasGit2017/Tutorat_LU1IN001\"><ins>(notebooks, codes et solutions) : https://github.com/EliasGit2017/Tutorat_LU1IN001</ins></a> :\n",
    "<img src=\"./pics/gitqr.svg\"\n",
    "     width=\"200\"\n",
    "     height=\"200\" /></li>\n",
    "</ul>"
   ]
  },
  {
   "cell_type": "markdown",
   "metadata": {
    "slideshow": {
     "slide_type": "subslide"
    }
   },
   "source": [
    "### Organisation de la séance :\n",
    "* __Format__: Notebooks Jupyter (possibilité de suivre la séance sur votre ordi)\n",
    "* Série de problèmes à résoudre en python (similaires aux questions d'exams et de TME Solo)\n",
    "* Intéractions autant que possible\n",
    "* Possibilité de modifier le déroulement et la forme des séances (ouvert à toute suggestion)\n",
    "* Toutes les questions sont les bienvenues\n",
    "* Migration vers Discord ou Zoom en cas de distanciel (vous serez informé à temps sur **WHATSAPP**)"
   ]
  },
  {
   "cell_type": "markdown",
   "metadata": {
    "slideshow": {
     "slide_type": "slide"
    }
   },
   "source": [
    "### Python:\n",
    "<center>\n",
    "    <img src=\"./pics/python_logo.png\"\n",
    "         width=\"400\"\n",
    "         height=\"400\"/>\n",
    "</center>\n",
    "\n",
    "* Développé par Guido Von Rossum (première version créée fin 1989)\n",
    "* Inspiré du langage ABC (développé au CWI d'Amsterdam), mais aussi du C et de Modula-3 (proche de Pascal)\n",
    "* Avantages :\n",
    "    * Lisible, épuré et intuitif\n",
    "    * Peu de constructions syntaxiques\n",
    "    * Optimisation de la productivité et outils de haut niveau utilisables rapidement (un peu trop haut niveau pour certains)"
   ]
  },
  {
   "cell_type": "markdown",
   "metadata": {
    "slideshow": {
     "slide_type": "subslide"
    }
   },
   "source": [
    "<center>\n",
    "    <img src=\"./pics/0.jpeg\"\n",
    "         width=\"400\"\n",
    "         height=\"400\" />\n",
    "</center>"
   ]
  },
  {
   "cell_type": "markdown",
   "metadata": {
    "slideshow": {
     "slide_type": "subslide"
    }
   },
   "source": [
    "Caractéristiques:\n",
    "* __Indenté__ et typage dynamique fort\n",
    "* Idéal pour la programmation impérative (mais aussi la fonctionnelle et la POO)\n",
    "* Gestion automatique de la mémoire avec un garbage collector (les memory leaks sont limitées, ce qui n'est pas le cas du C)\n",
    "* Très forte influence de la POO (aussi bien dans l'usage que dans le développement du langage)<br>\n",
    "*Toute donnée est stockée sous la forme d'un objet"
   ]
  },
  {
   "cell_type": "code",
   "execution_count": null,
   "metadata": {},
   "outputs": [],
   "source": [
    "print(type([1,2,3]))\n",
    "print(type('a'), \"\\t\", type(\"salut\"))\n",
    "print(type(1) ,\"\\t\", type(1.0))"
   ]
  },
  {
   "cell_type": "markdown",
   "metadata": {
    "slideshow": {
     "slide_type": "subslide"
    }
   },
   "source": [
    "<center> \n",
    "    <img src=\"./pics/type.png\"\n",
    "         width=\"400\"\n",
    "         height=\"400\"/>\n",
    "</center>"
   ]
  },
  {
   "cell_type": "markdown",
   "metadata": {
    "slideshow": {
     "slide_type": "slide"
    }
   },
   "source": [
    "### Python 3.4.1:\n",
    "Version 3.4 publiée le 16 mars 2014 et avec pour principale feature la correction de la vulnérabilité **HeartBleed** (qui est toujours active avec environ 180 000 appareils connectés encore vulnérables au 23 janvier 2017). Mais aussi ajout de nombreuses fonctionnalités :\n",
    "* `pip` présent par défaut\n",
    "* ajout de `tracemalloc`\n",
    "* ajout de la méthode `get_instructions()` au module `dis`\n",
    "* ajout du module `statistics`  \n",
    "Et bien d'autres fonctionalités qui en plus des avantages inhérents au langage en font un outil incontournable pour **toutes** les tâches de traitement d'information.  \n",
    "Python est l'un des langages les plus utilisés dans la recherche et reste la principale solution aux projets et logiciels devant être livrés rapidement. "
   ]
  },
  {
   "cell_type": "markdown",
   "metadata": {
    "slideshow": {
     "slide_type": "subslide"
    }
   },
   "source": [
    "``` python\n",
    "# Exemple de Script (implémentation d'une cascade de Haar)\n",
    "import cv2\n",
    "import numpy as np\n",
    "\n",
    "face_cascade = cv2.CascadeClassifier('./Face_detection/haarcascade_frontalface_default.xml')\n",
    "eye_cascade = cv2.CascadeClassifier('./Face_detection/haarcascade_eye.xml')\n",
    "\n",
    "cap = cv2.VideoCapture(0)\n",
    "\n",
    "while(True):\n",
    "    ret, img =cap.read()\n",
    "    gray = cv2.cvtColor(img, cv2.COLOR_BGR2GRAY)\n",
    "    faces = face_cascade.detectMultiScale(gray, 1.3, 5)\n",
    "    for(x,y,w,h) in faces:\n",
    "        cv2.rectangle(img,(x,y),(x+w,y+h), (0,0,255),2)\n",
    "        roi_gray = gray[y:y+h, x:x+w]\n",
    "        roi_color = img[y:y+h, x:x+w]\n",
    "        eyes = eye_cascade.detectMultiScale(roi_gray)\n",
    "        for(ex,ey,ew,eh) in eyes:\n",
    "            cv2.rectangle(roi_color, (ex,ey), (ex+ew,ey+eh), (255,255,0),2)\n",
    "            \n",
    "    cv2.imshow('Face Recognition (legit)',img)\n",
    "    k = cv2.waitKey(30) & 0xff\n",
    "    if k == 27:\n",
    "        break\n",
    "cap.release()\n",
    "cv2.destroyAllWindows()\n",
    "```"
   ]
  },
  {
   "cell_type": "code",
   "execution_count": null,
   "metadata": {
    "slideshow": {
     "slide_type": "subslide"
    }
   },
   "outputs": [],
   "source": [
    "# librairies math, numpy et tracé des fonctions sinus et cosinus\n",
    "from math import sqrt, pi, sin, cos\n",
    "import matplotlib.pyplot as plt\n",
    "import numpy as np\n",
    "\n",
    "print(cos(pi / 2))\n",
    "print(sqrt(2 * pi))\n",
    "x = np.arange(-pi / 2, 5 * pi, 0.1)\n",
    "plt.plot(x, np.sin(x), x, np.cos(x))\n",
    "plt.show()"
   ]
  },
  {
   "cell_type": "markdown",
   "metadata": {
    "slideshow": {
     "slide_type": "slide"
    }
   },
   "source": [
    "### Règles de cette UE:\n",
    "* Pas de variable globale (`global x = 100`)\n",
    "* Pas de bloc lexical\n",
    "* Votre code doit garder des types simples (pas d'éléments hétérogènes) `L = [1, \"chaîne\", 2.0, [\"inception\"]]`\n",
    "* Pas d'accès direct des n-uplets\n",
    "* __TOUJOURS__ écrire la documentation des fonctions et clairement identifier les variables utilisées"
   ]
  },
  {
   "cell_type": "markdown",
   "metadata": {
    "slideshow": {
     "slide_type": "subslide"
    }
   },
   "source": [
    "### Petits tips pour vos premiers pas:\n",
    "1. Faire attentions aux types de vos variables, aux opérateurs utilisés ainsi qu'aux différentes intéractions\n",
    "2. Rester simple (L'UE est facile, mais demande de la rapidité et des raisonnements logiques et biens structurés)\n",
    "3. Décomposer les problèmes qui paraissent compliqués en plusieurs fonctions\n",
    "4. Débugger votre code à coups de `print()` et éventuellement avec `input()` (même sur MrPython)\n",
    "5. Analyser les `assert` (types obtenus en sortie et traitements des différents cas). \n",
    "6. Ecrire de bons tests `assert` et envisager les différents cas possibles"
   ]
  },
  {
   "cell_type": "code",
   "execution_count": null,
   "metadata": {
    "slideshow": {
     "slide_type": "slide"
    }
   },
   "outputs": [],
   "source": [
    "def perim(l, L):\n",
    "    \"\"\"float * float -> float\n",
    "    hyp: l <= L\n",
    "    Retourne le périmètre d'un quadrilatère de largeur l et de longueur L\"\"\"\n",
    "    #return float(2 * (l + L))\n",
    "    return 2 * (l + L)\n",
    "\n",
    "assert perim(5, 6) == 22\n",
    "assert perim(5, 6) == 21.999999999999999"
   ]
  },
  {
   "cell_type": "code",
   "execution_count": null,
   "metadata": {},
   "outputs": [],
   "source": [
    "assert 6 == 5.9999999999999999"
   ]
  },
  {
   "cell_type": "markdown",
   "metadata": {
    "slideshow": {
     "slide_type": "slide"
    }
   },
   "source": [
    "#### Le mont Olympe martien:\n",
    "L'un des plus hauts volcans connus du système solaire se trouve sur Mars et porte le nom de \"Olympus Mons\". Son altitude d'environ $26\\ km$ lui donne la particularité d'avoir une pente telle qu'une personne se trouvant à sa base ne puisse voir son sommet.\n",
    "\n",
    "<center>\n",
    "<img src=\"./pics/Mars.jpeg\"\n",
    "     width=\"500\"\n",
    "     height=\"500\"/>\n",
    "</center>"
   ]
  },
  {
   "cell_type": "markdown",
   "metadata": {},
   "source": [
    "Ecrire une fonction `MarsR` qui à partir de la hauteur `h` du volcan Olympe et de la distance `d` de l'horizon réel martien, retourne une estimation du rayon de Mars."
   ]
  },
  {
   "cell_type": "code",
   "execution_count": null,
   "metadata": {
    "slideshow": {
     "slide_type": "subslide"
    }
   },
   "outputs": [],
   "source": [
    "# Votre code doit être écrit ici :"
   ]
  },
  {
   "cell_type": "code",
   "execution_count": null,
   "metadata": {},
   "outputs": [],
   "source": [
    "assert MarsR(26*10**3, 420*10**3) == 3379307.6923076925\n",
    "# Il est aussi possible d'appliquer cette fonction pour estimer le rayon de la Terre (et d'autres planètes)\n",
    "# Pour un observateur situé en bord de mer à 1.8 m de hauteur et pour qui l'horizon se trouve à environ 4789.11 m \n",
    "assert MarsR(1.8, 4789.11) == 6370992.042249999 # Rayon équatorial de la Terre"
   ]
  },
  {
   "cell_type": "markdown",
   "metadata": {
    "slideshow": {
     "slide_type": "slide"
    }
   },
   "source": [
    "#### Une approximation de sinus vieille de 1400 ans:\n",
    "Au VI<sup>eme</sup> siècle, le mathématicien Mahabhaskariya de Bhaskara I a donné une approximation de sinus (pour un angle $x$ tel que $0\\leq x \\leq \\pi$) remarquablement précise pour l'époque.  \n",
    "\n",
    "$$\\sin(x) = \\frac{16 x (\\pi - x)}{5\\pi^{2}-4x(\\pi -x)}$$\n",
    "\n",
    "<center>\n",
    "    <img src=\"./pics/bara.jpg\"\n",
    "         height=\"250\"\n",
    "         width=\"250\" />\n",
    "</center>"
   ]
  },
  {
   "cell_type": "markdown",
   "metadata": {},
   "source": [
    "Ecrire la fonction `approSin` qui étant donné la mesure en radian d'un angle `x` tel que $0\\leq x \\leq \\pi$ retourne l'approximation de son sinus."
   ]
  },
  {
   "cell_type": "code",
   "execution_count": null,
   "metadata": {
    "slideshow": {
     "slide_type": "subslide"
    }
   },
   "outputs": [],
   "source": [
    "# Votre code doit être écrit ici :"
   ]
  },
  {
   "cell_type": "code",
   "execution_count": null,
   "metadata": {},
   "outputs": [],
   "source": [
    "assert approSin(0.79) == 0.7091189442375202\n",
    "assert approSin(1.57) == 0.9999996787427855\n",
    "assert approSin(2.36) == 0.7031948565648719"
   ]
  },
  {
   "cell_type": "markdown",
   "metadata": {
    "slideshow": {
     "slide_type": "slide"
    }
   },
   "source": [
    "#### Fibonacci (une fois n'est pas coutume) :\n",
    "\n",
    "<center>\n",
    "    <img src=\"./pics/joconde-ratio-fibonacci.jpg\"\n",
    "         width=\"150\"\n",
    "         height=\"150\" />\n",
    "    <img src=\"./pics/838_fibonacci.jpg\"\n",
    "         width=\"150\"\n",
    "         heigth=\"150\" />\n",
    "</center>\n",
    "\n",
    "La suite de Fibonnaci est un classique en informatique. La suite doit son nom à Leonardo Fibonacci qui, dans un problème récréatif posé dans l'ouvrage Liber abaci publié en 1202, décrit la croissance d'une population de lapins."
   ]
  },
  {
   "cell_type": "markdown",
   "metadata": {
    "slideshow": {
     "slide_type": "subslide"
    }
   },
   "source": [
    "« Quelqu’un a déposé un couple de lapins dans un certain lieu, clos de toutes parts, pour savoir combien de couples seraient issus de cette paire en une année, car il est dans leur nature de générer un autre couple en un seul mois, et qu’ils enfantent dans le second mois après leur naissance. »"
   ]
  },
  {
   "cell_type": "markdown",
   "metadata": {
    "slideshow": {
     "slide_type": "-"
    }
   },
   "source": [
    "Ecrivez une fonction `fibonacci` permettant de calculer le n<sup>eme</sup> terme de la suite de fibonnaci.\n",
    "$$ F(n) =\\begin{cases}\n",
    "      0 & \\text{si n = 0}\\\\\n",
    "      1 & \\text{si n = 1}\\\\\n",
    "      F_{n-1} + F{n-2} & \\text{si n > 1}\n",
    "      \\end{cases}$$"
   ]
  },
  {
   "cell_type": "code",
   "execution_count": null,
   "metadata": {
    "slideshow": {
     "slide_type": "subslide"
    }
   },
   "outputs": [],
   "source": [
    "# Votre code doit être écrit ici :"
   ]
  },
  {
   "cell_type": "code",
   "execution_count": null,
   "metadata": {},
   "outputs": [],
   "source": [
    "assert fibonacci(0) == 0\n",
    "assert fibonacci(5) == 5\n",
    "assert fibonacci(7) == 13\n",
    "assert fibonacci(25) == 75025"
   ]
  },
  {
   "cell_type": "markdown",
   "metadata": {
    "slideshow": {
     "slide_type": "slide"
    }
   },
   "source": [
    "#### Pierre, Papier, Ciseaux:  \n",
    "Très motivé par l'étude des comportements humains et fort de vos skills en python, vous entreprenez la réalisation d'une expérience de simulation de comportement afin de prédire les résultats de parties de chifoumi.  \n",
    "Vous décidez donc d'écrire une fonction `AI_beats_humans` qui étant donné le choix `n`  de votre adversaire (0 : pierre, 1 : papier, 2 : ciseaux) retourne un choix gagnant.  \n",
    "\n",
    "<center>\n",
    "    <img src=\"./pics/rps.jpg\"\n",
    "         width=\"450\"\n",
    "         heigth=\"450\" />\n",
    "</center>"
   ]
  },
  {
   "cell_type": "code",
   "execution_count": null,
   "metadata": {
    "slideshow": {
     "slide_type": "subslide"
    }
   },
   "outputs": [],
   "source": [
    "# Votre code doit être écrit ici :"
   ]
  },
  {
   "cell_type": "code",
   "execution_count": null,
   "metadata": {},
   "outputs": [],
   "source": [
    "assert AI_beats_humans(2) == 0\n",
    "assert AI_beats_humans(1) == 2\n",
    "assert AI_beats_humans(0) == 1"
   ]
  },
  {
   "cell_type": "markdown",
   "metadata": {
    "slideshow": {
     "slide_type": "subslide"
    }
   },
   "source": [
    "Maintenant que vous disposez du principe de base du jeu, vous décidez d'implémenter la possibilité de réaliser plusieurs parties successives afin de mieux cerner les habitudes de votre adversaire. En fin de jeu, vous retournerez les fréquences d'utilisation de la pierre, du papier et des ciseaux de votre adversaire.  \n",
    "Ecrivez une fonction `AI_analyses_you` qui simule `p` parties de jeu et affiche la frequence de jeu résultante.  \n",
    "Le comportement de votre adversaire sera simulé par un tirage aléatoire entre les entiers 0, 1 et 2."
   ]
  },
  {
   "cell_type": "code",
   "execution_count": null,
   "metadata": {
    "slideshow": {
     "slide_type": "subslide"
    }
   },
   "outputs": [],
   "source": [
    "# Votre code doit être écrit ici :"
   ]
  },
  {
   "cell_type": "markdown",
   "metadata": {},
   "source": [
    "#### All pairs that sum to target :\n",
    "\n",
    "<center>\n",
    "    <img src=\"./pics/Sum.png\"\n",
    "         width=\"150\"\n",
    "         height=\"150\" />\n",
    "</center>\n",
    "\n",
    "Ecrivez une fonction `sum_to_target` qui étant donné un nombre `n`, affiche l'ensemble des paires dont la somme est égale `n`.  \n",
    "`>>> sum_to_target(7)`  \n",
    "`>>> 2+5\n",
    "     3+4\n",
    "     6+1`"
   ]
  },
  {
   "cell_type": "code",
   "execution_count": null,
   "metadata": {},
   "outputs": [],
   "source": [
    "# Votre code doit être écrit ici :"
   ]
  },
  {
   "cell_type": "code",
   "execution_count": null,
   "metadata": {},
   "outputs": [],
   "source": [
    "assert sum_to_target(7) == None"
   ]
  },
  {
   "cell_type": "code",
   "execution_count": null,
   "metadata": {},
   "outputs": [],
   "source": [
    "assert sum_to_target(15) == None"
   ]
  },
  {
   "cell_type": "markdown",
   "metadata": {
    "slideshow": {
     "slide_type": "slide"
    }
   },
   "source": [
    "<center>\n",
    "    <img src=\"./pics/1.png\"\n",
    "         width=\"500\"\n",
    "         height=\"500\"/>\n",
    "</center>"
   ]
  },
  {
   "cell_type": "markdown",
   "metadata": {
    "slideshow": {
     "slide_type": "subslide"
    }
   },
   "source": [
    "<center>\n",
    "    <img src=\"./pics/2.png\"\n",
    "         width=\"500\"\n",
    "         height=\"500\"/>\n",
    "</center>"
   ]
  },
  {
   "cell_type": "code",
   "execution_count": null,
   "metadata": {},
   "outputs": [],
   "source": [
    "def factorielle(n : int) -> int:\n",
    "    \"\"\"Precondition: n >= 0\n",
    "    Retourne la factorielle de n\"\"\"\n",
    "    res : int = 1\n",
    "    for i in range(1,n+1):\n",
    "        res = res * i\n",
    "    return res"
   ]
  },
  {
   "cell_type": "code",
   "execution_count": null,
   "metadata": {},
   "outputs": [],
   "source": [
    "assert factorielle(0) == 1\n",
    "assert factorielle(1) == 1\n",
    "assert factorielle(5) == 120"
   ]
  },
  {
   "cell_type": "markdown",
   "metadata": {},
   "source": [
    "<center>\n",
    "    <img src=\"./pics/3.png\"\n",
    "         width=\"500\"\n",
    "         height=\"500\"/>\n",
    "</center>"
   ]
  },
  {
   "cell_type": "code",
   "execution_count": null,
   "metadata": {},
   "outputs": [],
   "source": [
    "def terme_u(x : float, n : int) -> float:\n",
    "    \"\"\"Preconditions : n >= 0\n",
    "    Retourne le n eme terme de la suite U\"\"\"\n",
    "    return x**n/factorielle(n)"
   ]
  },
  {
   "cell_type": "code",
   "execution_count": null,
   "metadata": {},
   "outputs": [],
   "source": [
    "assert terme_u(0, 3) == 0.0\n",
    "assert terme_u(3, 0) == 1.0\n",
    "assert terme_u(2.0, 2) == 2.0"
   ]
  },
  {
   "cell_type": "markdown",
   "metadata": {},
   "source": [
    "<center>\n",
    "    <img src=\"./pics/4.png\"\n",
    "         width=\"500\"\n",
    "         height=\"500\"/>\n",
    "</center>"
   ]
  },
  {
   "cell_type": "code",
   "execution_count": null,
   "metadata": {},
   "outputs": [],
   "source": [
    "def somme_u(x : float, n : int) -> float:\n",
    "    res : float = 0.0\n",
    "    i : int = 0\n",
    "    while i <= n:\n",
    "        res = res + terme_u(x,i)\n",
    "        i = i +1\n",
    "    return res"
   ]
  },
  {
   "cell_type": "code",
   "execution_count": null,
   "metadata": {},
   "outputs": [],
   "source": [
    "assert somme_u(0,10) == 1.0\n",
    "assert somme_u(2.0,0) == 1.0\n",
    "assert somme_u(1.0,10) == 2.7182818011463845"
   ]
  },
  {
   "cell_type": "markdown",
   "metadata": {},
   "source": [
    "<center>\n",
    "    <img src=\"./pics/5.png\"\n",
    "         width=\"500\"\n",
    "         height=\"500\"/>\n",
    "</center>"
   ]
  },
  {
   "cell_type": "markdown",
   "metadata": {},
   "source": [
    "<center>\n",
    "    <img src=\"./pics/6.png\"\n",
    "         width=\"500\"\n",
    "         height=\"500\"/>\n",
    "</center>"
   ]
  },
  {
   "cell_type": "code",
   "execution_count": null,
   "metadata": {},
   "outputs": [],
   "source": [
    "# Remarque : Pas besoin de faire import math (abs est une fonction native de python)\n",
    "def rang_estim_exp(x : float, epsilon : float) -> int:\n",
    "    i : int = 0\n",
    "    while(abs(somme_u(x,i+1) - somme_u(x,i)) > epsilon): # Tant que la différence en valeur absolue est > à epsilon on continue\n",
    "        i = i +1\n",
    "    return i"
   ]
  },
  {
   "cell_type": "code",
   "execution_count": null,
   "metadata": {},
   "outputs": [],
   "source": [
    "assert rang_estim_exp(2.0, 1.0) == 3\n",
    "assert rang_estim_exp(1.0,0.001) == 6"
   ]
  },
  {
   "cell_type": "markdown",
   "metadata": {},
   "source": [
    "<center>\n",
    "    <img src=\"./pics/1.1.png\"\n",
    "         width=\"500\"\n",
    "         height=\"500\"/>\n",
    "</center>"
   ]
  },
  {
   "cell_type": "code",
   "execution_count": null,
   "metadata": {},
   "outputs": [],
   "source": [
    "# Ecrivez votre code ici"
   ]
  },
  {
   "cell_type": "markdown",
   "metadata": {},
   "source": [
    "<center>\n",
    "    <img src=\"./pics/1.2.png\"\n",
    "         width=\"500\"\n",
    "         height=\"500\"/>\n",
    "</center>"
   ]
  },
  {
   "cell_type": "code",
   "execution_count": null,
   "metadata": {},
   "outputs": [],
   "source": [
    "# Ecrivez votre code ici"
   ]
  },
  {
   "cell_type": "markdown",
   "metadata": {},
   "source": [
    "<center>\n",
    "    <img src=\"./pics/1.3.png\"\n",
    "         width=\"500\"\n",
    "         height=\"500\"/>\n",
    "</center>"
   ]
  },
  {
   "cell_type": "markdown",
   "metadata": {},
   "source": [
    "<center>\n",
    "    <img src=\"./pics/1.4.png\"\n",
    "         width=\"400\"\n",
    "         height=\"400\"/>\n",
    "</center>"
   ]
  },
  {
   "cell_type": "code",
   "execution_count": null,
   "metadata": {},
   "outputs": [],
   "source": [
    "# Ecrivez votre code ici"
   ]
  },
  {
   "cell_type": "markdown",
   "metadata": {},
   "source": [
    "<center>\n",
    "    <img src=\"./pics/1.5.png\"\n",
    "         width=\"500\"\n",
    "         height=\"500\"/>\n",
    "</center>"
   ]
  },
  {
   "cell_type": "code",
   "execution_count": null,
   "metadata": {},
   "outputs": [],
   "source": [
    "# Ecrivez votre code ici"
   ]
  },
  {
   "cell_type": "markdown",
   "metadata": {},
   "source": [
    "<center>\n",
    "    <img src=\"./pics/1.6.png\"\n",
    "         width=\"500\"\n",
    "         height=\"500\"/>\n",
    "</center>"
   ]
  },
  {
   "cell_type": "code",
   "execution_count": null,
   "metadata": {},
   "outputs": [],
   "source": [
    "# Ecrivez votre code ici"
   ]
  },
  {
   "cell_type": "markdown",
   "metadata": {},
   "source": [
    "<center>\n",
    "    <img src=\"./pics/1.7.png\"\n",
    "         width=\"500\"\n",
    "         height=\"500\"/>\n",
    "</center>"
   ]
  },
  {
   "cell_type": "code",
   "execution_count": null,
   "metadata": {},
   "outputs": [],
   "source": [
    "# Ecrivez votre code ici"
   ]
  },
  {
   "cell_type": "markdown",
   "metadata": {},
   "source": [
    "<center>\n",
    "    <img src=\"./pics/1.8.png\"\n",
    "         width=\"500\"\n",
    "         height=\"500\"/>\n",
    "</center>"
   ]
  },
  {
   "cell_type": "code",
   "execution_count": null,
   "metadata": {},
   "outputs": [],
   "source": [
    "# Ecrivez votre code ici"
   ]
  },
  {
   "cell_type": "markdown",
   "metadata": {
    "slideshow": {
     "slide_type": "slide"
    }
   },
   "source": [
    "#### Traduction en mRNA:\n",
    "<center>\n",
    "    <img src=\"./pics/dnarys.jpg\"\n",
    "         width=\"300\"\n",
    "         height=\"300\"/>\n",
    "</center>\n",
    "\n",
    "Ecrire une fonction `DNA_to_mRNA` qui étant donné une séquence de nucléotides `adn` (sous forme de chaîne de caractères formées par les bases A,T,C,G) retourne la séquence d'ARN messager correspondante. Observez les `assert` pour en déduire les règles de conversion ADN -> ARNm."
   ]
  },
  {
   "cell_type": "code",
   "execution_count": null,
   "metadata": {
    "slideshow": {
     "slide_type": "subslide"
    }
   },
   "outputs": [],
   "source": [
    "# Votre code doit être écrit ici :"
   ]
  },
  {
   "cell_type": "code",
   "execution_count": null,
   "metadata": {
    "slideshow": {
     "slide_type": "subslide"
    }
   },
   "outputs": [],
   "source": [
    "assert DNA_to_mRNA(\"ACTGCCAATTTGGACCC\") == \"UGACGGUUAAACCUGGG\"\n",
    "assert DNA_to_mRNA(\"GTCATACGACGTA\") == \"CAGUAUGCUGCAU\"\n",
    "assert DNA_to_mRNA(\"AGGCAAAXTGG\") == \"Erreur, nucleotide inconnu...veuillez retourner sur Mars\""
   ]
  },
  {
   "cell_type": "markdown",
   "metadata": {
    "slideshow": {
     "slide_type": "slide"
    }
   },
   "source": [
    "##### Conversions Bin, Oct, Hex, Dec:\n",
    "\n",
    "Convertir les données vers les différentes bases est une opération courante. Bien que les conversions soient  implémentées nativement dans la plupart des langages, il est nécessaire de maîtriser les représentations en bases 2, 6 et 8 et de pouvoir les lire rapidement.\n",
    "\n",
    "\n",
    "<center>\n",
    "    <img src=\"./pics/DNSyout.png\"\n",
    "         width=\"800\"\n",
    "         height=\"600\"/> <br>\n",
    "    <ins><figcaption>Requête DNS pour youtube.com</figcaption></ins>\n",
    "</center>"
   ]
  },
  {
   "cell_type": "markdown",
   "metadata": {
    "slideshow": {
     "slide_type": "subslide"
    }
   },
   "source": [
    "Ecrivez les fonctions `dectobin`, `bintodec`, `dectohex`, `hextodec`, `dectooct`, `octtodec` qui réalisent les conversions d'un entier `n` entre le système decimal et les systèmes binaire, hexadecimal, octal et vice-versa.  \n",
    "<ins>*Exemple* :</ins>  \n",
    "42 :\n",
    "* 0b101010 en binaire\n",
    "* 0x2a en hexadecimal \n",
    "* 0o52 en octal"
   ]
  },
  {
   "cell_type": "code",
   "execution_count": null,
   "metadata": {
    "slideshow": {
     "slide_type": "subslide"
    }
   },
   "outputs": [],
   "source": [
    "# Votre code doit être écrit ici :"
   ]
  },
  {
   "cell_type": "code",
   "execution_count": null,
   "metadata": {},
   "outputs": [],
   "source": [
    "assert dectobin(42) == \"101010\"\n",
    "assert dectobin(420) == \"110100100\"\n",
    "assert dectobin(6857) == \"1101011001001\"\n",
    "assert dectobin(11) == \"1011\""
   ]
  },
  {
   "cell_type": "code",
   "execution_count": null,
   "metadata": {
    "slideshow": {
     "slide_type": "subslide"
    }
   },
   "outputs": [],
   "source": [
    "# Votre code doit être écrit ici :"
   ]
  },
  {
   "cell_type": "code",
   "execution_count": null,
   "metadata": {},
   "outputs": [],
   "source": [
    "assert bintodec(\"101010\") == 42\n",
    "assert bintodec(\"110100100\") == 420\n",
    "assert bintodec(\"1101011001001\") == 6857 \n",
    "assert bintodec(\"1011\") == 11"
   ]
  },
  {
   "cell_type": "markdown",
   "metadata": {},
   "source": [
    "#### Exercice 4.5 : Couples et intervalles:\n",
    "\n",
    "<center>\n",
    "    <img src=\"./pics/4.5.png\"\n",
    "         width=\"500\"\n",
    "         height=\"500\"/>\n",
    "</center>\n"
   ]
  },
  {
   "cell_type": "code",
   "execution_count": null,
   "metadata": {},
   "outputs": [],
   "source": [
    "def nb_couples_intervalle(n : int, p : int) -> int:\n",
    "    \"\"\"Précondition : n <= p\n",
    "    Renvoie le nombre de couples distincts (i,j) d'entiers\n",
    "    appartenant à l'intervalle [n,p] tels que i<j.\"\"\"\n",
    "    # premier élément du couple\n",
    "    i : int = n\n",
    "    # second élément du couple\n",
    "    j : int = n + 1\n",
    "    # compte le nombre de couple\n",
    "    compte : int = 0\n",
    "    while i <= p:\n",
    "        j = i + 1 # il faut réinitialiser j à chaque tour de boucle pour i\n",
    "        while j <= p:\n",
    "            compte = compte + 1 # on a un nouveau couple\n",
    "            j = j + 1\n",
    "        i = i + 1\n",
    "    return compte"
   ]
  },
  {
   "cell_type": "code",
   "execution_count": null,
   "metadata": {},
   "outputs": [],
   "source": [
    "assert nb_couples_intervalle(0,0) == 0\n",
    "assert nb_couples_intervalle(2,4) == 3\n",
    "assert nb_couples_intervalle(-1,3) == 10"
   ]
  },
  {
   "cell_type": "markdown",
   "metadata": {},
   "source": [
    "<center>\n",
    "    <img src=\"./pics/4.5.2.png\"\n",
    "         width=\"500\"\n",
    "         height=\"500\"/>\n",
    "</center>\n"
   ]
  },
  {
   "cell_type": "code",
   "execution_count": null,
   "metadata": {},
   "outputs": [],
   "source": [
    "def nb_couples_divise(n : int, p : int) -> int:\n",
    "    \"\"\"Précondition : n <= p\n",
    "    Renvoie le nombre de couples (i,j) d'entiers appartenant\n",
    "    à l'intervalle [n,p] tels que i != j et i divise j.\n",
    "    \"\"\"\n",
    "    # premier élément du couple\n",
    "    i : int = n\n",
    "    # second élément du couple\n",
    "    j : int = n + 1\n",
    "    # compte le nombre de couple\n",
    "    compte : int = 0\n",
    "    while i <= p:\n",
    "        if i == 0:\n",
    "            i = i + 1 # 0 n'est diviseur d'aucun nombre\n",
    "                      # (et produit une erreur si on teste !)\n",
    "        j= i + 1 # il faut réinitialiser j à chaque tour de boucle pour i\n",
    "        while j <= p:\n",
    "            if j % i == 0:\n",
    "                compte = compte + 1 # on a un nouveau couple\n",
    "            j = j + 1\n",
    "        i = i + 1\n",
    "    return compte"
   ]
  },
  {
   "cell_type": "code",
   "execution_count": null,
   "metadata": {},
   "outputs": [],
   "source": [
    "assert nb_couples_divise(0,0) == 0\n",
    "assert nb_couples_divise(2,6) == 3\n",
    "assert nb_couples_divise(-1,1) == 2\n",
    "assert nb_couples_divise(1,10) == 17\n",
    "assert nb_couples_divise(21,34) == 0"
   ]
  },
  {
   "cell_type": "markdown",
   "metadata": {},
   "source": [
    "<center>\n",
    "    <img src=\"./pics/4.5.3.png\"\n",
    "         width=\"500\"\n",
    "         height=\"500\"/>\n",
    "</center>\n"
   ]
  },
  {
   "cell_type": "code",
   "execution_count": 30,
   "metadata": {},
   "outputs": [],
   "source": [
    "def nb_couples_divise_trace(n : int, p : int) -> int:\n",
    "    \"\"\"Précondition : n <= p\n",
    "    Renvoie le nombre de couples (i,j) d'entiers appartenant\n",
    "    à l'intervalle [n,p] tels que i != j et i divise j.\n",
    "    \"\"\"\n",
    "    # premier élément du couple\n",
    "    i : int = n\n",
    "    # second élément du couple\n",
    "    j : int = n + 1\n",
    "    # compte le nombre de couple\n",
    "    compte : int = 0\n",
    "    while i <= p:\n",
    "        if i == 0:\n",
    "            i = i + 1 # 0 n'est diviseur d'aucun nombre\n",
    "                      # (et produit une erreur si on teste !)\n",
    "        j= i + 1 # il faut réinitialiser j à chaque tour de boucle pour i\n",
    "        while j <= p:\n",
    "            print(\"couple (\",i,\",\",j,\")\")\n",
    "            if j % i == 0:\n",
    "                compte = compte + 1 # on a un nouveau couple\n",
    "                print(\"------------\")\n",
    "                print(i,\"divise\",j,\"!\")\n",
    "                print(\"------------\")\n",
    "            j = j + 1\n",
    "        i = i + 1\n",
    "    return compte"
   ]
  },
  {
   "cell_type": "code",
   "execution_count": 31,
   "metadata": {},
   "outputs": [
    {
     "name": "stdout",
     "output_type": "stream",
     "text": [
      "couple ( 2 , 3 )\n",
      "couple ( 2 , 4 )\n",
      "------------\n",
      "2 divise 4 !\n",
      "------------\n",
      "couple ( 2 , 5 )\n",
      "couple ( 2 , 6 )\n",
      "------------\n",
      "2 divise 6 !\n",
      "------------\n",
      "couple ( 3 , 4 )\n",
      "couple ( 3 , 5 )\n",
      "couple ( 3 , 6 )\n",
      "------------\n",
      "3 divise 6 !\n",
      "------------\n",
      "couple ( 4 , 5 )\n",
      "couple ( 4 , 6 )\n",
      "couple ( 5 , 6 )\n"
     ]
    },
    {
     "data": {
      "text/plain": [
       "3"
      ]
     },
     "execution_count": 31,
     "metadata": {},
     "output_type": "execute_result"
    }
   ],
   "source": [
    "nb_couples_divise_trace(2,6) # vous pouvez essayer avec un autre jeu de test"
   ]
  },
  {
   "cell_type": "markdown",
   "metadata": {},
   "source": [
    "<center>\n",
    "    <img src=\"./pics/4.5.4.png\"\n",
    "         width=\"500\"\n",
    "         height=\"500\"/>\n",
    "</center>"
   ]
  },
  {
   "cell_type": "code",
   "execution_count": null,
   "metadata": {},
   "outputs": [],
   "source": [
    "# Votre code ici :"
   ]
  },
  {
   "cell_type": "markdown",
   "metadata": {},
   "source": [
    "<center>\n",
    "    <img src=\"./pics/4.5.5.png\"\n",
    "         width=\"500\"\n",
    "         height=\"500\"/>\n",
    "</center>"
   ]
  },
  {
   "cell_type": "code",
   "execution_count": null,
   "metadata": {},
   "outputs": [],
   "source": [
    "# Votre code ici :"
   ]
  },
  {
   "cell_type": "markdown",
   "metadata": {},
   "source": [
    "<center>\n",
    "    <img src=\"./pics/4.6.1.png\"\n",
    "         width=\"500\"\n",
    "         height=\"500\"/>\n",
    "</center>"
   ]
  },
  {
   "cell_type": "code",
   "execution_count": null,
   "metadata": {},
   "outputs": [],
   "source": [
    "def factorielle(n : int) -> int:\n",
    "    \"\"\"Precondition: n >= 0\n",
    "    Retourne la factorielle de n\"\"\"\n",
    "    res : int = 1\n",
    "    for i in range(1,n+1):\n",
    "        res = res * i\n",
    "    return res"
   ]
  },
  {
   "cell_type": "code",
   "execution_count": null,
   "metadata": {},
   "outputs": [],
   "source": [
    "assert factorielle(5) == 120\n",
    "assert factorielle(10) == 3628800\n",
    "assert factorielle(0) == 1\n",
    "assert factorielle(1) == 1"
   ]
  },
  {
   "cell_type": "markdown",
   "metadata": {},
   "source": [
    "<center>\n",
    "    <img src=\"./pics/4.6.1.bis.png\"\n",
    "         width=\"500\"\n",
    "         height=\"500\"/>\n",
    "</center>\n",
    "\n",
    "<center>\n",
    "    <img src=\"./pics/4.6.1.biss.png\"\n",
    "         width=\"500\"\n",
    "         height=\"500\"/>\n",
    "</center>"
   ]
  },
  {
   "cell_type": "code",
   "execution_count": null,
   "metadata": {},
   "outputs": [],
   "source": [
    "# votre code ici"
   ]
  },
  {
   "cell_type": "markdown",
   "metadata": {},
   "source": [
    "<center>\n",
    "    <img src=\"./pics/4.6.2.png\"\n",
    "         width=\"500\"\n",
    "         height=\"500\"/>\n",
    "</center>\n",
    "\n",
    "<center>\n",
    "    <img src=\"./pics/4.6.2.bis.png\"\n",
    "         width=\"500\"\n",
    "         height=\"500\"/>\n",
    "</center>"
   ]
  },
  {
   "cell_type": "code",
   "execution_count": null,
   "metadata": {},
   "outputs": [],
   "source": [
    "# Votre code ici"
   ]
  },
  {
   "cell_type": "code",
   "execution_count": null,
   "metadata": {},
   "outputs": [],
   "source": [
    "assert combinaisons(5, 0) == 1\n",
    "assert combinaisons(5, 1) == 5\n",
    "assert combinaisons(5, 2) == 10\n",
    "assert combinaisons(5, 3) == 10\n",
    "assert combinaisons(5, 4) == 5\n",
    "assert combinaisons(5, 5) == 1\n",
    "assert combinaisons(10, 4) == 210"
   ]
  },
  {
   "cell_type": "markdown",
   "metadata": {},
   "source": [
    "<center>\n",
    "    <img src=\"./pics/4.6.3.png\"\n",
    "         width=\"500\"\n",
    "         height=\"500\"/>\n",
    "</center>\n"
   ]
  },
  {
   "cell_type": "code",
   "execution_count": null,
   "metadata": {},
   "outputs": [],
   "source": [
    "# Votre code ici"
   ]
  },
  {
   "cell_type": "markdown",
   "metadata": {},
   "source": [
    "<center>\n",
    "    <img src=\"./pics/4.6.4.png\"\n",
    "         width=\"500\"\n",
    "         height=\"500\"/>\n",
    "</center>"
   ]
  },
  {
   "cell_type": "code",
   "execution_count": null,
   "metadata": {},
   "outputs": [],
   "source": [
    "# votre code ici :"
   ]
  },
  {
   "cell_type": "markdown",
   "metadata": {},
   "source": [
    "<center>\n",
    "    <img src=\"./pics/4.6.4.bis.png\"\n",
    "         width=\"500\"\n",
    "         height=\"500\"/>\n",
    "</center>"
   ]
  },
  {
   "cell_type": "code",
   "execution_count": null,
   "metadata": {},
   "outputs": [],
   "source": [
    "# vos commentaires ici"
   ]
  },
  {
   "cell_type": "markdown",
   "metadata": {},
   "source": [
    "## Chaînes de caractères :\n",
    "  \n",
    "<br>\n",
    "<center>\n",
    "Testez avec moi les codes pour vous familiariser avec les chaînes de caractères\n",
    "</center>"
   ]
  },
  {
   "cell_type": "code",
   "execution_count": null,
   "metadata": {},
   "outputs": [],
   "source": [
    "a = \"asdadsa\"\n",
    "type(a)"
   ]
  },
  {
   "cell_type": "code",
   "execution_count": null,
   "metadata": {},
   "outputs": [],
   "source": [
    "c = 'e'\n",
    "a = \"salutcommentçava\""
   ]
  },
  {
   "cell_type": "code",
   "execution_count": null,
   "metadata": {},
   "outputs": [],
   "source": [
    "len(a)"
   ]
  },
  {
   "cell_type": "code",
   "execution_count": null,
   "metadata": {},
   "outputs": [],
   "source": [
    "a[5]"
   ]
  },
  {
   "cell_type": "code",
   "execution_count": null,
   "metadata": {},
   "outputs": [],
   "source": [
    "i : int = 0\n",
    "while (i < len(a)):\n",
    "    print(a[i])\n",
    "    i = i + 1"
   ]
  },
  {
   "cell_type": "code",
   "execution_count": null,
   "metadata": {},
   "outputs": [],
   "source": [
    "for caract_courant in a:\n",
    "    print(caract_courant)"
   ]
  },
  {
   "cell_type": "code",
   "execution_count": null,
   "metadata": {},
   "outputs": [],
   "source": [
    "a[2:8]"
   ]
  },
  {
   "cell_type": "markdown",
   "metadata": {},
   "source": [
    "<center>\n",
    "    <img src=\"./pics/5.5.png\"\n",
    "         width=\"500\"\n",
    "         height=\"500\"/>\n",
    "</center>"
   ]
  },
  {
   "cell_type": "code",
   "execution_count": null,
   "metadata": {},
   "outputs": [],
   "source": [
    "def est_voyelle(c : str) -> bool:\n",
    "    \"\"\"Précondition : len(c) == 1\n",
    "    Retourne True si et seulement si c est une voyelle\n",
    "    miniscule ou majuscule.\n",
    "    \"\"\"\n",
    "    return (c == 'a') or (c == 'A') \\\n",
    "        or (c == 'e') or (c == 'E') \\\n",
    "        or (c == 'i') or (c == 'I') \\\n",
    "        or (c == 'o') or (c == 'O') \\\n",
    "        or (c == 'u') or (c == 'U') \\\n",
    "        or (c == 'y') or (c == 'Y')"
   ]
  },
  {
   "cell_type": "code",
   "execution_count": null,
   "metadata": {},
   "outputs": [],
   "source": [
    "def nb_voyelles(stri : str) -> int:\n",
    "    \"\"\"Retourne le nombre de voyelles contenues dans stri\"\"\"\n",
    "    cpt : int = 0\n",
    "    for carac_curr in stri:\n",
    "        if (est_voyelle(carac_curr)):\n",
    "            cpt = cpt + 1\n",
    "    return cpt"
   ]
  },
  {
   "cell_type": "code",
   "execution_count": null,
   "metadata": {},
   "outputs": [],
   "source": [
    "assert nb_voyelles('la maman du petit enfant le console') == 12\n",
    "assert nb_voyelles('mr brrxcx') == 0\n",
    "assert nb_voyelles('ai al o ents') == 5"
   ]
  },
  {
   "cell_type": "markdown",
   "metadata": {},
   "source": [
    "<center>\n",
    "    <img src=\"./pics/5.5.2.png\"\n",
    "         width=\"500\"\n",
    "         height=\"500\"/>\n",
    "</center>"
   ]
  },
  {
   "cell_type": "code",
   "execution_count": null,
   "metadata": {},
   "outputs": [],
   "source": [
    "def est_voyelle_accent(c : str) -> bool:\n",
    "    \"\"\"Précondition : len(c) == 1\n",
    "    Retourne True si et seulement si c est une voyelle\n",
    "    miniscule ou majuscule, avec ou sans accent.\n",
    "    \"\"\"\n",
    "    return (c == 'a') or (c == 'A') \\\n",
    "        or (c == 'à') or (c == 'ù') \\\n",
    "        or (c == 'e') or (c == 'E') \\\n",
    "        or (c == 'é') or (c == 'è') \\\n",
    "        or (c == 'i') or (c == 'I') \\\n",
    "        or (c == 'o') or (c == 'O') \\\n",
    "        or (c == 'u') or (c == 'U') \\\n",
    "        or (c == 'y') or (c == 'Y') # etc : il serait fastidieux de tout\n",
    "                                    # prendre en compte"
   ]
  },
  {
   "cell_type": "code",
   "execution_count": null,
   "metadata": {},
   "outputs": [],
   "source": [
    "a = \"salut123\"\n",
    "for caractere_courant in a:\n",
    "    print(caractere_courant)"
   ]
  },
  {
   "cell_type": "code",
   "execution_count": null,
   "metadata": {},
   "outputs": [],
   "source": [
    "def nb_voyelles_accents(stri : str) -> int:\n",
    "    \"\"\"Retourne le nombre de voyelles (avec ou sans accents) contenues dans stri\"\"\"\n",
    "    cpt : int = 0\n",
    "    carac_curr : str\n",
    "    for carac_curr in stri:\n",
    "        if est_voyelle_accent(carac_curr):\n",
    "            cpt = cpt + 1\n",
    "    return cpt"
   ]
  },
  {
   "cell_type": "code",
   "execution_count": null,
   "metadata": {},
   "outputs": [],
   "source": [
    "assert nb_voyelles_accents('la maman du bebe le reconforte') == 11\n",
    "assert nb_voyelles_accents('la maman du bébé le réconforte') == 11\n",
    "assert nb_voyelles_accents('mr brrxcx') == 0\n",
    "assert nb_voyelles_accents('ai al o ents') == 5"
   ]
  },
  {
   "cell_type": "markdown",
   "metadata": {},
   "source": [
    "<center>\n",
    "    <img src=\"./pics/5.5.3.png\"\n",
    "         width=\"500\"\n",
    "         height=\"500\"/>\n",
    "</center>"
   ]
  },
  {
   "cell_type": "code",
   "execution_count": null,
   "metadata": {},
   "outputs": [],
   "source": [
    "def sans_voyelle(stri : str) -> str:\n",
    "    \"\"\"Retourne une chaîne similaire à stri en retirant les voyelles\"\"\"\n",
    "    res : str = \"\"\n",
    "    curr_courant : str\n",
    "    for curr_courant in stri:\n",
    "        if not(est_voyelle_accent(curr_courant)):\n",
    "            res = res + curr_courant\n",
    "    return res"
   ]
  },
  {
   "cell_type": "code",
   "execution_count": null,
   "metadata": {},
   "outputs": [],
   "source": [
    "assert sans_voyelle('aeiouy') == ''\n",
    "assert sans_voyelle('la balle au bond rebondit bien') == 'l bll  bnd rbndt bn'"
   ]
  },
  {
   "cell_type": "markdown",
   "metadata": {},
   "source": [
    "<center>\n",
    "    <img src=\"./pics/5.5.4.png\"\n",
    "         width=\"500\"\n",
    "         height=\"500\"/>\n",
    "</center>"
   ]
  },
  {
   "cell_type": "code",
   "execution_count": null,
   "metadata": {},
   "outputs": [],
   "source": [
    "def mot_mystere(stri : str) -> str:\n",
    "    \"\"\"Retourne une chaîne où les voyelles (accents compris) sont remplacés par des _\"\"\"\n",
    "    res : str = \"\"\n",
    "    e : str\n",
    "    for e in stri:\n",
    "        if est_voyelle_accent(e):\n",
    "            res = res + '_'\n",
    "        else:\n",
    "            res = res + e\n",
    "    return res"
   ]
  },
  {
   "cell_type": "code",
   "execution_count": null,
   "metadata": {},
   "outputs": [],
   "source": [
    "# Jeu de tests\n",
    "assert mot_mystere('aeiouy') == '______'\n",
    "assert mot_mystere('la balle au bond rebondit bien') == 'l_ b_ll_ __ b_nd r_b_nd_t b__n'\n",
    "assert mot_mystere('mr brrxcx') == 'mr brrxcx'"
   ]
  },
  {
   "cell_type": "markdown",
   "metadata": {},
   "source": [
    "<center>\n",
    "    <img src=\"./pics/5.6.png\"\n",
    "         width=\"500\"\n",
    "         height=\"500\"/>\n",
    "</center>\n",
    "\n",
    "<center>\n",
    "    <img src=\"./pics/5.6.bis.png\"\n",
    "         width=\"500\"\n",
    "         height=\"500\"/>\n",
    "</center>"
   ]
  },
  {
   "cell_type": "code",
   "execution_count": null,
   "metadata": {},
   "outputs": [],
   "source": [
    "'CA' in \"GCTA\""
   ]
  },
  {
   "cell_type": "code",
   "execution_count": null,
   "metadata": {},
   "outputs": [],
   "source": [
    "def base_comp(c : str) -> str:\n",
    "    \"\"\"Precondition : len(c) == 1 et c in \"ATCG\" \n",
    "    Retourne la base complémentaire\"\"\"\n",
    "    if c == 'A':\n",
    "        return 'T'\n",
    "    elif c == 'T':\n",
    "        return 'A'\n",
    "    elif c == 'G':\n",
    "        return 'C'\n",
    "    else:\n",
    "        return 'G'"
   ]
  },
  {
   "cell_type": "code",
   "execution_count": null,
   "metadata": {},
   "outputs": [],
   "source": [
    "# Jeu de tests\n",
    "assert base_comp('A') == 'T'\n",
    "assert base_comp('T') == 'A'\n",
    "assert base_comp('C') == 'G'\n",
    "assert base_comp('G') == 'C'"
   ]
  },
  {
   "cell_type": "markdown",
   "metadata": {},
   "source": [
    "<center>\n",
    "    <img src=\"./pics/5.6.2.png\"\n",
    "         width=\"500\"\n",
    "         height=\"500\"/>\n",
    "</center>\n",
    "\n",
    "<center>\n",
    "    <img src=\"./pics/5.6.2.bis.png\"\n",
    "         width=\"500\"\n",
    "         height=\"500\"/>\n",
    "</center>"
   ]
  },
  {
   "cell_type": "code",
   "execution_count": null,
   "metadata": {},
   "outputs": [],
   "source": [
    "def brin_comp(ADN : str) -> str:\n",
    "    \"\"\"Precondition : ADN est uniquement composé de bases azotées\n",
    "    Retourne le brin complémentaire de ADN\"\"\"\n",
    "    res = \"\"\n",
    "    for base_azot in ADN:\n",
    "        res = base_comp(base_azot) + res\n",
    "    return res"
   ]
  },
  {
   "cell_type": "code",
   "execution_count": null,
   "metadata": {},
   "outputs": [],
   "source": [
    "#jeux de tests\n",
    "assert brin_comp('ATCG') == 'CGAT'\n",
    "assert brin_comp('ATTGCCGTATGTATTGCGCT') == 'AGCGCAATACATACGGCAAT'\n",
    "assert brin_comp('') == ''\n",
    "assert brin_comp('AAAA') == 'TTTT'"
   ]
  },
  {
   "cell_type": "markdown",
   "metadata": {},
   "source": [
    "<center>\n",
    "    <img src=\"./pics/5.5.3.3.png\"\n",
    "         width=\"500\"\n",
    "         height=\"500\"/>\n",
    "</center>\n",
    "<center>\n",
    "    <img src=\"./pics/5.6.3.bis.png\"\n",
    "         width=\"500\"\n",
    "         height=\"500\"/>\n",
    "</center>"
   ]
  },
  {
   "cell_type": "code",
   "execution_count": null,
   "metadata": {},
   "outputs": [],
   "source": [
    "a = \"salutcommentçava\"\n",
    "a[-4]"
   ]
  },
  {
   "cell_type": "code",
   "execution_count": null,
   "metadata": {},
   "outputs": [],
   "source": [
    "def test_comp(ADN : str, ADN2 : str) -> bool:\n",
    "    \"\"\"Precondition : ADN et ADN2 sont composés uniquement des caractères A, T, C, G\n",
    "    Renvoie True si ADN et ADN2 sont complémentaires.\"\"\"\n",
    "    if (len(ADN) != len(ADN2)):  # not(len(ADN) == len(ADN2))\n",
    "        return False\n",
    "    i : int = 0\n",
    "    while(i < len(ADN)):\n",
    "        if(ADN[i] != base_comp(ADN2[- 1 - i])):\n",
    "            return False\n",
    "        i = i + 1\n",
    "    return True"
   ]
  },
  {
   "cell_type": "code",
   "execution_count": null,
   "metadata": {},
   "outputs": [],
   "source": [
    "#jeux de tests\n",
    "assert test_comp('','') == True\n",
    "assert test_comp('','ATCG') == False\n",
    "assert test_comp('ATCG','') == False\n",
    "assert test_comp('ATCG', 'CGAT') == True\n",
    "assert test_comp('ATCG', 'TAAG') == False\n",
    "assert test_comp('ATTGCCGTATGTATTGCGCT','') == False"
   ]
  },
  {
   "cell_type": "markdown",
   "metadata": {},
   "source": [
    "<center>\n",
    "    <img src=\"./pics/5.6.4.png\"\n",
    "         width=\"500\"\n",
    "         height=\"500\"/>\n",
    "</center>"
   ]
  },
  {
   "cell_type": "code",
   "execution_count": null,
   "metadata": {},
   "outputs": [],
   "source": [
    "def test_sous_sequence(ADN : str, ADN2 : str) -> bool:\n",
    "    \"\"\"Précondition : et ADN et ADN2 sont composés uniquement des caractères A, T, C, G\n",
    "    Renvoie True si ADN est une sous-séquence de ADN2.\"\"\"\n",
    "    if (len(ADN) > len(ADN2)):\n",
    "        return False\n",
    "    i : int = 0\n",
    "    while(i <= len(ADN2)-len(ADN)):\n",
    "        if (ADN2[i:i+len(ADN)] == ADN):\n",
    "            return True\n",
    "        i = i + 1\n",
    "    return False"
   ]
  },
  {
   "cell_type": "code",
   "execution_count": null,
   "metadata": {},
   "outputs": [],
   "source": [
    "def test_sous_sequence(ADN : str, ADN2 : str) -> bool:\n",
    "    \"\"\"Précondition : et ADN et ADN2 sont composés uniquement des caractères A, T, C, G\n",
    "    Renvoie True si ADN est une sous-séquence de ADN2.\"\"\"\n",
    "    res : bool = False\n",
    "    if (len(ADN) == 0):\n",
    "        return True\n",
    "    else:\n",
    "        sseq : str\n",
    "        i : int = 0\n",
    "        while (not res) and (i < len(ADN2) - len(ADN) + 1):\n",
    "            sseq = ADN2[i:i+len(ADN)]\n",
    "            if ADN == sseq:\n",
    "                res = True\n",
    "            i = i + 1\n",
    "        return res"
   ]
  },
  {
   "cell_type": "code",
   "execution_count": null,
   "metadata": {},
   "outputs": [],
   "source": [
    "#jeux de tests\n",
    "assert test_sous_sequence('','') == True\n",
    "assert test_sous_sequence('','ATCG') == True\n",
    "assert test_sous_sequence('ATCG','') == False\n",
    "assert test_sous_sequence('GC', 'TAGC') == True\n",
    "assert test_sous_sequence('GC', 'TAAG') == False\n",
    "assert test_sous_sequence('CA','TAACGGCATACATAACGCGA') == True"
   ]
  },
  {
   "cell_type": "markdown",
   "metadata": {},
   "source": [
    "<center>\n",
    "    <img src=\"./pics/5.6.5.1.png\"\n",
    "         width=\"500\"\n",
    "         height=\"500\"/>\n",
    "</center>\n",
    "\n",
    "<center>\n",
    "    <img src=\"./pics/5.6.5.2.png\"\n",
    "         width=\"500\"\n",
    "         height=\"500\"/>\n",
    "</center>"
   ]
  },
  {
   "cell_type": "code",
   "execution_count": null,
   "metadata": {},
   "outputs": [],
   "source": [
    "def recherche_sous_sequence(ADN : str, ADN2 : str) -> Optional[int]:\n",
    "    \"\"\"Précondition : et ADN et ADN2 sont composés uniquement des caractères A, T, C, G\n",
    "    Renvoie l'indice du début de ADN dans ADN2.\"\"\"\n",
    "    if (len(ADN) == 0):\n",
    "        return 0\n",
    "    else:\n",
    "        sseq : str\n",
    "        i : int = 0\n",
    "        while (i < len(ADN2) - len(ADN) + 1):\n",
    "            sseq = ADN2[i:i+len(ADN)]\n",
    "            if ADN == sseq:\n",
    "                return i\n",
    "            i = i + 1\n",
    "        return None"
   ]
  },
  {
   "cell_type": "code",
   "execution_count": null,
   "metadata": {},
   "outputs": [],
   "source": [
    "#jeux de tests\n",
    "assert recherche_sous_sequence('','') == 0\n",
    "assert recherche_sous_sequence('','ATCG') == 0\n",
    "assert recherche_sous_sequence('ATCG','') == None\n",
    "assert recherche_sous_sequence('GC', 'TAGC') == 2\n",
    "assert recherche_sous_sequence('GC', 'TAAG') == None\n",
    "assert recherche_sous_sequence('CATA','TAACGGCATACATAACGCGA') == 6"
   ]
  },
  {
   "cell_type": "markdown",
   "metadata": {},
   "source": [
    "<center>\n",
    "    <img src=\"./pics/5.7.png\"\n",
    "         width=\"500\"\n",
    "         height=\"500\"/>\n",
    "</center>"
   ]
  },
  {
   "cell_type": "code",
   "execution_count": null,
   "metadata": {},
   "outputs": [],
   "source": []
  },
  {
   "cell_type": "code",
   "execution_count": null,
   "metadata": {},
   "outputs": [],
   "source": [
    "assert chiffre('0') == 0\n",
    "assert chiffre('1') == 1\n",
    "assert chiffre('2') == 2\n",
    "assert chiffre('3') == 3\n",
    "assert chiffre('4') == 4\n",
    "assert chiffre('5') == 5\n",
    "assert chiffre('6') == 6\n",
    "assert chiffre('7') == 7\n",
    "assert chiffre('8') == 8\n",
    "assert chiffre('9') == 9"
   ]
  },
  {
   "cell_type": "markdown",
   "metadata": {},
   "source": [
    "<center>\n",
    "    <img src=\"./pics/5.7.2.png\"\n",
    "         width=\"500\"\n",
    "         height=\"500\"/>\n",
    "</center>"
   ]
  },
  {
   "cell_type": "code",
   "execution_count": null,
   "metadata": {},
   "outputs": [],
   "source": []
  },
  {
   "cell_type": "code",
   "execution_count": null,
   "metadata": {},
   "outputs": [],
   "source": [
    "assert entier('9') == 9\n",
    "assert entier('42') == 42\n",
    "assert entier('122') == 122\n",
    "assert entier('0') == 0\n",
    "assert entier('0012') == 12"
   ]
  },
  {
   "cell_type": "markdown",
   "metadata": {},
   "source": [
    "<center>\n",
    "    <img src=\"./pics/5.7.3.png\"\n",
    "         width=\"500\"\n",
    "         height=\"500\"/>\n",
    "</center>"
   ]
  },
  {
   "cell_type": "code",
   "execution_count": null,
   "metadata": {},
   "outputs": [],
   "source": []
  },
  {
   "cell_type": "code",
   "execution_count": null,
   "metadata": {},
   "outputs": [],
   "source": [
    "assert caractere(0) == '0'\n",
    "assert caractere(5) == '5'\n",
    "assert caractere(7) == '7'\n",
    "assert caractere(8) == '8'"
   ]
  },
  {
   "cell_type": "markdown",
   "metadata": {},
   "source": [
    "<center>\n",
    "    <img src=\"./pics/5.7.4.png\"\n",
    "         width=\"500\"\n",
    "         height=\"500\"/>\n",
    "</center>"
   ]
  },
  {
   "cell_type": "code",
   "execution_count": null,
   "metadata": {},
   "outputs": [],
   "source": []
  },
  {
   "cell_type": "code",
   "execution_count": null,
   "metadata": {},
   "outputs": [],
   "source": [
    "# Jeu de tests\n",
    "assert chaine(9) == '9'\n",
    "assert chaine(42) == '42'\n",
    "assert chaine(122) == '122'\n",
    "assert chaine(entier('49')) == '49'\n",
    "assert entier(chaine(49)) == 49"
   ]
  },
  {
   "cell_type": "code",
   "execution_count": null,
   "metadata": {},
   "outputs": [],
   "source": []
  }
 ],
 "metadata": {
  "celltoolbar": "Slideshow",
  "kernelspec": {
   "display_name": "Python 3",
   "language": "python",
   "name": "python3"
  },
  "language_info": {
   "codemirror_mode": {
    "name": "ipython",
    "version": 3
   },
   "file_extension": ".py",
   "mimetype": "text/x-python",
   "name": "python",
   "nbconvert_exporter": "python",
   "pygments_lexer": "ipython3",
   "version": "3.7.9"
  }
 },
 "nbformat": 4,
 "nbformat_minor": 4
}
