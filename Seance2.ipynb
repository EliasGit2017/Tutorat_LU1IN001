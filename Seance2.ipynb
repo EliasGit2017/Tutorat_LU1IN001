{
 "cells": [
  {
   "cell_type": "markdown",
   "metadata": {},
   "source": [
    "# Partie 2 : Listes , n-uplets, ensembles et dictionnaires"
   ]
  },
  {
   "cell_type": "code",
   "execution_count": null,
   "metadata": {},
   "outputs": [],
   "source": [
    "# Petits rappels sur les listes\n"
   ]
  },
  {
   "cell_type": "code",
   "execution_count": null,
   "metadata": {},
   "outputs": [],
   "source": []
  },
  {
   "cell_type": "code",
   "execution_count": null,
   "metadata": {},
   "outputs": [],
   "source": []
  },
  {
   "cell_type": "code",
   "execution_count": null,
   "metadata": {},
   "outputs": [],
   "source": []
  },
  {
   "cell_type": "markdown",
   "metadata": {},
   "source": [
    "<center>\n",
    "    <img src=\"./pics/6.7.png\"\n",
    "         width=\"700\"\n",
    "         heigth=\"700\"/>\n",
    "</center>"
   ]
  },
  {
   "cell_type": "code",
   "execution_count": null,
   "metadata": {},
   "outputs": [],
   "source": []
  },
  {
   "cell_type": "code",
   "execution_count": null,
   "metadata": {},
   "outputs": [],
   "source": [
    "# Jeu de tests\n",
    "assert list_mult([3,5, 2, 4], 5) == [15, 25, 10, 20]\n",
    "assert list_mult([3, 5, 2, 4], -1) == [-3, -5, -2, -4]\n",
    "assert list_mult([3, 5, 2, 4], 0) == [0, 0, 0, 0]\n",
    "assert list_mult([], 10) == []"
   ]
  },
  {
   "cell_type": "markdown",
   "metadata": {},
   "source": [
    "<center>\n",
    "    <img src=\"./pics/6.7.1.2.png\"\n",
    "         width=\"700\"\n",
    "         heigth=\"700\"/>\n",
    "</center>\n",
    "<center>\n",
    "    <img src=\"./pics/6.7.1.3.png\"\n",
    "         width=\"700\"\n",
    "         heigth=\"700\"/>\n",
    "</center>"
   ]
  },
  {
   "cell_type": "code",
   "execution_count": null,
   "metadata": {},
   "outputs": [],
   "source": []
  },
  {
   "cell_type": "code",
   "execution_count": null,
   "metadata": {},
   "outputs": [],
   "source": [
    "# Jeu de tests\n",
    "assert list_div([3, 45, 10, 8, 50, 1], 5) == [9, 2, 10]\n",
    "assert list_div([-3, 45, 10, 8, 50, 1], -3) == [1, -15]\n",
    "assert list_div([3, 5, 7, 11], 2) == []\n",
    "assert list_div([], 10) == []"
   ]
  },
  {
   "cell_type": "markdown",
   "metadata": {},
   "source": [
    "<center>\n",
    "    <img src=\"./pics/6.8.1.png\"\n",
    "         width=\"700\"\n",
    "         heigth=\"700\"/>\n",
    "</center>"
   ]
  },
  {
   "cell_type": "code",
   "execution_count": null,
   "metadata": {},
   "outputs": [],
   "source": []
  },
  {
   "cell_type": "code",
   "execution_count": null,
   "metadata": {},
   "outputs": [],
   "source": [
    "# Jeu de tests\n",
    "assert entrelacement([1, 2, 3], [4, 5, 6]) == [1, 4, 2, 5, 3, 6]\n",
    "assert entrelacement([\"p\", \"t\", \"o\"], [\"y\", \"h\", \"n\"]) == ['p', 'y', 't', 'h', 'o', 'n']\n",
    "assert entrelacement([], []) ==[]"
   ]
  },
  {
   "cell_type": "markdown",
   "metadata": {},
   "source": [
    "<center>\n",
    "    <img src=\"./pics/6.8.2.png\"\n",
    "         width=\"700\"\n",
    "         heigth=\"700\"/>\n",
    "</center>"
   ]
  },
  {
   "cell_type": "code",
   "execution_count": null,
   "metadata": {},
   "outputs": [],
   "source": []
  },
  {
   "cell_type": "code",
   "execution_count": null,
   "metadata": {},
   "outputs": [],
   "source": [
    "# Jeu de tests\n",
    "assert entrelacement_general([\"p\", \"t\", \"o\"], [\"y\", \"h\", \"n\"]) == ['p', 'y', 't', 'h', 'o', 'n']\n",
    "assert entrelacement_general([1, 2, 3], [4, 5, 6, 7, 8]) == [1, 4, 2, 5, 3, 6, 7, 8]\n",
    "assert entrelacement_general([1, 2, 3], []) == [1, 2, 3]\n",
    "assert entrelacement_general([1, 2, 3, 10, 11], [4, 5, 6]) == [1, 4, 2, 5, 3, 6, 10, 11]"
   ]
  },
  {
   "cell_type": "markdown",
   "metadata": {},
   "source": [
    "<center>\n",
    "    <img src=\"./pics/6.9.1.png\"\n",
    "         width=\"700\"\n",
    "         heigth=\"700\"/>\n",
    "</center>"
   ]
  },
  {
   "cell_type": "code",
   "execution_count": null,
   "metadata": {},
   "outputs": [],
   "source": []
  },
  {
   "cell_type": "code",
   "execution_count": null,
   "metadata": {},
   "outputs": [],
   "source": [
    "# Jeu de tests\n",
    "assert jonction(['un', 'deux', 'trois', 'quatre'], '.') == 'un.deux.trois.quatre'\n",
    "assert jonction(['les', 'mots', 'de', 'cette', 'phrase'], ' ') == 'les mots de cette phrase'\n",
    "assert jonction(['un'], '+') == 'un'\n",
    "assert jonction([], '+') == ''"
   ]
  },
  {
   "cell_type": "markdown",
   "metadata": {},
   "source": [
    "<center>\n",
    "    <img src=\"./pics/6.9.2.png\"\n",
    "         width=\"700\"\n",
    "         heigth=\"700\"/>\n",
    "</center>"
   ]
  },
  {
   "cell_type": "code",
   "execution_count": null,
   "metadata": {},
   "outputs": [],
   "source": []
  },
  {
   "cell_type": "code",
   "execution_count": null,
   "metadata": {},
   "outputs": [],
   "source": [
    "# Jeu de tests\n",
    "assert separation('un.deux.trois.quatre', '.') == ['un', 'deux', 'trois', 'quatre']\n",
    "assert separation('les mots de cette phrase', ' ') == ['les', 'mots', 'de', 'cette', 'phrase']\n",
    "assert separation('les mots de cette phrase', '.') == ['les mots de cette phrase']\n",
    "assert separation('', '+') == []"
   ]
  }
 ],
 "metadata": {
  "kernelspec": {
   "display_name": "Python 3.7.7 64-bit ('base')",
   "language": "python",
   "name": "python37764bitbasef6fd1bea82ee4fe7adc69a0c0d7a90e7"
  },
  "language_info": {
   "codemirror_mode": {
    "name": "ipython",
    "version": 3
   },
   "file_extension": ".py",
   "mimetype": "text/x-python",
   "name": "python",
   "nbconvert_exporter": "python",
   "pygments_lexer": "ipython3",
   "version": "3.7.9"
  }
 },
 "nbformat": 4,
 "nbformat_minor": 4
}
