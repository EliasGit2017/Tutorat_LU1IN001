{
 "cells": [
  {
   "cell_type": "markdown",
   "metadata": {},
   "source": [
    "# Partie 2 : Listes , n-uplets, ensembles et dictionnaires"
   ]
  },
  {
   "cell_type": "code",
   "execution_count": null,
   "metadata": {},
   "outputs": [],
   "source": [
    "# Petits rappels sur les listes\n"
   ]
  },
  {
   "cell_type": "code",
   "execution_count": 11,
   "metadata": {},
   "outputs": [],
   "source": [
    "L = [1, 2, 3, 4, 5, 6, 7]"
   ]
  },
  {
   "cell_type": "code",
   "execution_count": 12,
   "metadata": {},
   "outputs": [
    {
     "data": {
      "text/plain": [
       "[1, 2, 3, 4, 5, 6, 7]"
      ]
     },
     "execution_count": 12,
     "metadata": {},
     "output_type": "execute_result"
    }
   ],
   "source": [
    "L"
   ]
  },
  {
   "cell_type": "code",
   "execution_count": 3,
   "metadata": {},
   "outputs": [
    {
     "name": "stdout",
     "output_type": "stream",
     "text": [
      "1\n",
      "2\n",
      "3\n",
      "4\n",
      "5\n",
      "6\n",
      "7\n"
     ]
    }
   ],
   "source": [
    "for e in L:\n",
    "    print(e)"
   ]
  },
  {
   "cell_type": "code",
   "execution_count": 4,
   "metadata": {},
   "outputs": [
    {
     "data": {
      "text/plain": [
       "[2, 3, 4]"
      ]
     },
     "execution_count": 4,
     "metadata": {},
     "output_type": "execute_result"
    }
   ],
   "source": [
    "L[1:4]"
   ]
  },
  {
   "cell_type": "code",
   "execution_count": 5,
   "metadata": {},
   "outputs": [
    {
     "data": {
      "text/plain": [
       "7"
      ]
     },
     "execution_count": 5,
     "metadata": {},
     "output_type": "execute_result"
    }
   ],
   "source": [
    "L[-1]"
   ]
  },
  {
   "cell_type": "code",
   "execution_count": 14,
   "metadata": {},
   "outputs": [
    {
     "data": {
      "text/plain": [
       "[1, 2, 3, 4, 5, 6, 7, 8]"
      ]
     },
     "execution_count": 14,
     "metadata": {},
     "output_type": "execute_result"
    }
   ],
   "source": [
    "L = L + [8]\n",
    "L"
   ]
  },
  {
   "cell_type": "code",
   "execution_count": 15,
   "metadata": {},
   "outputs": [
    {
     "data": {
      "text/plain": [
       "[1, 2, 3, 4, 5, 6, 7, 8, 9]"
      ]
     },
     "execution_count": 15,
     "metadata": {},
     "output_type": "execute_result"
    }
   ],
   "source": [
    "L.append(9)\n",
    "L"
   ]
  },
  {
   "cell_type": "code",
   "execution_count": 16,
   "metadata": {},
   "outputs": [
    {
     "data": {
      "text/plain": [
       "[1, 3, 4, 5, 6, 7, 8, 9]"
      ]
     },
     "execution_count": 16,
     "metadata": {},
     "output_type": "execute_result"
    }
   ],
   "source": [
    "L.remove(2)\n",
    "L"
   ]
  },
  {
   "cell_type": "code",
   "execution_count": 17,
   "metadata": {},
   "outputs": [
    {
     "data": {
      "text/plain": [
       "[1, 3, 4, 5, 6, 7, 9]"
      ]
     },
     "execution_count": 17,
     "metadata": {},
     "output_type": "execute_result"
    }
   ],
   "source": [
    "L.remove(8)\n",
    "L"
   ]
  },
  {
   "cell_type": "code",
   "execution_count": 36,
   "metadata": {},
   "outputs": [
    {
     "name": "stdout",
     "output_type": "stream",
     "text": [
      "abdd\n",
      "dsada\n",
      "adad\n"
     ]
    }
   ],
   "source": [
    "L = [\"abdd\", \"dsada\", \"adad\"]\n",
    "for e in L:\n",
    "    print(e)"
   ]
  },
  {
   "cell_type": "markdown",
   "metadata": {},
   "source": [
    "<center>\n",
    "    <img src=\"./pics/6.7.png\"\n",
    "         width=\"700\"\n",
    "         heigth=\"700\"/>\n",
    "</center>"
   ]
  },
  {
   "cell_type": "code",
   "execution_count": 26,
   "metadata": {},
   "outputs": [
    {
     "ename": "NameError",
     "evalue": "name 'List' is not defined",
     "output_type": "error",
     "traceback": [
      "\u001b[0;31m---------------------------------------------------------------------------\u001b[0m",
      "\u001b[0;31mNameError\u001b[0m                                 Traceback (most recent call last)",
      "\u001b[0;32m<ipython-input-26-fcd99f366a28>\u001b[0m in \u001b[0;36m<module>\u001b[0;34m\u001b[0m\n\u001b[0;32m----> 1\u001b[0;31m \u001b[0;32mdef\u001b[0m \u001b[0mlist_mult\u001b[0m\u001b[0;34m(\u001b[0m \u001b[0ml\u001b[0m \u001b[0;34m:\u001b[0m \u001b[0mList\u001b[0m\u001b[0;34m[\u001b[0m\u001b[0mT\u001b[0m\u001b[0;34m]\u001b[0m \u001b[0;34m,\u001b[0m \u001b[0mk\u001b[0m \u001b[0;34m:\u001b[0m \u001b[0mint\u001b[0m\u001b[0;34m)\u001b[0m\u001b[0;34m:\u001b[0m\u001b[0;34m\u001b[0m\u001b[0;34m\u001b[0m\u001b[0m\n\u001b[0m\u001b[1;32m      2\u001b[0m     \u001b[0;34m\"\"\"Retourne la liste obtenue en multipliant par k tous les éléments de L.\"\"\"\u001b[0m\u001b[0;34m\u001b[0m\u001b[0;34m\u001b[0m\u001b[0m\n\u001b[1;32m      3\u001b[0m     \u001b[0mlres\u001b[0m \u001b[0;34m:\u001b[0m \u001b[0mList\u001b[0m\u001b[0;34m[\u001b[0m\u001b[0mint\u001b[0m\u001b[0;34m]\u001b[0m \u001b[0;34m=\u001b[0m \u001b[0;34m[\u001b[0m\u001b[0;34m]\u001b[0m\u001b[0;34m\u001b[0m\u001b[0;34m\u001b[0m\u001b[0m\n\u001b[1;32m      4\u001b[0m     \u001b[0mx\u001b[0m \u001b[0;34m:\u001b[0m \u001b[0mint\u001b[0m \u001b[0;31m# element courant\u001b[0m\u001b[0;34m\u001b[0m\u001b[0;34m\u001b[0m\u001b[0m\n\u001b[1;32m      5\u001b[0m     \u001b[0;32mfor\u001b[0m \u001b[0mx\u001b[0m \u001b[0;32min\u001b[0m \u001b[0ml\u001b[0m\u001b[0;34m:\u001b[0m\u001b[0;34m\u001b[0m\u001b[0;34m\u001b[0m\u001b[0m\n",
      "\u001b[0;31mNameError\u001b[0m: name 'List' is not defined"
     ]
    }
   ],
   "source": [
    "def list_mult( l : List[T] , k : int):\n",
    "    \"\"\"Retourne la liste obtenue en multipliant par k tous les éléments de L.\"\"\"\n",
    "    lres : List[int] = []\n",
    "    x : int # element courant\n",
    "    for x in l:\n",
    "        lres.append(x * k)\n",
    "    return lres"
   ]
  },
  {
   "cell_type": "code",
   "execution_count": 22,
   "metadata": {},
   "outputs": [],
   "source": [
    "# Jeu de tests\n",
    "assert list_mult([3,5, 2, 4], 5) == [15, 25, 10, 20]\n",
    "assert list_mult([3, 5, 2, 4], -1) == [-3, -5, -2, -4]\n",
    "assert list_mult([3, 5, 2, 4], 0) == [0, 0, 0, 0]\n",
    "assert list_mult([], 10) == []"
   ]
  },
  {
   "cell_type": "markdown",
   "metadata": {},
   "source": [
    "<center>\n",
    "    <img src=\"./pics/6.7.1.2.png\"\n",
    "         width=\"700\"\n",
    "         heigth=\"700\"/>\n",
    "</center>\n",
    "<center>\n",
    "    <img src=\"./pics/6.7.1.3.png\"\n",
    "         width=\"700\"\n",
    "         heigth=\"700\"/>\n",
    "</center>"
   ]
  },
  {
   "cell_type": "code",
   "execution_count": 31,
   "metadata": {},
   "outputs": [],
   "source": [
    "def list_div(l , k : int):\n",
    "    \"\"\"Precondition : k != 0\n",
    "    Retourne la liste obtenue en divisant par k les éléments de l\n",
    "    qui sont multiples de k et en supprimant les autres.\"\"\"\n",
    "    lres : List[int] = []\n",
    "    e : int\n",
    "    for e in l:\n",
    "        if e%k==0:\n",
    "            lres.append(e // k)\n",
    "    return lres"
   ]
  },
  {
   "cell_type": "code",
   "execution_count": 35,
   "metadata": {},
   "outputs": [
    {
     "name": "stdout",
     "output_type": "stream",
     "text": [
      "0\n",
      "1\n",
      "2\n",
      "3\n",
      "4\n",
      "5\n"
     ]
    },
    {
     "data": {
      "text/plain": [
       "[1, -15]"
      ]
     },
     "execution_count": 35,
     "metadata": {},
     "output_type": "execute_result"
    }
   ],
   "source": [
    "# version range\n",
    "def list_div(l , k : int):\n",
    "    \"\"\"Precondition : k != 0\n",
    "    Retourne la liste obtenue en divisant par k les éléments de l\n",
    "    qui sont multiples de k et en supprimant les autres.\"\"\"\n",
    "    lres : List[int] = []\n",
    "    indice : int\n",
    "    for indice in range(len(l)): # [0, 1 ,2 .... len(l) - 1]\n",
    "        print(indice)\n",
    "        if l[indice]%k == 0:\n",
    "            lres.append(l[indice] // k)\n",
    "    return lres\n",
    "list_div([-3, 45, 10, 8, 50, 1], -3)"
   ]
  },
  {
   "cell_type": "code",
   "execution_count": 34,
   "metadata": {},
   "outputs": [],
   "source": [
    "# Jeu de tests\n",
    "assert list_div([3, 45, 10, 8, 50, 1], 5) == [9, 2, 10]\n",
    "assert list_div([-3, 45, 10, 8, 50, 1], -3) == [1, -15]\n",
    "assert list_div([3, 5, 7, 11], 2) == []\n",
    "assert list_div([], 10) == []"
   ]
  },
  {
   "cell_type": "markdown",
   "metadata": {},
   "source": [
    "<center>\n",
    "    <img src=\"./pics/6.8.1.png\"\n",
    "         width=\"700\"\n",
    "         heigth=\"700\"/>\n",
    "</center>"
   ]
  },
  {
   "cell_type": "code",
   "execution_count": 39,
   "metadata": {},
   "outputs": [],
   "source": [
    " def entrelacement(l1 , l2):\n",
    "        \"\"\"Precondition : len(l1) == len(l2)\n",
    "        retourne la liste obtenue en intercalant les éléments de l1 et les éléments de l2\"\"\"\n",
    "        lres : List[T] = []\n",
    "        indice : int #indice de l'élément courant\n",
    "        for indice in range(len(l1)):\n",
    "            lres.append(l1[indice]) # lres = lres + [l1[indice]]\n",
    "            lres.append(l2[indice]) # lres = lres + [l2[indice]]   (lres += [l2[indice]])\n",
    "        return lres"
   ]
  },
  {
   "cell_type": "code",
   "execution_count": 40,
   "metadata": {},
   "outputs": [],
   "source": [
    "# Jeu de tests\n",
    "assert entrelacement([1, 2, 3], [4, 5, 6]) == [1, 4, 2, 5, 3, 6]\n",
    "assert entrelacement([\"p\", \"t\", \"o\"], [\"y\", \"h\", \"n\"]) == ['p', 'y', 't', 'h', 'o', 'n']\n",
    "assert entrelacement([], []) ==[]"
   ]
  },
  {
   "cell_type": "markdown",
   "metadata": {},
   "source": [
    "<center>\n",
    "    <img src=\"./pics/6.8.2.png\"\n",
    "         width=\"700\"\n",
    "         heigth=\"700\"/>\n",
    "</center>"
   ]
  },
  {
   "cell_type": "code",
   "execution_count": 46,
   "metadata": {},
   "outputs": [
    {
     "name": "stdout",
     "output_type": "stream",
     "text": [
      "taille de L1= 5\n",
      "taille de L2= 8\n"
     ]
    }
   ],
   "source": [
    "L1 = [1,2,3,4,5]\n",
    "L2 = [10, 11, 12, 13, 14, 15, 16, 17]\n",
    "print('taille de L1=',len(L1))\n",
    "print('taille de L2=',len(L2))"
   ]
  },
  {
   "cell_type": "code",
   "execution_count": 47,
   "metadata": {},
   "outputs": [
    {
     "data": {
      "text/plain": [
       "[10, 11, 12, 13, 14]"
      ]
     },
     "execution_count": 47,
     "metadata": {},
     "output_type": "execute_result"
    }
   ],
   "source": [
    "L2[:len(L1)]"
   ]
  },
  {
   "cell_type": "code",
   "execution_count": 50,
   "metadata": {},
   "outputs": [
    {
     "data": {
      "text/plain": [
       "[15, 16, 17]"
      ]
     },
     "execution_count": 50,
     "metadata": {},
     "output_type": "execute_result"
    }
   ],
   "source": [
    "L2[len(L1):]"
   ]
  },
  {
   "cell_type": "code",
   "execution_count": 51,
   "metadata": {},
   "outputs": [],
   "source": [
    "def entrelacement_general(l1 , l2):\n",
    "    \"\"\"Retourne la liste obtenue en intercalant les éléments de l1 et ceux de l2\"\"\"\n",
    "    if len(l1) == len(l2):\n",
    "        return entrelacement(l1, l2)\n",
    "    elif len(l1) < len(l2):\n",
    "        return entrelacement(l1, l2[:len(l1)]) + l2[len(l1):]\n",
    "    else:\n",
    "        return entrelacement(l1[:len(l2)], l2) + l1[len(l2):]"
   ]
  },
  {
   "cell_type": "code",
   "execution_count": 53,
   "metadata": {},
   "outputs": [],
   "source": [
    "def entrelacement_general(l1 , l2):\n",
    "    \"\"\"Retourne la liste obtenue en intercalant les éléments de l1 et ceux de l2\"\"\"\n",
    "    #liste résultat\n",
    "    lres : List[T] = []\n",
    "    \n",
    "    i : int # indice courant\n",
    "    for i in range(max(len(l1), len(l2))):\n",
    "        if i < len(l1):\n",
    "            lres.append(l1[i])\n",
    "        if i < len(l2):\n",
    "            lres.append(l2[i])\n",
    "    return lres"
   ]
  },
  {
   "cell_type": "code",
   "execution_count": 54,
   "metadata": {},
   "outputs": [],
   "source": [
    "# Jeu de tests\n",
    "assert entrelacement_general([\"p\", \"t\", \"o\"], [\"y\", \"h\", \"n\"]) == ['p', 'y', 't', 'h', 'o', 'n']\n",
    "assert entrelacement_general([1, 2, 3], [4, 5, 6, 7, 8]) == [1, 4, 2, 5, 3, 6, 7, 8]\n",
    "assert entrelacement_general([1, 2, 3], []) == [1, 2, 3]\n",
    "assert entrelacement_general([1, 2, 3, 10, 11], [4, 5, 6]) == [1, 4, 2, 5, 3, 6, 10, 11]"
   ]
  },
  {
   "cell_type": "markdown",
   "metadata": {},
   "source": [
    "<center>\n",
    "    <img src=\"./pics/6.9.1.png\"\n",
    "         width=\"700\"\n",
    "         heigth=\"700\"/>\n",
    "</center>"
   ]
  },
  {
   "cell_type": "code",
   "execution_count": 57,
   "metadata": {},
   "outputs": [],
   "source": [
    "def jonction(l , c : str) -> str:\n",
    "    \"\"\"Précondition : len(c) = 1\n",
    "    Retourne la chaîne composée de la jonction des\n",
    "    chaîne de L séparées deux-à-deux par le\n",
    "    caractère séparateur c.\n",
    "    \"\"\"\n",
    "    if len(l) == 0: # cas particulier, l est une liste vide\n",
    "        return ''\n",
    "    # chaîne résultat\n",
    "    r : str = l[0] # initialisation au premier élément de la liste\n",
    "    i : int = 1 # indice courant lors du parcours\n",
    "    while i < len(l):\n",
    "        r = r + c + l[i]\n",
    "        i = i +1\n",
    "    return r"
   ]
  },
  {
   "cell_type": "code",
   "execution_count": 61,
   "metadata": {},
   "outputs": [],
   "source": [
    "def jonction(l , c : str) -> str:\n",
    "    \"\"\"Précondition : len(c) = 1\n",
    "    Retourne la chaîne composée de la jonction des\n",
    "    chaîne de L séparées deux-à-deux par le\n",
    "    caractère séparateur c.\n",
    "    \"\"\"\n",
    "    if len(l) == 0: # cas particulier, l est une liste vide\n",
    "        return ''\n",
    "    # chaîne résultat\n",
    "    r : str = '' \n",
    "    i : int = 0 # indice courant lors du parcours\n",
    "    while i < len(l):\n",
    "        if i == 0:\n",
    "            r = r + l[i]\n",
    "            i = i + 1\n",
    "        else:\n",
    "            r = r + c + l[i]\n",
    "            i = i +1\n",
    "    return r"
   ]
  },
  {
   "cell_type": "code",
   "execution_count": 62,
   "metadata": {},
   "outputs": [],
   "source": [
    "# Jeu de tests\n",
    "assert jonction(['un', 'deux', 'trois', 'quatre'], '.') == 'un.deux.trois.quatre'\n",
    "assert jonction(['les', 'mots', 'de', 'cette', 'phrase'], ' ') == 'les mots de cette phrase'\n",
    "assert jonction(['un'], '+') == 'un'\n",
    "assert jonction([], '+') == ''"
   ]
  },
  {
   "cell_type": "markdown",
   "metadata": {},
   "source": [
    "<center>\n",
    "    <img src=\"./pics/6.9.2.png\"\n",
    "         width=\"700\"\n",
    "         heigth=\"700\"/>\n",
    "</center>"
   ]
  },
  {
   "cell_type": "code",
   "execution_count": 63,
   "metadata": {},
   "outputs": [
    {
     "data": {
      "text/plain": [
       "'uco'"
      ]
     },
     "execution_count": 63,
     "metadata": {},
     "output_type": "execute_result"
    }
   ],
   "source": [
    "a = \"coucou\"\n",
    "a[2:5]"
   ]
  },
  {
   "cell_type": "code",
   "execution_count": 70,
   "metadata": {},
   "outputs": [
    {
     "name": "stdout",
     "output_type": "stream",
     "text": [
      "ind_debut = 0\n",
      "ind_fin = 0\n",
      "Résultat courant []\n",
      "Sous-chaîne considérée à l'itération courante : \n",
      "ind_debut = 0\n",
      "ind_fin = 1\n",
      "Résultat courant []\n",
      "Sous-chaîne considérée à l'itération courante : u\n",
      "ind_debut = 0\n",
      "ind_fin = 2\n",
      "Résultat courant []\n",
      "Sous-chaîne considérée à l'itération courante : un\n",
      "ind_debut = 3\n",
      "ind_fin = 3\n",
      "Résultat courant ['un']\n",
      "Sous-chaîne considérée à l'itération courante : \n",
      "ind_debut = 3\n",
      "ind_fin = 4\n",
      "Résultat courant ['un']\n",
      "Sous-chaîne considérée à l'itération courante : d\n",
      "ind_debut = 3\n",
      "ind_fin = 5\n",
      "Résultat courant ['un']\n",
      "Sous-chaîne considérée à l'itération courante : de\n",
      "ind_debut = 3\n",
      "ind_fin = 6\n",
      "Résultat courant ['un']\n",
      "Sous-chaîne considérée à l'itération courante : deu\n",
      "ind_debut = 3\n",
      "ind_fin = 7\n",
      "Résultat courant ['un']\n",
      "Sous-chaîne considérée à l'itération courante : deux\n",
      "ind_debut = 8\n",
      "ind_fin = 8\n",
      "Résultat courant ['un', 'deux']\n",
      "Sous-chaîne considérée à l'itération courante : \n",
      "ind_debut = 8\n",
      "ind_fin = 9\n",
      "Résultat courant ['un', 'deux']\n",
      "Sous-chaîne considérée à l'itération courante : r\n",
      "ind_debut = 8\n",
      "ind_fin = 10\n",
      "Résultat courant ['un', 'deux']\n",
      "Sous-chaîne considérée à l'itération courante : ro\n",
      "ind_debut = 8\n",
      "ind_fin = 11\n",
      "Résultat courant ['un', 'deux']\n",
      "Sous-chaîne considérée à l'itération courante : roi\n",
      "ind_debut = 8\n",
      "ind_fin = 12\n",
      "Résultat courant ['un', 'deux']\n",
      "Sous-chaîne considérée à l'itération courante : rois\n",
      "ind_debut = 13\n",
      "ind_fin = 13\n",
      "Résultat courant ['un', 'deux', 'rois']\n",
      "Sous-chaîne considérée à l'itération courante : \n",
      "ind_debut = 13\n",
      "ind_fin = 14\n",
      "Résultat courant ['un', 'deux', 'rois']\n",
      "Sous-chaîne considérée à l'itération courante : q\n",
      "ind_debut = 13\n",
      "ind_fin = 15\n",
      "Résultat courant ['un', 'deux', 'rois']\n",
      "Sous-chaîne considérée à l'itération courante : qu\n",
      "ind_debut = 13\n",
      "ind_fin = 16\n",
      "Résultat courant ['un', 'deux', 'rois']\n",
      "Sous-chaîne considérée à l'itération courante : qua\n",
      "ind_debut = 13\n",
      "ind_fin = 17\n",
      "Résultat courant ['un', 'deux', 'rois']\n",
      "Sous-chaîne considérée à l'itération courante : quat\n",
      "ind_debut = 13\n",
      "ind_fin = 18\n",
      "Résultat courant ['un', 'deux', 'rois']\n",
      "Sous-chaîne considérée à l'itération courante : quatr\n"
     ]
    },
    {
     "data": {
      "text/plain": [
       "['un', 'deux', 'rois', 'quatre']"
      ]
     },
     "execution_count": 70,
     "metadata": {},
     "output_type": "execute_result"
    }
   ],
   "source": [
    "def separation(s : str, c : str):\n",
    "    \"\"\"Precondition : len(c) == 1\n",
    "    retourne la liste de chaînes composées des sous-chaînes de s séparées par le caractère séparateur c.\n",
    "    Le séparateur c n'est pas présent dans la chaîne résultat.\"\"\"\n",
    "    lres : List[str] = []\n",
    "    ind_debut : int = 0\n",
    "    ind_fin : int = 0\n",
    "    e : str # caractère courant\n",
    "    for e in s:\n",
    "        print('ind_debut =',ind_debut)\n",
    "        print('ind_fin =', ind_fin)\n",
    "        print('Résultat courant',lres)\n",
    "        print(\"Sous-chaîne considérée à l'itération courante :\", s[ind_debut:ind_fin])\n",
    "        if e==c:\n",
    "            if ind_fin > ind_debut:\n",
    "                lres.append(s[ind_debut:ind_fin])\n",
    "            ind_debut = ind_fin + 1\n",
    "            ind_fin = ind_debut\n",
    "        else:\n",
    "            ind_fin = ind_fin + 1\n",
    "    if ind_fin > ind_debut:\n",
    "        lres.append(s[ind_debut:ind_fin])\n",
    "    return lres\n",
    "separation('un.deux.rois.quatre', '.')"
   ]
  },
  {
   "cell_type": "code",
   "execution_count": 71,
   "metadata": {},
   "outputs": [
    {
     "name": "stdout",
     "output_type": "stream",
     "text": [
      "ind_debut = 0\n",
      "ind_fin = 0\n",
      "Résultat courant []\n",
      "Sous-chaîne considérée à l'itération courante : \n",
      "ind_debut = 0\n",
      "ind_fin = 1\n",
      "Résultat courant []\n",
      "Sous-chaîne considérée à l'itération courante : u\n",
      "ind_debut = 0\n",
      "ind_fin = 2\n",
      "Résultat courant []\n",
      "Sous-chaîne considérée à l'itération courante : un\n",
      "ind_debut = 3\n",
      "ind_fin = 3\n",
      "Résultat courant ['un']\n",
      "Sous-chaîne considérée à l'itération courante : \n",
      "ind_debut = 3\n",
      "ind_fin = 4\n",
      "Résultat courant ['un']\n",
      "Sous-chaîne considérée à l'itération courante : d\n",
      "ind_debut = 3\n",
      "ind_fin = 5\n",
      "Résultat courant ['un']\n",
      "Sous-chaîne considérée à l'itération courante : de\n",
      "ind_debut = 3\n",
      "ind_fin = 6\n",
      "Résultat courant ['un']\n",
      "Sous-chaîne considérée à l'itération courante : deu\n",
      "ind_debut = 3\n",
      "ind_fin = 7\n",
      "Résultat courant ['un']\n",
      "Sous-chaîne considérée à l'itération courante : deux\n",
      "ind_debut = 8\n",
      "ind_fin = 8\n",
      "Résultat courant ['un', 'deux']\n",
      "Sous-chaîne considérée à l'itération courante : \n",
      "ind_debut = 8\n",
      "ind_fin = 9\n",
      "Résultat courant ['un', 'deux']\n",
      "Sous-chaîne considérée à l'itération courante : t\n",
      "ind_debut = 8\n",
      "ind_fin = 10\n",
      "Résultat courant ['un', 'deux']\n",
      "Sous-chaîne considérée à l'itération courante : tr\n",
      "ind_debut = 8\n",
      "ind_fin = 11\n",
      "Résultat courant ['un', 'deux']\n",
      "Sous-chaîne considérée à l'itération courante : tro\n",
      "ind_debut = 8\n",
      "ind_fin = 12\n",
      "Résultat courant ['un', 'deux']\n",
      "Sous-chaîne considérée à l'itération courante : troi\n",
      "ind_debut = 8\n",
      "ind_fin = 13\n",
      "Résultat courant ['un', 'deux']\n",
      "Sous-chaîne considérée à l'itération courante : trois\n",
      "ind_debut = 14\n",
      "ind_fin = 14\n",
      "Résultat courant ['un', 'deux', 'trois']\n",
      "Sous-chaîne considérée à l'itération courante : \n",
      "ind_debut = 14\n",
      "ind_fin = 15\n",
      "Résultat courant ['un', 'deux', 'trois']\n",
      "Sous-chaîne considérée à l'itération courante : q\n",
      "ind_debut = 14\n",
      "ind_fin = 16\n",
      "Résultat courant ['un', 'deux', 'trois']\n",
      "Sous-chaîne considérée à l'itération courante : qu\n",
      "ind_debut = 14\n",
      "ind_fin = 17\n",
      "Résultat courant ['un', 'deux', 'trois']\n",
      "Sous-chaîne considérée à l'itération courante : qua\n",
      "ind_debut = 14\n",
      "ind_fin = 18\n",
      "Résultat courant ['un', 'deux', 'trois']\n",
      "Sous-chaîne considérée à l'itération courante : quat\n",
      "ind_debut = 14\n",
      "ind_fin = 19\n",
      "Résultat courant ['un', 'deux', 'trois']\n",
      "Sous-chaîne considérée à l'itération courante : quatr\n",
      "ind_debut = 0\n",
      "ind_fin = 0\n",
      "Résultat courant []\n",
      "Sous-chaîne considérée à l'itération courante : \n",
      "ind_debut = 0\n",
      "ind_fin = 1\n",
      "Résultat courant []\n",
      "Sous-chaîne considérée à l'itération courante : l\n",
      "ind_debut = 0\n",
      "ind_fin = 2\n",
      "Résultat courant []\n",
      "Sous-chaîne considérée à l'itération courante : le\n",
      "ind_debut = 0\n",
      "ind_fin = 3\n",
      "Résultat courant []\n",
      "Sous-chaîne considérée à l'itération courante : les\n",
      "ind_debut = 4\n",
      "ind_fin = 4\n",
      "Résultat courant ['les']\n",
      "Sous-chaîne considérée à l'itération courante : \n",
      "ind_debut = 4\n",
      "ind_fin = 5\n",
      "Résultat courant ['les']\n",
      "Sous-chaîne considérée à l'itération courante : m\n",
      "ind_debut = 4\n",
      "ind_fin = 6\n",
      "Résultat courant ['les']\n",
      "Sous-chaîne considérée à l'itération courante : mo\n",
      "ind_debut = 4\n",
      "ind_fin = 7\n",
      "Résultat courant ['les']\n",
      "Sous-chaîne considérée à l'itération courante : mot\n",
      "ind_debut = 4\n",
      "ind_fin = 8\n",
      "Résultat courant ['les']\n",
      "Sous-chaîne considérée à l'itération courante : mots\n",
      "ind_debut = 9\n",
      "ind_fin = 9\n",
      "Résultat courant ['les', 'mots']\n",
      "Sous-chaîne considérée à l'itération courante : \n",
      "ind_debut = 9\n",
      "ind_fin = 10\n",
      "Résultat courant ['les', 'mots']\n",
      "Sous-chaîne considérée à l'itération courante : d\n",
      "ind_debut = 9\n",
      "ind_fin = 11\n",
      "Résultat courant ['les', 'mots']\n",
      "Sous-chaîne considérée à l'itération courante : de\n",
      "ind_debut = 12\n",
      "ind_fin = 12\n",
      "Résultat courant ['les', 'mots', 'de']\n",
      "Sous-chaîne considérée à l'itération courante : \n",
      "ind_debut = 12\n",
      "ind_fin = 13\n",
      "Résultat courant ['les', 'mots', 'de']\n",
      "Sous-chaîne considérée à l'itération courante : c\n",
      "ind_debut = 12\n",
      "ind_fin = 14\n",
      "Résultat courant ['les', 'mots', 'de']\n",
      "Sous-chaîne considérée à l'itération courante : ce\n",
      "ind_debut = 12\n",
      "ind_fin = 15\n",
      "Résultat courant ['les', 'mots', 'de']\n",
      "Sous-chaîne considérée à l'itération courante : cet\n",
      "ind_debut = 12\n",
      "ind_fin = 16\n",
      "Résultat courant ['les', 'mots', 'de']\n",
      "Sous-chaîne considérée à l'itération courante : cett\n",
      "ind_debut = 12\n",
      "ind_fin = 17\n",
      "Résultat courant ['les', 'mots', 'de']\n",
      "Sous-chaîne considérée à l'itération courante : cette\n",
      "ind_debut = 18\n",
      "ind_fin = 18\n",
      "Résultat courant ['les', 'mots', 'de', 'cette']\n",
      "Sous-chaîne considérée à l'itération courante : \n",
      "ind_debut = 18\n",
      "ind_fin = 19\n",
      "Résultat courant ['les', 'mots', 'de', 'cette']\n",
      "Sous-chaîne considérée à l'itération courante : p\n",
      "ind_debut = 18\n",
      "ind_fin = 20\n",
      "Résultat courant ['les', 'mots', 'de', 'cette']\n",
      "Sous-chaîne considérée à l'itération courante : ph\n",
      "ind_debut = 18\n",
      "ind_fin = 21\n",
      "Résultat courant ['les', 'mots', 'de', 'cette']\n",
      "Sous-chaîne considérée à l'itération courante : phr\n",
      "ind_debut = 18\n",
      "ind_fin = 22\n",
      "Résultat courant ['les', 'mots', 'de', 'cette']\n",
      "Sous-chaîne considérée à l'itération courante : phra\n",
      "ind_debut = 18\n",
      "ind_fin = 23\n",
      "Résultat courant ['les', 'mots', 'de', 'cette']\n",
      "Sous-chaîne considérée à l'itération courante : phras\n",
      "ind_debut = 0\n",
      "ind_fin = 0\n",
      "Résultat courant []\n",
      "Sous-chaîne considérée à l'itération courante : \n",
      "ind_debut = 0\n",
      "ind_fin = 1\n",
      "Résultat courant []\n",
      "Sous-chaîne considérée à l'itération courante : l\n",
      "ind_debut = 0\n",
      "ind_fin = 2\n",
      "Résultat courant []\n",
      "Sous-chaîne considérée à l'itération courante : le\n",
      "ind_debut = 0\n",
      "ind_fin = 3\n",
      "Résultat courant []\n",
      "Sous-chaîne considérée à l'itération courante : les\n",
      "ind_debut = 0\n",
      "ind_fin = 4\n",
      "Résultat courant []\n",
      "Sous-chaîne considérée à l'itération courante : les \n",
      "ind_debut = 0\n",
      "ind_fin = 5\n",
      "Résultat courant []\n",
      "Sous-chaîne considérée à l'itération courante : les m\n",
      "ind_debut = 0\n",
      "ind_fin = 6\n",
      "Résultat courant []\n",
      "Sous-chaîne considérée à l'itération courante : les mo\n",
      "ind_debut = 0\n",
      "ind_fin = 7\n",
      "Résultat courant []\n",
      "Sous-chaîne considérée à l'itération courante : les mot\n",
      "ind_debut = 0\n",
      "ind_fin = 8\n",
      "Résultat courant []\n",
      "Sous-chaîne considérée à l'itération courante : les mots\n",
      "ind_debut = 0\n",
      "ind_fin = 9\n",
      "Résultat courant []\n",
      "Sous-chaîne considérée à l'itération courante : les mots \n",
      "ind_debut = 0\n",
      "ind_fin = 10\n",
      "Résultat courant []\n",
      "Sous-chaîne considérée à l'itération courante : les mots d\n",
      "ind_debut = 0\n",
      "ind_fin = 11\n",
      "Résultat courant []\n",
      "Sous-chaîne considérée à l'itération courante : les mots de\n",
      "ind_debut = 0\n",
      "ind_fin = 12\n",
      "Résultat courant []\n",
      "Sous-chaîne considérée à l'itération courante : les mots de \n",
      "ind_debut = 0\n",
      "ind_fin = 13\n",
      "Résultat courant []\n",
      "Sous-chaîne considérée à l'itération courante : les mots de c\n",
      "ind_debut = 0\n",
      "ind_fin = 14\n",
      "Résultat courant []\n",
      "Sous-chaîne considérée à l'itération courante : les mots de ce\n",
      "ind_debut = 0\n",
      "ind_fin = 15\n",
      "Résultat courant []\n",
      "Sous-chaîne considérée à l'itération courante : les mots de cet\n",
      "ind_debut = 0\n",
      "ind_fin = 16\n",
      "Résultat courant []\n",
      "Sous-chaîne considérée à l'itération courante : les mots de cett\n",
      "ind_debut = 0\n",
      "ind_fin = 17\n",
      "Résultat courant []\n",
      "Sous-chaîne considérée à l'itération courante : les mots de cette\n",
      "ind_debut = 0\n",
      "ind_fin = 18\n",
      "Résultat courant []\n",
      "Sous-chaîne considérée à l'itération courante : les mots de cette \n",
      "ind_debut = 0\n",
      "ind_fin = 19\n",
      "Résultat courant []\n",
      "Sous-chaîne considérée à l'itération courante : les mots de cette p\n",
      "ind_debut = 0\n",
      "ind_fin = 20\n",
      "Résultat courant []\n",
      "Sous-chaîne considérée à l'itération courante : les mots de cette ph\n",
      "ind_debut = 0\n",
      "ind_fin = 21\n",
      "Résultat courant []\n",
      "Sous-chaîne considérée à l'itération courante : les mots de cette phr\n",
      "ind_debut = 0\n",
      "ind_fin = 22\n",
      "Résultat courant []\n",
      "Sous-chaîne considérée à l'itération courante : les mots de cette phra\n",
      "ind_debut = 0\n",
      "ind_fin = 23\n",
      "Résultat courant []\n",
      "Sous-chaîne considérée à l'itération courante : les mots de cette phras\n"
     ]
    }
   ],
   "source": [
    "# Jeu de tests\n",
    "assert separation('un.deux.trois.quatre', '.') == ['un', 'deux', 'trois', 'quatre']\n",
    "assert separation('les mots de cette phrase', ' ') == ['les', 'mots', 'de', 'cette', 'phrase']\n",
    "assert separation('les mots de cette phrase', '.') == ['les mots de cette phrase']\n",
    "assert separation('', '+') == []"
   ]
  },
  {
   "cell_type": "code",
   "execution_count": 68,
   "metadata": {},
   "outputs": [
    {
     "data": {
      "text/plain": [
       "['un', 'deux', 'trois', 'quatre']"
      ]
     },
     "execution_count": 68,
     "metadata": {},
     "output_type": "execute_result"
    }
   ],
   "source": [
    "'un.deux.trois.quatre'.split('.')"
   ]
  },
  {
   "cell_type": "code",
   "execution_count": null,
   "metadata": {},
   "outputs": [],
   "source": []
  }
 ],
 "metadata": {
  "kernelspec": {
   "display_name": "Python 3.7.7 64-bit ('base')",
   "language": "python",
   "name": "python37764bitbasef6fd1bea82ee4fe7adc69a0c0d7a90e7"
  },
  "language_info": {
   "codemirror_mode": {
    "name": "ipython",
    "version": 3
   },
   "file_extension": ".py",
   "mimetype": "text/x-python",
   "name": "python",
   "nbconvert_exporter": "python",
   "pygments_lexer": "ipython3",
   "version": "3.7.9"
  }
 },
 "nbformat": 4,
 "nbformat_minor": 4
}
